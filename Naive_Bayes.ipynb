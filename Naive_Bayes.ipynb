{
  "nbformat": 4,
  "nbformat_minor": 0,
  "metadata": {
    "colab": {
      "provenance": [],
      "authorship_tag": "ABX9TyOTLFNR/G3TwjbvhbiXBiXi"
    },
    "kernelspec": {
      "name": "python3",
      "display_name": "Python 3"
    },
    "language_info": {
      "name": "python"
    }
  },
  "cells": [
    {
      "cell_type": "markdown",
      "source": [
        "### import library"
      ],
      "metadata": {
        "id": "mifLEY1gsBIg"
      }
    },
    {
      "cell_type": "code",
      "execution_count": 1,
      "metadata": {
        "id": "DG3yaMo50xPj"
      },
      "outputs": [],
      "source": [
        "import numpy as np\n",
        "import pandas as pd\n",
        "import matplotlib.pyplot as plt\n",
        "from matplotlib.patches import Ellipse\n",
        "import matplotlib.pyplot as plt\n",
        "import seaborn as sns\n",
        "from scipy.signal import find_peaks\n",
        "from scipy import signal\n",
        "from scipy.integrate import trapz\n",
        "from scipy.interpolate import interp1d\n",
        "import seaborn as sns"
      ]
    },
    {
      "cell_type": "markdown",
      "source": [
        "### load data frame"
      ],
      "metadata": {
        "id": "W41l3-C5y-sx"
      }
    },
    {
      "cell_type": "code",
      "source": [
        "from google.colab import drive\n",
        "drive.mount('/content/drive')"
      ],
      "metadata": {
        "colab": {
          "base_uri": "https://localhost:8080/"
        },
        "outputId": "a926add8-97ea-4abc-abfe-db3c1d670e13",
        "id": "MTahUVU1y-sz"
      },
      "execution_count": 2,
      "outputs": [
        {
          "output_type": "stream",
          "name": "stdout",
          "text": [
            "Mounted at /content/drive\n"
          ]
        }
      ]
    },
    {
      "cell_type": "code",
      "source": [
        "dff = pd.read_csv('/content/drive/MyDrive/final-project-tesis/DATA/DATA_NEW.csv', encoding='utf-8')\n",
        "df1 = dff[['HR_KUBIOS',\t'HR_BEATS',\t'RR_MS', 'RMSSD',\t'STD_HR',\t'STD_RR','VLF_MS2','LF_MS2', 'TOTAL_MS2','LF_PER_HF','VLF_HZ','LF_HZ','HF_HZ','LF_NU','HF_NU', 'class'\t]]\n",
        "df1.head()"
      ],
      "metadata": {
        "colab": {
          "base_uri": "https://localhost:8080/",
          "height": 206
        },
        "outputId": "1ddb1735-bb0b-4cf1-c322-47046e085605",
        "id": "hk_rNkWWy-s1"
      },
      "execution_count": 3,
      "outputs": [
        {
          "output_type": "execute_result",
          "data": {
            "text/plain": [
              "   HR_KUBIOS  HR_BEATS    RR_MS   RMSSD  STD_HR  STD_RR  VLF_MS2  LF_MS2  \\\n",
              "0     58.770     58.77  1021.66  30.930   1.731   28.33     1.32    2.96   \n",
              "1     60.310     60.48   994.72  62.190   3.270   49.91     0.61    2.47   \n",
              "2     61.114     61.17   981.76  26.855   1.820   29.94     0.53    6.37   \n",
              "3     59.710     59.71  1004.78  10.870   0.540    9.26     0.00    0.42   \n",
              "4     77.480     77.48   774.34   7.970   0.490    4.95     0.00    0.01   \n",
              "\n",
              "   TOTAL_MS2  LF_PER_HF  VLF_HZ  LF_HZ  HF_HZ  LF_NU  HF_NU  class  \n",
              "0       7.17       1.03    0.03   0.06   0.31  50.66  49.34      1  \n",
              "1      14.28       0.22    0.03   0.14   0.17  18.10  81.90      1  \n",
              "2       8.16       5.03    0.03   0.09   0.22  83.43  16.57      1  \n",
              "3       0.59       2.43    0.00   0.09   0.31  70.87  29.13      1  \n",
              "4       0.09       0.13    0.00   0.06   0.35  11.40  88.60      1  "
            ],
            "text/html": [
              "\n",
              "  <div id=\"df-3e89fe3e-6d20-4b27-a644-8e853022181e\">\n",
              "    <div class=\"colab-df-container\">\n",
              "      <div>\n",
              "<style scoped>\n",
              "    .dataframe tbody tr th:only-of-type {\n",
              "        vertical-align: middle;\n",
              "    }\n",
              "\n",
              "    .dataframe tbody tr th {\n",
              "        vertical-align: top;\n",
              "    }\n",
              "\n",
              "    .dataframe thead th {\n",
              "        text-align: right;\n",
              "    }\n",
              "</style>\n",
              "<table border=\"1\" class=\"dataframe\">\n",
              "  <thead>\n",
              "    <tr style=\"text-align: right;\">\n",
              "      <th></th>\n",
              "      <th>HR_KUBIOS</th>\n",
              "      <th>HR_BEATS</th>\n",
              "      <th>RR_MS</th>\n",
              "      <th>RMSSD</th>\n",
              "      <th>STD_HR</th>\n",
              "      <th>STD_RR</th>\n",
              "      <th>VLF_MS2</th>\n",
              "      <th>LF_MS2</th>\n",
              "      <th>TOTAL_MS2</th>\n",
              "      <th>LF_PER_HF</th>\n",
              "      <th>VLF_HZ</th>\n",
              "      <th>LF_HZ</th>\n",
              "      <th>HF_HZ</th>\n",
              "      <th>LF_NU</th>\n",
              "      <th>HF_NU</th>\n",
              "      <th>class</th>\n",
              "    </tr>\n",
              "  </thead>\n",
              "  <tbody>\n",
              "    <tr>\n",
              "      <th>0</th>\n",
              "      <td>58.770</td>\n",
              "      <td>58.77</td>\n",
              "      <td>1021.66</td>\n",
              "      <td>30.930</td>\n",
              "      <td>1.731</td>\n",
              "      <td>28.33</td>\n",
              "      <td>1.32</td>\n",
              "      <td>2.96</td>\n",
              "      <td>7.17</td>\n",
              "      <td>1.03</td>\n",
              "      <td>0.03</td>\n",
              "      <td>0.06</td>\n",
              "      <td>0.31</td>\n",
              "      <td>50.66</td>\n",
              "      <td>49.34</td>\n",
              "      <td>1</td>\n",
              "    </tr>\n",
              "    <tr>\n",
              "      <th>1</th>\n",
              "      <td>60.310</td>\n",
              "      <td>60.48</td>\n",
              "      <td>994.72</td>\n",
              "      <td>62.190</td>\n",
              "      <td>3.270</td>\n",
              "      <td>49.91</td>\n",
              "      <td>0.61</td>\n",
              "      <td>2.47</td>\n",
              "      <td>14.28</td>\n",
              "      <td>0.22</td>\n",
              "      <td>0.03</td>\n",
              "      <td>0.14</td>\n",
              "      <td>0.17</td>\n",
              "      <td>18.10</td>\n",
              "      <td>81.90</td>\n",
              "      <td>1</td>\n",
              "    </tr>\n",
              "    <tr>\n",
              "      <th>2</th>\n",
              "      <td>61.114</td>\n",
              "      <td>61.17</td>\n",
              "      <td>981.76</td>\n",
              "      <td>26.855</td>\n",
              "      <td>1.820</td>\n",
              "      <td>29.94</td>\n",
              "      <td>0.53</td>\n",
              "      <td>6.37</td>\n",
              "      <td>8.16</td>\n",
              "      <td>5.03</td>\n",
              "      <td>0.03</td>\n",
              "      <td>0.09</td>\n",
              "      <td>0.22</td>\n",
              "      <td>83.43</td>\n",
              "      <td>16.57</td>\n",
              "      <td>1</td>\n",
              "    </tr>\n",
              "    <tr>\n",
              "      <th>3</th>\n",
              "      <td>59.710</td>\n",
              "      <td>59.71</td>\n",
              "      <td>1004.78</td>\n",
              "      <td>10.870</td>\n",
              "      <td>0.540</td>\n",
              "      <td>9.26</td>\n",
              "      <td>0.00</td>\n",
              "      <td>0.42</td>\n",
              "      <td>0.59</td>\n",
              "      <td>2.43</td>\n",
              "      <td>0.00</td>\n",
              "      <td>0.09</td>\n",
              "      <td>0.31</td>\n",
              "      <td>70.87</td>\n",
              "      <td>29.13</td>\n",
              "      <td>1</td>\n",
              "    </tr>\n",
              "    <tr>\n",
              "      <th>4</th>\n",
              "      <td>77.480</td>\n",
              "      <td>77.48</td>\n",
              "      <td>774.34</td>\n",
              "      <td>7.970</td>\n",
              "      <td>0.490</td>\n",
              "      <td>4.95</td>\n",
              "      <td>0.00</td>\n",
              "      <td>0.01</td>\n",
              "      <td>0.09</td>\n",
              "      <td>0.13</td>\n",
              "      <td>0.00</td>\n",
              "      <td>0.06</td>\n",
              "      <td>0.35</td>\n",
              "      <td>11.40</td>\n",
              "      <td>88.60</td>\n",
              "      <td>1</td>\n",
              "    </tr>\n",
              "  </tbody>\n",
              "</table>\n",
              "</div>\n",
              "      <button class=\"colab-df-convert\" onclick=\"convertToInteractive('df-3e89fe3e-6d20-4b27-a644-8e853022181e')\"\n",
              "              title=\"Convert this dataframe to an interactive table.\"\n",
              "              style=\"display:none;\">\n",
              "        \n",
              "  <svg xmlns=\"http://www.w3.org/2000/svg\" height=\"24px\"viewBox=\"0 0 24 24\"\n",
              "       width=\"24px\">\n",
              "    <path d=\"M0 0h24v24H0V0z\" fill=\"none\"/>\n",
              "    <path d=\"M18.56 5.44l.94 2.06.94-2.06 2.06-.94-2.06-.94-.94-2.06-.94 2.06-2.06.94zm-11 1L8.5 8.5l.94-2.06 2.06-.94-2.06-.94L8.5 2.5l-.94 2.06-2.06.94zm10 10l.94 2.06.94-2.06 2.06-.94-2.06-.94-.94-2.06-.94 2.06-2.06.94z\"/><path d=\"M17.41 7.96l-1.37-1.37c-.4-.4-.92-.59-1.43-.59-.52 0-1.04.2-1.43.59L10.3 9.45l-7.72 7.72c-.78.78-.78 2.05 0 2.83L4 21.41c.39.39.9.59 1.41.59.51 0 1.02-.2 1.41-.59l7.78-7.78 2.81-2.81c.8-.78.8-2.07 0-2.86zM5.41 20L4 18.59l7.72-7.72 1.47 1.35L5.41 20z\"/>\n",
              "  </svg>\n",
              "      </button>\n",
              "      \n",
              "  <style>\n",
              "    .colab-df-container {\n",
              "      display:flex;\n",
              "      flex-wrap:wrap;\n",
              "      gap: 12px;\n",
              "    }\n",
              "\n",
              "    .colab-df-convert {\n",
              "      background-color: #E8F0FE;\n",
              "      border: none;\n",
              "      border-radius: 50%;\n",
              "      cursor: pointer;\n",
              "      display: none;\n",
              "      fill: #1967D2;\n",
              "      height: 32px;\n",
              "      padding: 0 0 0 0;\n",
              "      width: 32px;\n",
              "    }\n",
              "\n",
              "    .colab-df-convert:hover {\n",
              "      background-color: #E2EBFA;\n",
              "      box-shadow: 0px 1px 2px rgba(60, 64, 67, 0.3), 0px 1px 3px 1px rgba(60, 64, 67, 0.15);\n",
              "      fill: #174EA6;\n",
              "    }\n",
              "\n",
              "    [theme=dark] .colab-df-convert {\n",
              "      background-color: #3B4455;\n",
              "      fill: #D2E3FC;\n",
              "    }\n",
              "\n",
              "    [theme=dark] .colab-df-convert:hover {\n",
              "      background-color: #434B5C;\n",
              "      box-shadow: 0px 1px 3px 1px rgba(0, 0, 0, 0.15);\n",
              "      filter: drop-shadow(0px 1px 2px rgba(0, 0, 0, 0.3));\n",
              "      fill: #FFFFFF;\n",
              "    }\n",
              "  </style>\n",
              "\n",
              "      <script>\n",
              "        const buttonEl =\n",
              "          document.querySelector('#df-3e89fe3e-6d20-4b27-a644-8e853022181e button.colab-df-convert');\n",
              "        buttonEl.style.display =\n",
              "          google.colab.kernel.accessAllowed ? 'block' : 'none';\n",
              "\n",
              "        async function convertToInteractive(key) {\n",
              "          const element = document.querySelector('#df-3e89fe3e-6d20-4b27-a644-8e853022181e');\n",
              "          const dataTable =\n",
              "            await google.colab.kernel.invokeFunction('convertToInteractive',\n",
              "                                                     [key], {});\n",
              "          if (!dataTable) return;\n",
              "\n",
              "          const docLinkHtml = 'Like what you see? Visit the ' +\n",
              "            '<a target=\"_blank\" href=https://colab.research.google.com/notebooks/data_table.ipynb>data table notebook</a>'\n",
              "            + ' to learn more about interactive tables.';\n",
              "          element.innerHTML = '';\n",
              "          dataTable['output_type'] = 'display_data';\n",
              "          await google.colab.output.renderOutput(dataTable, element);\n",
              "          const docLink = document.createElement('div');\n",
              "          docLink.innerHTML = docLinkHtml;\n",
              "          element.appendChild(docLink);\n",
              "        }\n",
              "      </script>\n",
              "    </div>\n",
              "  </div>\n",
              "  "
            ]
          },
          "metadata": {},
          "execution_count": 3
        }
      ]
    },
    {
      "cell_type": "code",
      "source": [],
      "metadata": {
        "id": "0QlT3oKIy-s3"
      },
      "execution_count": 3,
      "outputs": []
    },
    {
      "cell_type": "markdown",
      "source": [
        "### normalisasi"
      ],
      "metadata": {
        "id": "LneJIFbtvyzm"
      }
    },
    {
      "cell_type": "code",
      "source": [
        "#function of normalization\n",
        "def norm (x):\n",
        "  #from sklearn import preprocessing\n",
        "  import numpy as np\n",
        "  hasil = (x-x.min())/(x.max()-x.min())\n",
        "  return(hasil)"
      ],
      "metadata": {
        "id": "aUUNhQM-v1VM"
      },
      "execution_count": 4,
      "outputs": []
    },
    {
      "cell_type": "code",
      "source": [
        "# normalisasi data\n",
        "df = norm(df1)\n",
        "# menampilkan data\n",
        "df.head()"
      ],
      "metadata": {
        "colab": {
          "base_uri": "https://localhost:8080/",
          "height": 206
        },
        "id": "azxNBVwiv18X",
        "outputId": "b1056370-3016-4fbf-87e2-41fe00bf3ee4"
      },
      "execution_count": 5,
      "outputs": [
        {
          "output_type": "execute_result",
          "data": {
            "text/plain": [
              "   HR_KUBIOS  HR_BEATS     RR_MS     RMSSD    STD_HR    STD_RR   VLF_MS2  \\\n",
              "0   0.144780  0.206826  0.499039  0.019620  0.010583  0.023927  0.025162   \n",
              "1   0.153873  0.213289  0.480546  0.039449  0.019991  0.042154  0.011628   \n",
              "2   0.158621  0.215897  0.471650  0.017035  0.011127  0.025287  0.010103   \n",
              "3   0.150331  0.210379  0.487452  0.006895  0.003301  0.007821  0.000000   \n",
              "4   0.255255  0.277545  0.329270  0.005056  0.002996  0.004181  0.000000   \n",
              "\n",
              "     LF_MS2  TOTAL_MS2  LF_PER_HF  VLF_HZ     LF_HZ  HF_HZ     LF_NU  \\\n",
              "0  0.013954   0.007428   0.055948    0.75  0.181818   0.64  0.534106   \n",
              "1  0.011644   0.014793   0.011950    0.75  0.909091   0.08  0.190828   \n",
              "2  0.030030   0.008453   0.273221    0.75  0.454545   0.28  0.879599   \n",
              "3  0.001980   0.000611   0.131993    0.00  0.454545   0.64  0.747180   \n",
              "4  0.000047   0.000093   0.007061    0.00  0.181818   0.80  0.120190   \n",
              "\n",
              "      HF_NU  class  \n",
              "0  0.465894    1.0  \n",
              "1  0.809172    1.0  \n",
              "2  0.120401    1.0  \n",
              "3  0.252820    1.0  \n",
              "4  0.879810    1.0  "
            ],
            "text/html": [
              "\n",
              "  <div id=\"df-aa3e2044-173e-4dea-b007-327d6b186ecf\">\n",
              "    <div class=\"colab-df-container\">\n",
              "      <div>\n",
              "<style scoped>\n",
              "    .dataframe tbody tr th:only-of-type {\n",
              "        vertical-align: middle;\n",
              "    }\n",
              "\n",
              "    .dataframe tbody tr th {\n",
              "        vertical-align: top;\n",
              "    }\n",
              "\n",
              "    .dataframe thead th {\n",
              "        text-align: right;\n",
              "    }\n",
              "</style>\n",
              "<table border=\"1\" class=\"dataframe\">\n",
              "  <thead>\n",
              "    <tr style=\"text-align: right;\">\n",
              "      <th></th>\n",
              "      <th>HR_KUBIOS</th>\n",
              "      <th>HR_BEATS</th>\n",
              "      <th>RR_MS</th>\n",
              "      <th>RMSSD</th>\n",
              "      <th>STD_HR</th>\n",
              "      <th>STD_RR</th>\n",
              "      <th>VLF_MS2</th>\n",
              "      <th>LF_MS2</th>\n",
              "      <th>TOTAL_MS2</th>\n",
              "      <th>LF_PER_HF</th>\n",
              "      <th>VLF_HZ</th>\n",
              "      <th>LF_HZ</th>\n",
              "      <th>HF_HZ</th>\n",
              "      <th>LF_NU</th>\n",
              "      <th>HF_NU</th>\n",
              "      <th>class</th>\n",
              "    </tr>\n",
              "  </thead>\n",
              "  <tbody>\n",
              "    <tr>\n",
              "      <th>0</th>\n",
              "      <td>0.144780</td>\n",
              "      <td>0.206826</td>\n",
              "      <td>0.499039</td>\n",
              "      <td>0.019620</td>\n",
              "      <td>0.010583</td>\n",
              "      <td>0.023927</td>\n",
              "      <td>0.025162</td>\n",
              "      <td>0.013954</td>\n",
              "      <td>0.007428</td>\n",
              "      <td>0.055948</td>\n",
              "      <td>0.75</td>\n",
              "      <td>0.181818</td>\n",
              "      <td>0.64</td>\n",
              "      <td>0.534106</td>\n",
              "      <td>0.465894</td>\n",
              "      <td>1.0</td>\n",
              "    </tr>\n",
              "    <tr>\n",
              "      <th>1</th>\n",
              "      <td>0.153873</td>\n",
              "      <td>0.213289</td>\n",
              "      <td>0.480546</td>\n",
              "      <td>0.039449</td>\n",
              "      <td>0.019991</td>\n",
              "      <td>0.042154</td>\n",
              "      <td>0.011628</td>\n",
              "      <td>0.011644</td>\n",
              "      <td>0.014793</td>\n",
              "      <td>0.011950</td>\n",
              "      <td>0.75</td>\n",
              "      <td>0.909091</td>\n",
              "      <td>0.08</td>\n",
              "      <td>0.190828</td>\n",
              "      <td>0.809172</td>\n",
              "      <td>1.0</td>\n",
              "    </tr>\n",
              "    <tr>\n",
              "      <th>2</th>\n",
              "      <td>0.158621</td>\n",
              "      <td>0.215897</td>\n",
              "      <td>0.471650</td>\n",
              "      <td>0.017035</td>\n",
              "      <td>0.011127</td>\n",
              "      <td>0.025287</td>\n",
              "      <td>0.010103</td>\n",
              "      <td>0.030030</td>\n",
              "      <td>0.008453</td>\n",
              "      <td>0.273221</td>\n",
              "      <td>0.75</td>\n",
              "      <td>0.454545</td>\n",
              "      <td>0.28</td>\n",
              "      <td>0.879599</td>\n",
              "      <td>0.120401</td>\n",
              "      <td>1.0</td>\n",
              "    </tr>\n",
              "    <tr>\n",
              "      <th>3</th>\n",
              "      <td>0.150331</td>\n",
              "      <td>0.210379</td>\n",
              "      <td>0.487452</td>\n",
              "      <td>0.006895</td>\n",
              "      <td>0.003301</td>\n",
              "      <td>0.007821</td>\n",
              "      <td>0.000000</td>\n",
              "      <td>0.001980</td>\n",
              "      <td>0.000611</td>\n",
              "      <td>0.131993</td>\n",
              "      <td>0.00</td>\n",
              "      <td>0.454545</td>\n",
              "      <td>0.64</td>\n",
              "      <td>0.747180</td>\n",
              "      <td>0.252820</td>\n",
              "      <td>1.0</td>\n",
              "    </tr>\n",
              "    <tr>\n",
              "      <th>4</th>\n",
              "      <td>0.255255</td>\n",
              "      <td>0.277545</td>\n",
              "      <td>0.329270</td>\n",
              "      <td>0.005056</td>\n",
              "      <td>0.002996</td>\n",
              "      <td>0.004181</td>\n",
              "      <td>0.000000</td>\n",
              "      <td>0.000047</td>\n",
              "      <td>0.000093</td>\n",
              "      <td>0.007061</td>\n",
              "      <td>0.00</td>\n",
              "      <td>0.181818</td>\n",
              "      <td>0.80</td>\n",
              "      <td>0.120190</td>\n",
              "      <td>0.879810</td>\n",
              "      <td>1.0</td>\n",
              "    </tr>\n",
              "  </tbody>\n",
              "</table>\n",
              "</div>\n",
              "      <button class=\"colab-df-convert\" onclick=\"convertToInteractive('df-aa3e2044-173e-4dea-b007-327d6b186ecf')\"\n",
              "              title=\"Convert this dataframe to an interactive table.\"\n",
              "              style=\"display:none;\">\n",
              "        \n",
              "  <svg xmlns=\"http://www.w3.org/2000/svg\" height=\"24px\"viewBox=\"0 0 24 24\"\n",
              "       width=\"24px\">\n",
              "    <path d=\"M0 0h24v24H0V0z\" fill=\"none\"/>\n",
              "    <path d=\"M18.56 5.44l.94 2.06.94-2.06 2.06-.94-2.06-.94-.94-2.06-.94 2.06-2.06.94zm-11 1L8.5 8.5l.94-2.06 2.06-.94-2.06-.94L8.5 2.5l-.94 2.06-2.06.94zm10 10l.94 2.06.94-2.06 2.06-.94-2.06-.94-.94-2.06-.94 2.06-2.06.94z\"/><path d=\"M17.41 7.96l-1.37-1.37c-.4-.4-.92-.59-1.43-.59-.52 0-1.04.2-1.43.59L10.3 9.45l-7.72 7.72c-.78.78-.78 2.05 0 2.83L4 21.41c.39.39.9.59 1.41.59.51 0 1.02-.2 1.41-.59l7.78-7.78 2.81-2.81c.8-.78.8-2.07 0-2.86zM5.41 20L4 18.59l7.72-7.72 1.47 1.35L5.41 20z\"/>\n",
              "  </svg>\n",
              "      </button>\n",
              "      \n",
              "  <style>\n",
              "    .colab-df-container {\n",
              "      display:flex;\n",
              "      flex-wrap:wrap;\n",
              "      gap: 12px;\n",
              "    }\n",
              "\n",
              "    .colab-df-convert {\n",
              "      background-color: #E8F0FE;\n",
              "      border: none;\n",
              "      border-radius: 50%;\n",
              "      cursor: pointer;\n",
              "      display: none;\n",
              "      fill: #1967D2;\n",
              "      height: 32px;\n",
              "      padding: 0 0 0 0;\n",
              "      width: 32px;\n",
              "    }\n",
              "\n",
              "    .colab-df-convert:hover {\n",
              "      background-color: #E2EBFA;\n",
              "      box-shadow: 0px 1px 2px rgba(60, 64, 67, 0.3), 0px 1px 3px 1px rgba(60, 64, 67, 0.15);\n",
              "      fill: #174EA6;\n",
              "    }\n",
              "\n",
              "    [theme=dark] .colab-df-convert {\n",
              "      background-color: #3B4455;\n",
              "      fill: #D2E3FC;\n",
              "    }\n",
              "\n",
              "    [theme=dark] .colab-df-convert:hover {\n",
              "      background-color: #434B5C;\n",
              "      box-shadow: 0px 1px 3px 1px rgba(0, 0, 0, 0.15);\n",
              "      filter: drop-shadow(0px 1px 2px rgba(0, 0, 0, 0.3));\n",
              "      fill: #FFFFFF;\n",
              "    }\n",
              "  </style>\n",
              "\n",
              "      <script>\n",
              "        const buttonEl =\n",
              "          document.querySelector('#df-aa3e2044-173e-4dea-b007-327d6b186ecf button.colab-df-convert');\n",
              "        buttonEl.style.display =\n",
              "          google.colab.kernel.accessAllowed ? 'block' : 'none';\n",
              "\n",
              "        async function convertToInteractive(key) {\n",
              "          const element = document.querySelector('#df-aa3e2044-173e-4dea-b007-327d6b186ecf');\n",
              "          const dataTable =\n",
              "            await google.colab.kernel.invokeFunction('convertToInteractive',\n",
              "                                                     [key], {});\n",
              "          if (!dataTable) return;\n",
              "\n",
              "          const docLinkHtml = 'Like what you see? Visit the ' +\n",
              "            '<a target=\"_blank\" href=https://colab.research.google.com/notebooks/data_table.ipynb>data table notebook</a>'\n",
              "            + ' to learn more about interactive tables.';\n",
              "          element.innerHTML = '';\n",
              "          dataTable['output_type'] = 'display_data';\n",
              "          await google.colab.output.renderOutput(dataTable, element);\n",
              "          const docLink = document.createElement('div');\n",
              "          docLink.innerHTML = docLinkHtml;\n",
              "          element.appendChild(docLink);\n",
              "        }\n",
              "      </script>\n",
              "    </div>\n",
              "  </div>\n",
              "  "
            ]
          },
          "metadata": {},
          "execution_count": 5
        }
      ]
    },
    {
      "cell_type": "code",
      "source": [
        "df.min()"
      ],
      "metadata": {
        "colab": {
          "base_uri": "https://localhost:8080/"
        },
        "id": "JYCu36w-v-JT",
        "outputId": "ea7f317a-02c3-4198-ba2d-9efa23279f6f"
      },
      "execution_count": 6,
      "outputs": [
        {
          "output_type": "execute_result",
          "data": {
            "text/plain": [
              "HR_KUBIOS    0.0\n",
              "HR_BEATS     0.0\n",
              "RR_MS        0.0\n",
              "RMSSD        0.0\n",
              "STD_HR       0.0\n",
              "STD_RR       0.0\n",
              "VLF_MS2      0.0\n",
              "LF_MS2       0.0\n",
              "TOTAL_MS2    0.0\n",
              "LF_PER_HF    0.0\n",
              "VLF_HZ       0.0\n",
              "LF_HZ        0.0\n",
              "HF_HZ        0.0\n",
              "LF_NU        0.0\n",
              "HF_NU        0.0\n",
              "class        0.0\n",
              "dtype: float64"
            ]
          },
          "metadata": {},
          "execution_count": 6
        }
      ]
    },
    {
      "cell_type": "code",
      "source": [
        "df.max()"
      ],
      "metadata": {
        "colab": {
          "base_uri": "https://localhost:8080/"
        },
        "id": "7mpwrNvGwBDZ",
        "outputId": "7e28a203-0ac4-4d3c-8cef-50ab55901d1f"
      },
      "execution_count": 7,
      "outputs": [
        {
          "output_type": "execute_result",
          "data": {
            "text/plain": [
              "HR_KUBIOS    1.0\n",
              "HR_BEATS     1.0\n",
              "RR_MS        1.0\n",
              "RMSSD        1.0\n",
              "STD_HR       1.0\n",
              "STD_RR       1.0\n",
              "VLF_MS2      1.0\n",
              "LF_MS2       1.0\n",
              "TOTAL_MS2    1.0\n",
              "LF_PER_HF    1.0\n",
              "VLF_HZ       1.0\n",
              "LF_HZ        1.0\n",
              "HF_HZ        1.0\n",
              "LF_NU        1.0\n",
              "HF_NU        1.0\n",
              "class        1.0\n",
              "dtype: float64"
            ]
          },
          "metadata": {},
          "execution_count": 7
        }
      ]
    },
    {
      "cell_type": "code",
      "source": [
        "dfx1 = df[['HR_KUBIOS',\t'HR_BEATS',\t'RR_MS', 'RMSSD',\t'STD_HR',\t'STD_RR','VLF_MS2','LF_MS2', 'TOTAL_MS2','LF_PER_HF','VLF_HZ','LF_HZ','HF_HZ','LF_NU','HF_NU']]\n",
        "dfy = df[['class']].values"
      ],
      "metadata": {
        "id": "DiUfRdIKSX7v"
      },
      "execution_count": 8,
      "outputs": []
    },
    {
      "cell_type": "markdown",
      "source": [
        "### spliting data"
      ],
      "metadata": {
        "id": "c-W_RIcR7WBC"
      }
    },
    {
      "cell_type": "code",
      "source": [
        "import numpy as np\n",
        "from sklearn.model_selection import train_test_split"
      ],
      "metadata": {
        "id": "BtuvhVV47kjg"
      },
      "execution_count": 9,
      "outputs": []
    },
    {
      "cell_type": "code",
      "source": [
        "X = df[[ 'HR_KUBIOS','HR_BEATS','STD_HR', 'RMSSD','STD_RR','VLF_MS2','VLF_HZ']]\n",
        "y = df[['class']].values.ravel()"
      ],
      "metadata": {
        "id": "JzNXNEej7Z2H"
      },
      "execution_count": 10,
      "outputs": []
    },
    {
      "cell_type": "code",
      "source": [
        "# Create training and testing samples\n",
        "X_train, X_test, y_train, y_test = train_test_split(X, y, test_size=0.2, random_state=0)"
      ],
      "metadata": {
        "id": "nDFbeRET7VOw"
      },
      "execution_count": 11,
      "outputs": []
    },
    {
      "cell_type": "markdown",
      "source": [
        "### model"
      ],
      "metadata": {
        "id": "6FfNdJ4R68XS"
      }
    },
    {
      "cell_type": "code",
      "source": [
        "# function check metrix evalute\n",
        "from sklearn.metrics import confusion_matrix, classification_report\n",
        "\n",
        "def evaluation(name, model):\n",
        "    y_train_pred = model.predict(X_train)\n",
        "    y_test_pred = model.predict(X_test)\n",
        "    print(f'{name.upper()} TRAINING RESULT:')\n",
        "    print('======================================================')\n",
        "    print('Accuracy:', model.score(X_train, y_train))\n",
        "    print('======================================================')\n",
        "    print('Classification Report --------------------------------')\n",
        "    print(classification_report(y_train, y_train_pred))\n",
        "    print('======================================================')\n",
        "    print('Confussion Matrix ------------------------------------')\n",
        "    print(confusion_matrix(y_train, y_train_pred))\n",
        "\n",
        "    print('\\n======================================================')\n",
        "\n",
        "    print(f'\\n {name.upper()} TESTING RESULT:')\n",
        "    print('======================================================')\n",
        "    print('Accuracy:', model.score(X_test, y_test))\n",
        "    print('======================================================')\n",
        "    print('Classification Report --------------------------------')\n",
        "    print(classification_report(y_test, y_test_pred))\n",
        "    print('======================================================')\n",
        "    print('Confussion Matrix ------------------------------------')\n",
        "    print(confusion_matrix(y_test, y_test_pred))"
      ],
      "metadata": {
        "id": "lgSaMTje6-Iv"
      },
      "execution_count": 12,
      "outputs": []
    },
    {
      "cell_type": "code",
      "source": [
        "# Function Evaluate score (accuracy)\n",
        "def evaluate_model(model_dict):\n",
        "    frame = pd.DataFrame(columns=['Training','Testing'])\n",
        "    \n",
        "    for name, model in model_dict.items():\n",
        "        frame.loc[name, 'Training'] = model.score(X_train, y_train)\n",
        "        frame.loc[name, 'Testing'] = model.score(X_test, y_test)\n",
        "        \n",
        "    return frame"
      ],
      "metadata": {
        "id": "_5EdjrH97A2b"
      },
      "execution_count": 13,
      "outputs": []
    },
    {
      "cell_type": "code",
      "source": [
        "# Feature Importance (Random Forest)\n",
        "def feature_importance(model_rf):\n",
        "    X_ = np.array(X)\n",
        "    importance_scores = model_rf.feature_importances_\n",
        "    indices = np.argsort(importance_scores)\n",
        "\n",
        "    plt.figure(figsize=(15, 10))\n",
        "    feature_importances = pd.Series(model.feature_importances_, index=[X])\n",
        "    feature_importances.nlargest(20).sort_values(ascending=True).plot(kind='barh')\n",
        "    plt.title('Feature Importance using Random Forest')\n",
        "    plt.show()"
      ],
      "metadata": {
        "id": "QAHnseXY7C49"
      },
      "execution_count": 14,
      "outputs": []
    },
    {
      "cell_type": "code",
      "source": [
        "# Function Confusion Matrix\n",
        "def check_confusion_matrix(model):\n",
        "    y_pred = model.predict(X_test)\n",
        "    cf_matrix = confusion_matrix(y_test, y_pred)\n",
        "\n",
        "    group_names = [\"True Negative\", \"False Positive\", \"False Negative\", \"True Positive\"]\n",
        "    group_counts = [\"{0:0.0f}\".format(value) for value in cf_matrix.flatten()]\n",
        "    group_percentages = [\"{0:.2%}\".format(value) for value in cf_matrix.flatten()/np.sum(cf_matrix)]\n",
        "\n",
        "    labels = [f\"{v1}\\n{v2}\\n{v3}\" for v1, v2, v3 in zip(group_names,group_counts,group_percentages)]\n",
        "    labels = np.asarray(labels).reshape(2,2)\n",
        "\n",
        "    plt.figure(figsize=(15, 8))\n",
        "    sns.heatmap(cf_matrix, annot=labels, fmt='', cmap='Blues')\n",
        "    plt.show()"
      ],
      "metadata": {
        "id": "pveJ0Q__7F6W"
      },
      "execution_count": 15,
      "outputs": []
    },
    {
      "cell_type": "code",
      "source": [
        "# Function Evaluate score (accuracy)\n",
        "def evaluate_model(model_dict):\n",
        "    frame = pd.DataFrame(columns=['Training','Testing'])\n",
        "    \n",
        "    for name, model in model_dict.items():\n",
        "        frame.loc[name, 'Training'] = model.score(X_train, y_train)\n",
        "        frame.loc[name, 'Testing'] = model.score(X_test, y_test)\n",
        "        \n",
        "    return frame"
      ],
      "metadata": {
        "id": "8hYfw7j_7IQs"
      },
      "execution_count": 16,
      "outputs": []
    },
    {
      "cell_type": "markdown",
      "source": [
        "### naive bayes"
      ],
      "metadata": {
        "id": "Y05bwEBcj1KT"
      }
    },
    {
      "cell_type": "code",
      "source": [
        "from sklearn.naive_bayes import GaussianNB\n",
        "# from sklearn.naive_bayes import ComplementNB\n",
        "# from sklearn.naive_bayes import BernoulliNB\n",
        "# from sklearn.naive_bayes import CategoricalNB\n",
        "# from sklearn.naive_bayes import MultinomialNB\n",
        "\n",
        "model_nb = GaussianNB()\n",
        "model_nb.fit(X_train, y_train)"
      ],
      "metadata": {
        "id": "czoWKCY6j3U6",
        "colab": {
          "base_uri": "https://localhost:8080/"
        },
        "outputId": "d09597b5-acf3-47ac-bfa2-304c32ba875d"
      },
      "execution_count": 17,
      "outputs": [
        {
          "output_type": "execute_result",
          "data": {
            "text/plain": [
              "GaussianNB()"
            ]
          },
          "metadata": {},
          "execution_count": 17
        }
      ]
    },
    {
      "cell_type": "code",
      "source": [
        "model_dict = {\n",
        "    'Naive Bayes' : model_nb\n",
        "}\n",
        "\n",
        "evaluate_model(model_dict)"
      ],
      "metadata": {
        "id": "NnRda9oej81V",
        "colab": {
          "base_uri": "https://localhost:8080/",
          "height": 81
        },
        "outputId": "80d1dabc-5af8-436c-df83-c097e5e584a8"
      },
      "execution_count": 18,
      "outputs": [
        {
          "output_type": "execute_result",
          "data": {
            "text/plain": [
              "             Training   Testing\n",
              "Naive Bayes  0.522989  0.465909"
            ],
            "text/html": [
              "\n",
              "  <div id=\"df-3ee10b4e-21b8-4d61-884c-59e843b59f71\">\n",
              "    <div class=\"colab-df-container\">\n",
              "      <div>\n",
              "<style scoped>\n",
              "    .dataframe tbody tr th:only-of-type {\n",
              "        vertical-align: middle;\n",
              "    }\n",
              "\n",
              "    .dataframe tbody tr th {\n",
              "        vertical-align: top;\n",
              "    }\n",
              "\n",
              "    .dataframe thead th {\n",
              "        text-align: right;\n",
              "    }\n",
              "</style>\n",
              "<table border=\"1\" class=\"dataframe\">\n",
              "  <thead>\n",
              "    <tr style=\"text-align: right;\">\n",
              "      <th></th>\n",
              "      <th>Training</th>\n",
              "      <th>Testing</th>\n",
              "    </tr>\n",
              "  </thead>\n",
              "  <tbody>\n",
              "    <tr>\n",
              "      <th>Naive Bayes</th>\n",
              "      <td>0.522989</td>\n",
              "      <td>0.465909</td>\n",
              "    </tr>\n",
              "  </tbody>\n",
              "</table>\n",
              "</div>\n",
              "      <button class=\"colab-df-convert\" onclick=\"convertToInteractive('df-3ee10b4e-21b8-4d61-884c-59e843b59f71')\"\n",
              "              title=\"Convert this dataframe to an interactive table.\"\n",
              "              style=\"display:none;\">\n",
              "        \n",
              "  <svg xmlns=\"http://www.w3.org/2000/svg\" height=\"24px\"viewBox=\"0 0 24 24\"\n",
              "       width=\"24px\">\n",
              "    <path d=\"M0 0h24v24H0V0z\" fill=\"none\"/>\n",
              "    <path d=\"M18.56 5.44l.94 2.06.94-2.06 2.06-.94-2.06-.94-.94-2.06-.94 2.06-2.06.94zm-11 1L8.5 8.5l.94-2.06 2.06-.94-2.06-.94L8.5 2.5l-.94 2.06-2.06.94zm10 10l.94 2.06.94-2.06 2.06-.94-2.06-.94-.94-2.06-.94 2.06-2.06.94z\"/><path d=\"M17.41 7.96l-1.37-1.37c-.4-.4-.92-.59-1.43-.59-.52 0-1.04.2-1.43.59L10.3 9.45l-7.72 7.72c-.78.78-.78 2.05 0 2.83L4 21.41c.39.39.9.59 1.41.59.51 0 1.02-.2 1.41-.59l7.78-7.78 2.81-2.81c.8-.78.8-2.07 0-2.86zM5.41 20L4 18.59l7.72-7.72 1.47 1.35L5.41 20z\"/>\n",
              "  </svg>\n",
              "      </button>\n",
              "      \n",
              "  <style>\n",
              "    .colab-df-container {\n",
              "      display:flex;\n",
              "      flex-wrap:wrap;\n",
              "      gap: 12px;\n",
              "    }\n",
              "\n",
              "    .colab-df-convert {\n",
              "      background-color: #E8F0FE;\n",
              "      border: none;\n",
              "      border-radius: 50%;\n",
              "      cursor: pointer;\n",
              "      display: none;\n",
              "      fill: #1967D2;\n",
              "      height: 32px;\n",
              "      padding: 0 0 0 0;\n",
              "      width: 32px;\n",
              "    }\n",
              "\n",
              "    .colab-df-convert:hover {\n",
              "      background-color: #E2EBFA;\n",
              "      box-shadow: 0px 1px 2px rgba(60, 64, 67, 0.3), 0px 1px 3px 1px rgba(60, 64, 67, 0.15);\n",
              "      fill: #174EA6;\n",
              "    }\n",
              "\n",
              "    [theme=dark] .colab-df-convert {\n",
              "      background-color: #3B4455;\n",
              "      fill: #D2E3FC;\n",
              "    }\n",
              "\n",
              "    [theme=dark] .colab-df-convert:hover {\n",
              "      background-color: #434B5C;\n",
              "      box-shadow: 0px 1px 3px 1px rgba(0, 0, 0, 0.15);\n",
              "      filter: drop-shadow(0px 1px 2px rgba(0, 0, 0, 0.3));\n",
              "      fill: #FFFFFF;\n",
              "    }\n",
              "  </style>\n",
              "\n",
              "      <script>\n",
              "        const buttonEl =\n",
              "          document.querySelector('#df-3ee10b4e-21b8-4d61-884c-59e843b59f71 button.colab-df-convert');\n",
              "        buttonEl.style.display =\n",
              "          google.colab.kernel.accessAllowed ? 'block' : 'none';\n",
              "\n",
              "        async function convertToInteractive(key) {\n",
              "          const element = document.querySelector('#df-3ee10b4e-21b8-4d61-884c-59e843b59f71');\n",
              "          const dataTable =\n",
              "            await google.colab.kernel.invokeFunction('convertToInteractive',\n",
              "                                                     [key], {});\n",
              "          if (!dataTable) return;\n",
              "\n",
              "          const docLinkHtml = 'Like what you see? Visit the ' +\n",
              "            '<a target=\"_blank\" href=https://colab.research.google.com/notebooks/data_table.ipynb>data table notebook</a>'\n",
              "            + ' to learn more about interactive tables.';\n",
              "          element.innerHTML = '';\n",
              "          dataTable['output_type'] = 'display_data';\n",
              "          await google.colab.output.renderOutput(dataTable, element);\n",
              "          const docLink = document.createElement('div');\n",
              "          docLink.innerHTML = docLinkHtml;\n",
              "          element.appendChild(docLink);\n",
              "        }\n",
              "      </script>\n",
              "    </div>\n",
              "  </div>\n",
              "  "
            ]
          },
          "metadata": {},
          "execution_count": 18
        }
      ]
    },
    {
      "cell_type": "code",
      "source": [
        "nama = 'Naive Bayes'.upper()\n",
        "model = model_nb\n",
        "\n",
        "evaluation(nama, model)"
      ],
      "metadata": {
        "id": "7BzZtdePj_2G",
        "colab": {
          "base_uri": "https://localhost:8080/"
        },
        "outputId": "826b2a6b-e35a-4213-b1e9-627a994a6967"
      },
      "execution_count": 19,
      "outputs": [
        {
          "output_type": "stream",
          "name": "stdout",
          "text": [
            "NAIVE BAYES TRAINING RESULT:\n",
            "======================================================\n",
            "Accuracy: 0.5229885057471264\n",
            "======================================================\n",
            "Classification Report --------------------------------\n",
            "              precision    recall  f1-score   support\n",
            "\n",
            "         0.0       0.45      0.90      0.60       137\n",
            "         1.0       0.81      0.28      0.42       211\n",
            "\n",
            "    accuracy                           0.52       348\n",
            "   macro avg       0.63      0.59      0.51       348\n",
            "weighted avg       0.67      0.52      0.49       348\n",
            "\n",
            "======================================================\n",
            "Confussion Matrix ------------------------------------\n",
            "[[123  14]\n",
            " [152  59]]\n",
            "\n",
            "======================================================\n",
            "\n",
            " NAIVE BAYES TESTING RESULT:\n",
            "======================================================\n",
            "Accuracy: 0.4659090909090909\n",
            "======================================================\n",
            "Classification Report --------------------------------\n",
            "              precision    recall  f1-score   support\n",
            "\n",
            "         0.0       0.42      0.91      0.58        35\n",
            "         1.0       0.75      0.17      0.28        53\n",
            "\n",
            "    accuracy                           0.47        88\n",
            "   macro avg       0.59      0.54      0.43        88\n",
            "weighted avg       0.62      0.47      0.40        88\n",
            "\n",
            "======================================================\n",
            "Confussion Matrix ------------------------------------\n",
            "[[32  3]\n",
            " [44  9]]\n"
          ]
        }
      ]
    },
    {
      "cell_type": "code",
      "source": [
        "check_confusion_matrix(model)"
      ],
      "metadata": {
        "id": "E1THXYakkDjd",
        "colab": {
          "base_uri": "https://localhost:8080/",
          "height": 483
        },
        "outputId": "68aa8f2a-1bae-4dc9-bab2-1db40c66bacd"
      },
      "execution_count": 20,
      "outputs": [
        {
          "output_type": "display_data",
          "data": {
            "text/plain": [
              "<Figure size 1080x576 with 2 Axes>"
            ],
            "image/png": "[encoded data removed]"
          },
          "metadata": {
            "needs_background": "light"
          }
        }
      ]
    }
  ]
}