{
  "nbformat": 4,
  "nbformat_minor": 0,
  "metadata": {
    "colab": {
      "provenance": [],
      "collapsed_sections": [
        "vFxeJ4euvoqc",
        "LneJIFbtvyzm",
        "vShq5rHAsr2c",
        "eZLJ2bYds1NS"
      ],
      "authorship_tag": "ABX9TyO1slI1Doa9Lzii8PhKmzv5"
    },
    "kernelspec": {
      "name": "python3",
      "display_name": "Python 3"
    },
    "language_info": {
      "name": "python"
    }
  },
  "cells": [
    {
      "cell_type": "code",
      "execution_count": null,
      "metadata": {
        "id": "EyeRIEQou9Ci"
      },
      "outputs": [],
      "source": [
        "import numpy as np\n",
        "import pandas as pd\n",
        "import matplotlib.pyplot as plt\n",
        "from matplotlib.patches import Ellipse\n",
        "import matplotlib.pyplot as plt\n",
        "import seaborn as sns\n",
        "from scipy.signal import find_peaks\n",
        "from scipy import signal\n",
        "from scipy.integrate import trapz\n",
        "from scipy.interpolate import interp1d\n",
        "import seaborn as sns"
      ]
    },
    {
      "cell_type": "markdown",
      "source": [
        "### load dataframe"
      ],
      "metadata": {
        "id": "vFxeJ4euvoqc"
      }
    },
    {
      "cell_type": "code",
      "source": [
        "from google.colab import drive\n",
        "drive.mount('/content/drive')"
      ],
      "metadata": {
        "colab": {
          "base_uri": "https://localhost:8080/"
        },
        "id": "ZC95KsDAvduy",
        "outputId": "aacb401f-8759-415d-bcb1-844f0627a9e0"
      },
      "execution_count": null,
      "outputs": [
        {
          "output_type": "stream",
          "name": "stdout",
          "text": [
            "Mounted at /content/drive\n"
          ]
        }
      ]
    },
    {
      "cell_type": "code",
      "source": [
        "import pandas as pd # for data manipulation\n",
        "import numpy as np # for data manipulation\n",
        "\n",
        "from sklearn.model_selection import train_test_split # for splitting the data into train and test samples\n",
        "from sklearn.metrics import classification_report # for model evaluation metrics\n",
        "from sklearn.svm import SVC # for Support Vector Classification model\n",
        "\n",
        "import plotly.express as px  # for data visualization\n",
        "import plotly.graph_objects as go # for data visualization"
      ],
      "metadata": {
        "id": "REJVoVa_vgMH"
      },
      "execution_count": null,
      "outputs": []
    },
    {
      "cell_type": "code",
      "source": [
        "dff = pd.read_csv('/content/drive/MyDrive/final-project-tesis/DATA/DATA_NEW.csv', encoding='utf-8')\n",
        "df1 = dff[['HR_KUBIOS',\t'HR_BEATS',\t'RR_MS', 'RMSSD',\t'STD_HR',\t'STD_RR','VLF_MS2','LF_MS2', 'TOTAL_MS2','LF_PER_HF','VLF_HZ','LF_HZ','HF_HZ','LF_NU','HF_NU', 'class'\t]]\n",
        "df1.head()"
      ],
      "metadata": {
        "colab": {
          "base_uri": "https://localhost:8080/"
        },
        "id": "dV8_3s65vlW0",
        "outputId": "f5b02b07-7f6c-409c-8290-b0b6df606889"
      },
      "execution_count": null,
      "outputs": [
        {
          "output_type": "execute_result",
          "data": {
            "text/plain": [
              "   HR_KUBIOS  HR_BEATS    RR_MS   RMSSD  STD_HR  STD_RR  VLF_MS2  LF_MS2  \\\n",
              "0     58.770     58.77  1021.66  30.930   1.731   28.33     1.32    2.96   \n",
              "1     60.310     60.48   994.72  62.190   3.270   49.91     0.61    2.47   \n",
              "2     61.114     61.17   981.76  26.855   1.820   29.94     0.53    6.37   \n",
              "3     59.710     59.71  1004.78  10.870   0.540    9.26     0.00    0.42   \n",
              "4     77.480     77.48   774.34   7.970   0.490    4.95     0.00    0.01   \n",
              "\n",
              "   TOTAL_MS2  LF_PER_HF  VLF_HZ  LF_HZ  HF_HZ  LF_NU  HF_NU  class  \n",
              "0       7.17       1.03    0.03   0.06   0.31  50.66  49.34      1  \n",
              "1      14.28       0.22    0.03   0.14   0.17  18.10  81.90      1  \n",
              "2       8.16       5.03    0.03   0.09   0.22  83.43  16.57      1  \n",
              "3       0.59       2.43    0.00   0.09   0.31  70.87  29.13      1  \n",
              "4       0.09       0.13    0.00   0.06   0.35  11.40  88.60      1  "
            ],
            "text/html": [
              "\n",
              "  <div id=\"df-b0a406c6-51ce-4804-87d5-d8d20849c276\">\n",
              "    <div class=\"colab-df-container\">\n",
              "      <div>\n",
              "<style scoped>\n",
              "    .dataframe tbody tr th:only-of-type {\n",
              "        vertical-align: middle;\n",
              "    }\n",
              "\n",
              "    .dataframe tbody tr th {\n",
              "        vertical-align: top;\n",
              "    }\n",
              "\n",
              "    .dataframe thead th {\n",
              "        text-align: right;\n",
              "    }\n",
              "</style>\n",
              "<table border=\"1\" class=\"dataframe\">\n",
              "  <thead>\n",
              "    <tr style=\"text-align: right;\">\n",
              "      <th></th>\n",
              "      <th>HR_KUBIOS</th>\n",
              "      <th>HR_BEATS</th>\n",
              "      <th>RR_MS</th>\n",
              "      <th>RMSSD</th>\n",
              "      <th>STD_HR</th>\n",
              "      <th>STD_RR</th>\n",
              "      <th>VLF_MS2</th>\n",
              "      <th>LF_MS2</th>\n",
              "      <th>TOTAL_MS2</th>\n",
              "      <th>LF_PER_HF</th>\n",
              "      <th>VLF_HZ</th>\n",
              "      <th>LF_HZ</th>\n",
              "      <th>HF_HZ</th>\n",
              "      <th>LF_NU</th>\n",
              "      <th>HF_NU</th>\n",
              "      <th>class</th>\n",
              "    </tr>\n",
              "  </thead>\n",
              "  <tbody>\n",
              "    <tr>\n",
              "      <th>0</th>\n",
              "      <td>58.770</td>\n",
              "      <td>58.77</td>\n",
              "      <td>1021.66</td>\n",
              "      <td>30.930</td>\n",
              "      <td>1.731</td>\n",
              "      <td>28.33</td>\n",
              "      <td>1.32</td>\n",
              "      <td>2.96</td>\n",
              "      <td>7.17</td>\n",
              "      <td>1.03</td>\n",
              "      <td>0.03</td>\n",
              "      <td>0.06</td>\n",
              "      <td>0.31</td>\n",
              "      <td>50.66</td>\n",
              "      <td>49.34</td>\n",
              "      <td>1</td>\n",
              "    </tr>\n",
              "    <tr>\n",
              "      <th>1</th>\n",
              "      <td>60.310</td>\n",
              "      <td>60.48</td>\n",
              "      <td>994.72</td>\n",
              "      <td>62.190</td>\n",
              "      <td>3.270</td>\n",
              "      <td>49.91</td>\n",
              "      <td>0.61</td>\n",
              "      <td>2.47</td>\n",
              "      <td>14.28</td>\n",
              "      <td>0.22</td>\n",
              "      <td>0.03</td>\n",
              "      <td>0.14</td>\n",
              "      <td>0.17</td>\n",
              "      <td>18.10</td>\n",
              "      <td>81.90</td>\n",
              "      <td>1</td>\n",
              "    </tr>\n",
              "    <tr>\n",
              "      <th>2</th>\n",
              "      <td>61.114</td>\n",
              "      <td>61.17</td>\n",
              "      <td>981.76</td>\n",
              "      <td>26.855</td>\n",
              "      <td>1.820</td>\n",
              "      <td>29.94</td>\n",
              "      <td>0.53</td>\n",
              "      <td>6.37</td>\n",
              "      <td>8.16</td>\n",
              "      <td>5.03</td>\n",
              "      <td>0.03</td>\n",
              "      <td>0.09</td>\n",
              "      <td>0.22</td>\n",
              "      <td>83.43</td>\n",
              "      <td>16.57</td>\n",
              "      <td>1</td>\n",
              "    </tr>\n",
              "    <tr>\n",
              "      <th>3</th>\n",
              "      <td>59.710</td>\n",
              "      <td>59.71</td>\n",
              "      <td>1004.78</td>\n",
              "      <td>10.870</td>\n",
              "      <td>0.540</td>\n",
              "      <td>9.26</td>\n",
              "      <td>0.00</td>\n",
              "      <td>0.42</td>\n",
              "      <td>0.59</td>\n",
              "      <td>2.43</td>\n",
              "      <td>0.00</td>\n",
              "      <td>0.09</td>\n",
              "      <td>0.31</td>\n",
              "      <td>70.87</td>\n",
              "      <td>29.13</td>\n",
              "      <td>1</td>\n",
              "    </tr>\n",
              "    <tr>\n",
              "      <th>4</th>\n",
              "      <td>77.480</td>\n",
              "      <td>77.48</td>\n",
              "      <td>774.34</td>\n",
              "      <td>7.970</td>\n",
              "      <td>0.490</td>\n",
              "      <td>4.95</td>\n",
              "      <td>0.00</td>\n",
              "      <td>0.01</td>\n",
              "      <td>0.09</td>\n",
              "      <td>0.13</td>\n",
              "      <td>0.00</td>\n",
              "      <td>0.06</td>\n",
              "      <td>0.35</td>\n",
              "      <td>11.40</td>\n",
              "      <td>88.60</td>\n",
              "      <td>1</td>\n",
              "    </tr>\n",
              "  </tbody>\n",
              "</table>\n",
              "</div>\n",
              "      <button class=\"colab-df-convert\" onclick=\"convertToInteractive('df-b0a406c6-51ce-4804-87d5-d8d20849c276')\"\n",
              "              title=\"Convert this dataframe to an interactive table.\"\n",
              "              style=\"display:none;\">\n",
              "        \n",
              "  <svg xmlns=\"http://www.w3.org/2000/svg\" height=\"24px\"viewBox=\"0 0 24 24\"\n",
              "       width=\"24px\">\n",
              "    <path d=\"M0 0h24v24H0V0z\" fill=\"none\"/>\n",
              "    <path d=\"M18.56 5.44l.94 2.06.94-2.06 2.06-.94-2.06-.94-.94-2.06-.94 2.06-2.06.94zm-11 1L8.5 8.5l.94-2.06 2.06-.94-2.06-.94L8.5 2.5l-.94 2.06-2.06.94zm10 10l.94 2.06.94-2.06 2.06-.94-2.06-.94-.94-2.06-.94 2.06-2.06.94z\"/><path d=\"M17.41 7.96l-1.37-1.37c-.4-.4-.92-.59-1.43-.59-.52 0-1.04.2-1.43.59L10.3 9.45l-7.72 7.72c-.78.78-.78 2.05 0 2.83L4 21.41c.39.39.9.59 1.41.59.51 0 1.02-.2 1.41-.59l7.78-7.78 2.81-2.81c.8-.78.8-2.07 0-2.86zM5.41 20L4 18.59l7.72-7.72 1.47 1.35L5.41 20z\"/>\n",
              "  </svg>\n",
              "      </button>\n",
              "      \n",
              "  <style>\n",
              "    .colab-df-container {\n",
              "      display:flex;\n",
              "      flex-wrap:wrap;\n",
              "      gap: 12px;\n",
              "    }\n",
              "\n",
              "    .colab-df-convert {\n",
              "      background-color: #E8F0FE;\n",
              "      border: none;\n",
              "      border-radius: 50%;\n",
              "      cursor: pointer;\n",
              "      display: none;\n",
              "      fill: #1967D2;\n",
              "      height: 32px;\n",
              "      padding: 0 0 0 0;\n",
              "      width: 32px;\n",
              "    }\n",
              "\n",
              "    .colab-df-convert:hover {\n",
              "      background-color: #E2EBFA;\n",
              "      box-shadow: 0px 1px 2px rgba(60, 64, 67, 0.3), 0px 1px 3px 1px rgba(60, 64, 67, 0.15);\n",
              "      fill: #174EA6;\n",
              "    }\n",
              "\n",
              "    [theme=dark] .colab-df-convert {\n",
              "      background-color: #3B4455;\n",
              "      fill: #D2E3FC;\n",
              "    }\n",
              "\n",
              "    [theme=dark] .colab-df-convert:hover {\n",
              "      background-color: #434B5C;\n",
              "      box-shadow: 0px 1px 3px 1px rgba(0, 0, 0, 0.15);\n",
              "      filter: drop-shadow(0px 1px 2px rgba(0, 0, 0, 0.3));\n",
              "      fill: #FFFFFF;\n",
              "    }\n",
              "  </style>\n",
              "\n",
              "      <script>\n",
              "        const buttonEl =\n",
              "          document.querySelector('#df-b0a406c6-51ce-4804-87d5-d8d20849c276 button.colab-df-convert');\n",
              "        buttonEl.style.display =\n",
              "          google.colab.kernel.accessAllowed ? 'block' : 'none';\n",
              "\n",
              "        async function convertToInteractive(key) {\n",
              "          const element = document.querySelector('#df-b0a406c6-51ce-4804-87d5-d8d20849c276');\n",
              "          const dataTable =\n",
              "            await google.colab.kernel.invokeFunction('convertToInteractive',\n",
              "                                                     [key], {});\n",
              "          if (!dataTable) return;\n",
              "\n",
              "          const docLinkHtml = 'Like what you see? Visit the ' +\n",
              "            '<a target=\"_blank\" href=https://colab.research.google.com/notebooks/data_table.ipynb>data table notebook</a>'\n",
              "            + ' to learn more about interactive tables.';\n",
              "          element.innerHTML = '';\n",
              "          dataTable['output_type'] = 'display_data';\n",
              "          await google.colab.output.renderOutput(dataTable, element);\n",
              "          const docLink = document.createElement('div');\n",
              "          docLink.innerHTML = docLinkHtml;\n",
              "          element.appendChild(docLink);\n",
              "        }\n",
              "      </script>\n",
              "    </div>\n",
              "  </div>\n",
              "  "
            ]
          },
          "metadata": {},
          "execution_count": 4
        }
      ]
    },
    {
      "cell_type": "markdown",
      "source": [
        "### normalisasi"
      ],
      "metadata": {
        "id": "LneJIFbtvyzm"
      }
    },
    {
      "cell_type": "code",
      "source": [
        "#function of normalization\n",
        "def norm (x):\n",
        "  #from sklearn import preprocessing\n",
        "  import numpy as np\n",
        "  hasil = (x-x.min())/(x.max()-x.min())\n",
        "  return(hasil)"
      ],
      "metadata": {
        "id": "aUUNhQM-v1VM"
      },
      "execution_count": null,
      "outputs": []
    },
    {
      "cell_type": "code",
      "source": [
        "# normalisasi data\n",
        "df = norm(df1)\n",
        "# menampilkan data\n",
        "df.head()"
      ],
      "metadata": {
        "colab": {
          "base_uri": "https://localhost:8080/"
        },
        "id": "azxNBVwiv18X",
        "outputId": "e2c27bf1-06f1-494e-95b7-de2ac9931f36"
      },
      "execution_count": null,
      "outputs": [
        {
          "output_type": "execute_result",
          "data": {
            "text/plain": [
              "   HR_KUBIOS  HR_BEATS     RR_MS     RMSSD    STD_HR    STD_RR   VLF_MS2  \\\n",
              "0   0.144780  0.206826  0.499039  0.019620  0.010583  0.023927  0.025162   \n",
              "1   0.153873  0.213289  0.480546  0.039449  0.019991  0.042154  0.011628   \n",
              "2   0.158621  0.215897  0.471650  0.017035  0.011127  0.025287  0.010103   \n",
              "3   0.150331  0.210379  0.487452  0.006895  0.003301  0.007821  0.000000   \n",
              "4   0.255255  0.277545  0.329270  0.005056  0.002996  0.004181  0.000000   \n",
              "\n",
              "     LF_MS2  TOTAL_MS2  LF_PER_HF  VLF_HZ     LF_HZ  HF_HZ     LF_NU  \\\n",
              "0  0.013954   0.007428   0.055948    0.75  0.181818   0.64  0.534106   \n",
              "1  0.011644   0.014793   0.011950    0.75  0.909091   0.08  0.190828   \n",
              "2  0.030030   0.008453   0.273221    0.75  0.454545   0.28  0.879599   \n",
              "3  0.001980   0.000611   0.131993    0.00  0.454545   0.64  0.747180   \n",
              "4  0.000047   0.000093   0.007061    0.00  0.181818   0.80  0.120190   \n",
              "\n",
              "      HF_NU  class  \n",
              "0  0.465894    1.0  \n",
              "1  0.809172    1.0  \n",
              "2  0.120401    1.0  \n",
              "3  0.252820    1.0  \n",
              "4  0.879810    1.0  "
            ],
            "text/html": [
              "\n",
              "  <div id=\"df-695f5821-c2ea-4ec1-aad2-72f45e0fd1b0\">\n",
              "    <div class=\"colab-df-container\">\n",
              "      <div>\n",
              "<style scoped>\n",
              "    .dataframe tbody tr th:only-of-type {\n",
              "        vertical-align: middle;\n",
              "    }\n",
              "\n",
              "    .dataframe tbody tr th {\n",
              "        vertical-align: top;\n",
              "    }\n",
              "\n",
              "    .dataframe thead th {\n",
              "        text-align: right;\n",
              "    }\n",
              "</style>\n",
              "<table border=\"1\" class=\"dataframe\">\n",
              "  <thead>\n",
              "    <tr style=\"text-align: right;\">\n",
              "      <th></th>\n",
              "      <th>HR_KUBIOS</th>\n",
              "      <th>HR_BEATS</th>\n",
              "      <th>RR_MS</th>\n",
              "      <th>RMSSD</th>\n",
              "      <th>STD_HR</th>\n",
              "      <th>STD_RR</th>\n",
              "      <th>VLF_MS2</th>\n",
              "      <th>LF_MS2</th>\n",
              "      <th>TOTAL_MS2</th>\n",
              "      <th>LF_PER_HF</th>\n",
              "      <th>VLF_HZ</th>\n",
              "      <th>LF_HZ</th>\n",
              "      <th>HF_HZ</th>\n",
              "      <th>LF_NU</th>\n",
              "      <th>HF_NU</th>\n",
              "      <th>class</th>\n",
              "    </tr>\n",
              "  </thead>\n",
              "  <tbody>\n",
              "    <tr>\n",
              "      <th>0</th>\n",
              "      <td>0.144780</td>\n",
              "      <td>0.206826</td>\n",
              "      <td>0.499039</td>\n",
              "      <td>0.019620</td>\n",
              "      <td>0.010583</td>\n",
              "      <td>0.023927</td>\n",
              "      <td>0.025162</td>\n",
              "      <td>0.013954</td>\n",
              "      <td>0.007428</td>\n",
              "      <td>0.055948</td>\n",
              "      <td>0.75</td>\n",
              "      <td>0.181818</td>\n",
              "      <td>0.64</td>\n",
              "      <td>0.534106</td>\n",
              "      <td>0.465894</td>\n",
              "      <td>1.0</td>\n",
              "    </tr>\n",
              "    <tr>\n",
              "      <th>1</th>\n",
              "      <td>0.153873</td>\n",
              "      <td>0.213289</td>\n",
              "      <td>0.480546</td>\n",
              "      <td>0.039449</td>\n",
              "      <td>0.019991</td>\n",
              "      <td>0.042154</td>\n",
              "      <td>0.011628</td>\n",
              "      <td>0.011644</td>\n",
              "      <td>0.014793</td>\n",
              "      <td>0.011950</td>\n",
              "      <td>0.75</td>\n",
              "      <td>0.909091</td>\n",
              "      <td>0.08</td>\n",
              "      <td>0.190828</td>\n",
              "      <td>0.809172</td>\n",
              "      <td>1.0</td>\n",
              "    </tr>\n",
              "    <tr>\n",
              "      <th>2</th>\n",
              "      <td>0.158621</td>\n",
              "      <td>0.215897</td>\n",
              "      <td>0.471650</td>\n",
              "      <td>0.017035</td>\n",
              "      <td>0.011127</td>\n",
              "      <td>0.025287</td>\n",
              "      <td>0.010103</td>\n",
              "      <td>0.030030</td>\n",
              "      <td>0.008453</td>\n",
              "      <td>0.273221</td>\n",
              "      <td>0.75</td>\n",
              "      <td>0.454545</td>\n",
              "      <td>0.28</td>\n",
              "      <td>0.879599</td>\n",
              "      <td>0.120401</td>\n",
              "      <td>1.0</td>\n",
              "    </tr>\n",
              "    <tr>\n",
              "      <th>3</th>\n",
              "      <td>0.150331</td>\n",
              "      <td>0.210379</td>\n",
              "      <td>0.487452</td>\n",
              "      <td>0.006895</td>\n",
              "      <td>0.003301</td>\n",
              "      <td>0.007821</td>\n",
              "      <td>0.000000</td>\n",
              "      <td>0.001980</td>\n",
              "      <td>0.000611</td>\n",
              "      <td>0.131993</td>\n",
              "      <td>0.00</td>\n",
              "      <td>0.454545</td>\n",
              "      <td>0.64</td>\n",
              "      <td>0.747180</td>\n",
              "      <td>0.252820</td>\n",
              "      <td>1.0</td>\n",
              "    </tr>\n",
              "    <tr>\n",
              "      <th>4</th>\n",
              "      <td>0.255255</td>\n",
              "      <td>0.277545</td>\n",
              "      <td>0.329270</td>\n",
              "      <td>0.005056</td>\n",
              "      <td>0.002996</td>\n",
              "      <td>0.004181</td>\n",
              "      <td>0.000000</td>\n",
              "      <td>0.000047</td>\n",
              "      <td>0.000093</td>\n",
              "      <td>0.007061</td>\n",
              "      <td>0.00</td>\n",
              "      <td>0.181818</td>\n",
              "      <td>0.80</td>\n",
              "      <td>0.120190</td>\n",
              "      <td>0.879810</td>\n",
              "      <td>1.0</td>\n",
              "    </tr>\n",
              "  </tbody>\n",
              "</table>\n",
              "</div>\n",
              "      <button class=\"colab-df-convert\" onclick=\"convertToInteractive('df-695f5821-c2ea-4ec1-aad2-72f45e0fd1b0')\"\n",
              "              title=\"Convert this dataframe to an interactive table.\"\n",
              "              style=\"display:none;\">\n",
              "        \n",
              "  <svg xmlns=\"http://www.w3.org/2000/svg\" height=\"24px\"viewBox=\"0 0 24 24\"\n",
              "       width=\"24px\">\n",
              "    <path d=\"M0 0h24v24H0V0z\" fill=\"none\"/>\n",
              "    <path d=\"M18.56 5.44l.94 2.06.94-2.06 2.06-.94-2.06-.94-.94-2.06-.94 2.06-2.06.94zm-11 1L8.5 8.5l.94-2.06 2.06-.94-2.06-.94L8.5 2.5l-.94 2.06-2.06.94zm10 10l.94 2.06.94-2.06 2.06-.94-2.06-.94-.94-2.06-.94 2.06-2.06.94z\"/><path d=\"M17.41 7.96l-1.37-1.37c-.4-.4-.92-.59-1.43-.59-.52 0-1.04.2-1.43.59L10.3 9.45l-7.72 7.72c-.78.78-.78 2.05 0 2.83L4 21.41c.39.39.9.59 1.41.59.51 0 1.02-.2 1.41-.59l7.78-7.78 2.81-2.81c.8-.78.8-2.07 0-2.86zM5.41 20L4 18.59l7.72-7.72 1.47 1.35L5.41 20z\"/>\n",
              "  </svg>\n",
              "      </button>\n",
              "      \n",
              "  <style>\n",
              "    .colab-df-container {\n",
              "      display:flex;\n",
              "      flex-wrap:wrap;\n",
              "      gap: 12px;\n",
              "    }\n",
              "\n",
              "    .colab-df-convert {\n",
              "      background-color: #E8F0FE;\n",
              "      border: none;\n",
              "      border-radius: 50%;\n",
              "      cursor: pointer;\n",
              "      display: none;\n",
              "      fill: #1967D2;\n",
              "      height: 32px;\n",
              "      padding: 0 0 0 0;\n",
              "      width: 32px;\n",
              "    }\n",
              "\n",
              "    .colab-df-convert:hover {\n",
              "      background-color: #E2EBFA;\n",
              "      box-shadow: 0px 1px 2px rgba(60, 64, 67, 0.3), 0px 1px 3px 1px rgba(60, 64, 67, 0.15);\n",
              "      fill: #174EA6;\n",
              "    }\n",
              "\n",
              "    [theme=dark] .colab-df-convert {\n",
              "      background-color: #3B4455;\n",
              "      fill: #D2E3FC;\n",
              "    }\n",
              "\n",
              "    [theme=dark] .colab-df-convert:hover {\n",
              "      background-color: #434B5C;\n",
              "      box-shadow: 0px 1px 3px 1px rgba(0, 0, 0, 0.15);\n",
              "      filter: drop-shadow(0px 1px 2px rgba(0, 0, 0, 0.3));\n",
              "      fill: #FFFFFF;\n",
              "    }\n",
              "  </style>\n",
              "\n",
              "      <script>\n",
              "        const buttonEl =\n",
              "          document.querySelector('#df-695f5821-c2ea-4ec1-aad2-72f45e0fd1b0 button.colab-df-convert');\n",
              "        buttonEl.style.display =\n",
              "          google.colab.kernel.accessAllowed ? 'block' : 'none';\n",
              "\n",
              "        async function convertToInteractive(key) {\n",
              "          const element = document.querySelector('#df-695f5821-c2ea-4ec1-aad2-72f45e0fd1b0');\n",
              "          const dataTable =\n",
              "            await google.colab.kernel.invokeFunction('convertToInteractive',\n",
              "                                                     [key], {});\n",
              "          if (!dataTable) return;\n",
              "\n",
              "          const docLinkHtml = 'Like what you see? Visit the ' +\n",
              "            '<a target=\"_blank\" href=https://colab.research.google.com/notebooks/data_table.ipynb>data table notebook</a>'\n",
              "            + ' to learn more about interactive tables.';\n",
              "          element.innerHTML = '';\n",
              "          dataTable['output_type'] = 'display_data';\n",
              "          await google.colab.output.renderOutput(dataTable, element);\n",
              "          const docLink = document.createElement('div');\n",
              "          docLink.innerHTML = docLinkHtml;\n",
              "          element.appendChild(docLink);\n",
              "        }\n",
              "      </script>\n",
              "    </div>\n",
              "  </div>\n",
              "  "
            ]
          },
          "metadata": {},
          "execution_count": 6
        }
      ]
    },
    {
      "cell_type": "code",
      "source": [
        "df.min()"
      ],
      "metadata": {
        "colab": {
          "base_uri": "https://localhost:8080/"
        },
        "id": "JYCu36w-v-JT",
        "outputId": "47ad0cf1-9fe9-4af6-ab2a-9e66d1577f81"
      },
      "execution_count": null,
      "outputs": [
        {
          "output_type": "execute_result",
          "data": {
            "text/plain": [
              "HR_KUBIOS    0.0\n",
              "HR_BEATS     0.0\n",
              "RR_MS        0.0\n",
              "RMSSD        0.0\n",
              "STD_HR       0.0\n",
              "STD_RR       0.0\n",
              "VLF_MS2      0.0\n",
              "LF_MS2       0.0\n",
              "TOTAL_MS2    0.0\n",
              "LF_PER_HF    0.0\n",
              "VLF_HZ       0.0\n",
              "LF_HZ        0.0\n",
              "HF_HZ        0.0\n",
              "LF_NU        0.0\n",
              "HF_NU        0.0\n",
              "class        0.0\n",
              "dtype: float64"
            ]
          },
          "metadata": {},
          "execution_count": 7
        }
      ]
    },
    {
      "cell_type": "code",
      "source": [
        "df.max()"
      ],
      "metadata": {
        "colab": {
          "base_uri": "https://localhost:8080/"
        },
        "id": "7mpwrNvGwBDZ",
        "outputId": "db0f7757-ff4c-4677-d954-509ed2a9450d"
      },
      "execution_count": null,
      "outputs": [
        {
          "output_type": "execute_result",
          "data": {
            "text/plain": [
              "HR_KUBIOS    1.0\n",
              "HR_BEATS     1.0\n",
              "RR_MS        1.0\n",
              "RMSSD        1.0\n",
              "STD_HR       1.0\n",
              "STD_RR       1.0\n",
              "VLF_MS2      1.0\n",
              "LF_MS2       1.0\n",
              "TOTAL_MS2    1.0\n",
              "LF_PER_HF    1.0\n",
              "VLF_HZ       1.0\n",
              "LF_HZ        1.0\n",
              "HF_HZ        1.0\n",
              "LF_NU        1.0\n",
              "HF_NU        1.0\n",
              "class        1.0\n",
              "dtype: float64"
            ]
          },
          "metadata": {},
          "execution_count": 8
        }
      ]
    },
    {
      "cell_type": "code",
      "source": [
        "dfx1 = df[['HR_KUBIOS',\t'HR_BEATS',\t'RR_MS', 'RMSSD',\t'STD_HR',\t'STD_RR','VLF_MS2','LF_MS2', 'TOTAL_MS2','LF_PER_HF','VLF_HZ','LF_HZ','HF_HZ','LF_NU','HF_NU']]\n",
        "dfy = df[['class']].values"
      ],
      "metadata": {
        "id": "DiUfRdIKSX7v"
      },
      "execution_count": null,
      "outputs": []
    },
    {
      "cell_type": "markdown",
      "source": [
        "### T-test Pearson Corelation"
      ],
      "metadata": {
        "id": "jLt_EwJNBzQJ"
      }
    },
    {
      "cell_type": "markdown",
      "source": [
        "##### select significant features"
      ],
      "metadata": {
        "id": "vShq5rHAsr2c"
      }
    },
    {
      "cell_type": "code",
      "source": [
        "# calculate the Pearson's correlation between two variables\n",
        "from numpy.random import randn\n",
        "from numpy.random import seed\n",
        "from scipy.stats import pearsonr"
      ],
      "metadata": {
        "id": "vAy3eUiKB0_P"
      },
      "execution_count": null,
      "outputs": []
    },
    {
      "cell_type": "code",
      "source": [
        "\n",
        "# calculate the Pearson's correlation between two variables\n",
        "from numpy.random import randn\n",
        "from numpy.random import seed\n",
        "from scipy.stats import pearsonr\n",
        "# seed random number generator\n",
        "seed(1)\n",
        "# prepare data\n",
        "data1 = df['HR_KUBIOS']\n",
        "data2 = df['HR_BEATS'].values\n",
        "data3 = df['RR_MS'].values\n",
        "data4 = df['RMSSD'].values\n",
        "data5 = df[\t'STD_HR'].values\n",
        "data6 = df['STD_RR'].values\n",
        "data7 = df['VLF_MS2'].values\n",
        "data8 = df['LF_MS2'].values\n",
        "data9 = df[ 'TOTAL_MS2'].values\n",
        "data10 = df['LF_PER_HF'].values\n",
        "data11= df[ 'VLF_HZ'].values\n",
        "data12= df[ 'LF_HZ'].values\n",
        "data13= df['HF_HZ'].values\n",
        "data14= df['LF_NU'].values\n",
        "data15= df['HF_NU'].values\n"
      ],
      "metadata": {
        "id": "zRdZMWoBB71U"
      },
      "execution_count": null,
      "outputs": []
    },
    {
      "cell_type": "code",
      "source": [
        "# calculate Pearson's correlation\n",
        "corr1,_ = pearsonr(data1, dfy)\n",
        "print('Pearsons correlation data1: %.3f' % corr1)\n",
        "\n",
        "# calculate Pearson's correlation\n",
        "corr2,_ = pearsonr(data2, dfy)\n",
        "print('Pearsons correlation data2: %.3f' % corr2)\n",
        "\n",
        "# calculate Pearson's correlation\n",
        "corr3,_ = pearsonr(data3, dfy)\n",
        "print('Pearsons correlation data3: %.3f' % corr3)\n",
        "\n",
        "# calculate Pearson's correlation\n",
        "corr4,_ = pearsonr(data4, dfy)\n",
        "print('Pearsons correlation data4: %.3f' % corr4)\n",
        "\n",
        "# calculate Pearson's correlation\n",
        "corr5,_ = pearsonr(data5, dfy)\n",
        "print('Pearsons correlation data5: %.3f' % corr5)\n",
        "\n",
        "# calculate Pearson's correlation\n",
        "corr6,_ = pearsonr(data6, dfy)\n",
        "print('Pearsons correlation data6: %.3f' % corr6)\n",
        "\n",
        "# calculate Pearson's correlation\n",
        "corr7,_ = pearsonr(data7, dfy)\n",
        "print('Pearsons correlation data7: %.3f' % corr7)\n",
        "\n",
        "# calculate Pearson's correlation\n",
        "corr8,_ = pearsonr(data8, dfy)\n",
        "print('Pearsons correlation data8: %.3f' % corr8)\n",
        "\n",
        "# calculate Pearson's correlation\n",
        "corr9,_ = pearsonr(data9, dfy)\n",
        "print('Pearsons correlation data9: %.3f' % corr9)\n",
        "\n",
        "# calculate Pearson's correlation\n",
        "corr10,_ = pearsonr(data10, dfy)\n",
        "print('Pearsons correlation data10: %.3f' % corr10)\n",
        "\n",
        "# calculate Pearson's correlation\n",
        "corr11,_ = pearsonr(data11, dfy)\n",
        "print('Pearsons correlation data11: %.3f' % corr11)\n",
        "\n",
        "# calculate Pearson's correlation\n",
        "corr12,_ = pearsonr(data12, dfy)\n",
        "print('Pearsons correlation data12: %.3f' % corr12)\n",
        "\n",
        "# calculate Pearson's correlation\n",
        "corr13,_ = pearsonr(data13, dfy)\n",
        "print('Pearsons correlation data13: %.3f' % corr13)\n",
        "\n",
        "# calculate Pearson's correlation\n",
        "corr14,_ = pearsonr(data14, dfy)\n",
        "print('Pearsons correlation data14: %.3f' % corr14)\n",
        "\n",
        "# calculate Pearson's correlation\n",
        "corr15,_ = pearsonr(data15, dfy)\n",
        "print('Pearsons correlation data15: %.3f' % corr15)"
      ],
      "metadata": {
        "colab": {
          "base_uri": "https://localhost:8080/"
        },
        "id": "UyeuEdsGbGm5",
        "outputId": "936d6c57-9576-4c7a-c356-e4835e0f895e"
      },
      "execution_count": null,
      "outputs": [
        {
          "output_type": "stream",
          "name": "stdout",
          "text": [
            "Pearsons correlation data1: 0.139\n",
            "Pearsons correlation data2: 0.145\n",
            "Pearsons correlation data3: -0.073\n",
            "Pearsons correlation data4: 0.101\n",
            "Pearsons correlation data5: 0.148\n",
            "Pearsons correlation data6: 0.100\n",
            "Pearsons correlation data7: 0.131\n",
            "Pearsons correlation data8: 0.037\n",
            "Pearsons correlation data9: 0.061\n",
            "Pearsons correlation data10: 0.046\n",
            "Pearsons correlation data11: 0.130\n",
            "Pearsons correlation data12: -0.073\n",
            "Pearsons correlation data13: -0.071\n",
            "Pearsons correlation data14: 0.092\n",
            "Pearsons correlation data15: -0.092\n"
          ]
        }
      ]
    },
    {
      "cell_type": "code",
      "source": [
        "result = { 'feature' :['HR_KUBIOS',\t'HR_BEATS',\t'RR_MS', 'RMSSD',\t'STD_HR',\t'STD_RR','VLF_MS2','LF_MS2', 'TOTAL_MS2','LF_PER_HF','VLF_HZ','LF_HZ','HF_HZ','LF_NU','HF_NU'],\n",
        "        'correlation':(corr1, corr2, corr3, corr4, corr5, corr6, corr7, corr8, corr9, corr10, corr11, corr12, corr13, corr14, corr15)}\n",
        "dfn= pd.DataFrame(result)\n",
        "dfn"
      ],
      "metadata": {
        "colab": {
          "base_uri": "https://localhost:8080/"
        },
        "id": "bl1l08DmdOtE",
        "outputId": "fcce2e9a-54a9-4eb5-a5a5-80444db5f348"
      },
      "execution_count": null,
      "outputs": [
        {
          "output_type": "execute_result",
          "data": {
            "text/plain": [
              "      feature             correlation\n",
              "0   HR_KUBIOS   [0.13903419311554457]\n",
              "1    HR_BEATS   [0.14455272855853005]\n",
              "2       RR_MS  [-0.07252564756952347]\n",
              "3       RMSSD   [0.10122225864548952]\n",
              "4      STD_HR   [0.14818355899198388]\n",
              "5      STD_RR   [0.09979916511556458]\n",
              "6     VLF_MS2   [0.13104368149076268]\n",
              "7      LF_MS2   [0.03724841170500973]\n",
              "8   TOTAL_MS2   [0.06104959173197094]\n",
              "9   LF_PER_HF  [0.046057132729959746]\n",
              "10     VLF_HZ   [0.12979979584883947]\n",
              "11      LF_HZ  [-0.07339088504213839]\n",
              "12      HF_HZ  [-0.07146668764243504]\n",
              "13      LF_NU   [0.09189869482156508]\n",
              "14      HF_NU  [-0.09199064193416966]"
            ],
            "text/html": [
              "\n",
              "  <div id=\"df-1434ccc0-65e0-4029-ae5d-885325ea92cf\">\n",
              "    <div class=\"colab-df-container\">\n",
              "      <div>\n",
              "<style scoped>\n",
              "    .dataframe tbody tr th:only-of-type {\n",
              "        vertical-align: middle;\n",
              "    }\n",
              "\n",
              "    .dataframe tbody tr th {\n",
              "        vertical-align: top;\n",
              "    }\n",
              "\n",
              "    .dataframe thead th {\n",
              "        text-align: right;\n",
              "    }\n",
              "</style>\n",
              "<table border=\"1\" class=\"dataframe\">\n",
              "  <thead>\n",
              "    <tr style=\"text-align: right;\">\n",
              "      <th></th>\n",
              "      <th>feature</th>\n",
              "      <th>correlation</th>\n",
              "    </tr>\n",
              "  </thead>\n",
              "  <tbody>\n",
              "    <tr>\n",
              "      <th>0</th>\n",
              "      <td>HR_KUBIOS</td>\n",
              "      <td>[0.13903419311554457]</td>\n",
              "    </tr>\n",
              "    <tr>\n",
              "      <th>1</th>\n",
              "      <td>HR_BEATS</td>\n",
              "      <td>[0.14455272855853005]</td>\n",
              "    </tr>\n",
              "    <tr>\n",
              "      <th>2</th>\n",
              "      <td>RR_MS</td>\n",
              "      <td>[-0.07252564756952347]</td>\n",
              "    </tr>\n",
              "    <tr>\n",
              "      <th>3</th>\n",
              "      <td>RMSSD</td>\n",
              "      <td>[0.10122225864548952]</td>\n",
              "    </tr>\n",
              "    <tr>\n",
              "      <th>4</th>\n",
              "      <td>STD_HR</td>\n",
              "      <td>[0.14818355899198388]</td>\n",
              "    </tr>\n",
              "    <tr>\n",
              "      <th>5</th>\n",
              "      <td>STD_RR</td>\n",
              "      <td>[0.09979916511556458]</td>\n",
              "    </tr>\n",
              "    <tr>\n",
              "      <th>6</th>\n",
              "      <td>VLF_MS2</td>\n",
              "      <td>[0.13104368149076268]</td>\n",
              "    </tr>\n",
              "    <tr>\n",
              "      <th>7</th>\n",
              "      <td>LF_MS2</td>\n",
              "      <td>[0.03724841170500973]</td>\n",
              "    </tr>\n",
              "    <tr>\n",
              "      <th>8</th>\n",
              "      <td>TOTAL_MS2</td>\n",
              "      <td>[0.06104959173197094]</td>\n",
              "    </tr>\n",
              "    <tr>\n",
              "      <th>9</th>\n",
              "      <td>LF_PER_HF</td>\n",
              "      <td>[0.046057132729959746]</td>\n",
              "    </tr>\n",
              "    <tr>\n",
              "      <th>10</th>\n",
              "      <td>VLF_HZ</td>\n",
              "      <td>[0.12979979584883947]</td>\n",
              "    </tr>\n",
              "    <tr>\n",
              "      <th>11</th>\n",
              "      <td>LF_HZ</td>\n",
              "      <td>[-0.07339088504213839]</td>\n",
              "    </tr>\n",
              "    <tr>\n",
              "      <th>12</th>\n",
              "      <td>HF_HZ</td>\n",
              "      <td>[-0.07146668764243504]</td>\n",
              "    </tr>\n",
              "    <tr>\n",
              "      <th>13</th>\n",
              "      <td>LF_NU</td>\n",
              "      <td>[0.09189869482156508]</td>\n",
              "    </tr>\n",
              "    <tr>\n",
              "      <th>14</th>\n",
              "      <td>HF_NU</td>\n",
              "      <td>[-0.09199064193416966]</td>\n",
              "    </tr>\n",
              "  </tbody>\n",
              "</table>\n",
              "</div>\n",
              "      <button class=\"colab-df-convert\" onclick=\"convertToInteractive('df-1434ccc0-65e0-4029-ae5d-885325ea92cf')\"\n",
              "              title=\"Convert this dataframe to an interactive table.\"\n",
              "              style=\"display:none;\">\n",
              "        \n",
              "  <svg xmlns=\"http://www.w3.org/2000/svg\" height=\"24px\"viewBox=\"0 0 24 24\"\n",
              "       width=\"24px\">\n",
              "    <path d=\"M0 0h24v24H0V0z\" fill=\"none\"/>\n",
              "    <path d=\"M18.56 5.44l.94 2.06.94-2.06 2.06-.94-2.06-.94-.94-2.06-.94 2.06-2.06.94zm-11 1L8.5 8.5l.94-2.06 2.06-.94-2.06-.94L8.5 2.5l-.94 2.06-2.06.94zm10 10l.94 2.06.94-2.06 2.06-.94-2.06-.94-.94-2.06-.94 2.06-2.06.94z\"/><path d=\"M17.41 7.96l-1.37-1.37c-.4-.4-.92-.59-1.43-.59-.52 0-1.04.2-1.43.59L10.3 9.45l-7.72 7.72c-.78.78-.78 2.05 0 2.83L4 21.41c.39.39.9.59 1.41.59.51 0 1.02-.2 1.41-.59l7.78-7.78 2.81-2.81c.8-.78.8-2.07 0-2.86zM5.41 20L4 18.59l7.72-7.72 1.47 1.35L5.41 20z\"/>\n",
              "  </svg>\n",
              "      </button>\n",
              "      \n",
              "  <style>\n",
              "    .colab-df-container {\n",
              "      display:flex;\n",
              "      flex-wrap:wrap;\n",
              "      gap: 12px;\n",
              "    }\n",
              "\n",
              "    .colab-df-convert {\n",
              "      background-color: #E8F0FE;\n",
              "      border: none;\n",
              "      border-radius: 50%;\n",
              "      cursor: pointer;\n",
              "      display: none;\n",
              "      fill: #1967D2;\n",
              "      height: 32px;\n",
              "      padding: 0 0 0 0;\n",
              "      width: 32px;\n",
              "    }\n",
              "\n",
              "    .colab-df-convert:hover {\n",
              "      background-color: #E2EBFA;\n",
              "      box-shadow: 0px 1px 2px rgba(60, 64, 67, 0.3), 0px 1px 3px 1px rgba(60, 64, 67, 0.15);\n",
              "      fill: #174EA6;\n",
              "    }\n",
              "\n",
              "    [theme=dark] .colab-df-convert {\n",
              "      background-color: #3B4455;\n",
              "      fill: #D2E3FC;\n",
              "    }\n",
              "\n",
              "    [theme=dark] .colab-df-convert:hover {\n",
              "      background-color: #434B5C;\n",
              "      box-shadow: 0px 1px 3px 1px rgba(0, 0, 0, 0.15);\n",
              "      filter: drop-shadow(0px 1px 2px rgba(0, 0, 0, 0.3));\n",
              "      fill: #FFFFFF;\n",
              "    }\n",
              "  </style>\n",
              "\n",
              "      <script>\n",
              "        const buttonEl =\n",
              "          document.querySelector('#df-1434ccc0-65e0-4029-ae5d-885325ea92cf button.colab-df-convert');\n",
              "        buttonEl.style.display =\n",
              "          google.colab.kernel.accessAllowed ? 'block' : 'none';\n",
              "\n",
              "        async function convertToInteractive(key) {\n",
              "          const element = document.querySelector('#df-1434ccc0-65e0-4029-ae5d-885325ea92cf');\n",
              "          const dataTable =\n",
              "            await google.colab.kernel.invokeFunction('convertToInteractive',\n",
              "                                                     [key], {});\n",
              "          if (!dataTable) return;\n",
              "\n",
              "          const docLinkHtml = 'Like what you see? Visit the ' +\n",
              "            '<a target=\"_blank\" href=https://colab.research.google.com/notebooks/data_table.ipynb>data table notebook</a>'\n",
              "            + ' to learn more about interactive tables.';\n",
              "          element.innerHTML = '';\n",
              "          dataTable['output_type'] = 'display_data';\n",
              "          await google.colab.output.renderOutput(dataTable, element);\n",
              "          const docLink = document.createElement('div');\n",
              "          docLink.innerHTML = docLinkHtml;\n",
              "          element.appendChild(docLink);\n",
              "        }\n",
              "      </script>\n",
              "    </div>\n",
              "  </div>\n",
              "  "
            ]
          },
          "metadata": {},
          "execution_count": 13
        }
      ]
    },
    {
      "cell_type": "code",
      "source": [
        "dat = pd.read_csv('/content/drive/MyDrive/final-project-tesis/CORR/corr.csv')\n",
        "dat"
      ],
      "metadata": {
        "colab": {
          "base_uri": "https://localhost:8080/"
        },
        "id": "_ASI_33coUSx",
        "outputId": "d011086a-a14e-45f4-a47d-7ff507ad7474"
      },
      "execution_count": null,
      "outputs": [
        {
          "output_type": "execute_result",
          "data": {
            "text/plain": [
              "      feature  corelasi\n",
              "0   HR_KUBIOS  0.139034\n",
              "1    HR_BEATS  0.144553\n",
              "2       RR_MS  0.072526\n",
              "3       RMSSD  0.101222\n",
              "4      STD_HR  0.148184\n",
              "5      STD_RR  0.099799\n",
              "6     VLF_MS2  0.131044\n",
              "7      LF_MS2  0.037248\n",
              "8   TOTAL_MS2  0.061050\n",
              "9   LF_PER_HF  0.046057\n",
              "10     VLF_HZ  0.129800\n",
              "11      LF_HZ  0.073391\n",
              "12      HF_HZ  0.071467\n",
              "13      LF_NU  0.091899\n",
              "14      HF_NU  0.091991"
            ],
            "text/html": [
              "\n",
              "  <div id=\"df-85c5bcb9-c18a-468a-83f1-ac9a08635889\">\n",
              "    <div class=\"colab-df-container\">\n",
              "      <div>\n",
              "<style scoped>\n",
              "    .dataframe tbody tr th:only-of-type {\n",
              "        vertical-align: middle;\n",
              "    }\n",
              "\n",
              "    .dataframe tbody tr th {\n",
              "        vertical-align: top;\n",
              "    }\n",
              "\n",
              "    .dataframe thead th {\n",
              "        text-align: right;\n",
              "    }\n",
              "</style>\n",
              "<table border=\"1\" class=\"dataframe\">\n",
              "  <thead>\n",
              "    <tr style=\"text-align: right;\">\n",
              "      <th></th>\n",
              "      <th>feature</th>\n",
              "      <th>corelasi</th>\n",
              "    </tr>\n",
              "  </thead>\n",
              "  <tbody>\n",
              "    <tr>\n",
              "      <th>0</th>\n",
              "      <td>HR_KUBIOS</td>\n",
              "      <td>0.139034</td>\n",
              "    </tr>\n",
              "    <tr>\n",
              "      <th>1</th>\n",
              "      <td>HR_BEATS</td>\n",
              "      <td>0.144553</td>\n",
              "    </tr>\n",
              "    <tr>\n",
              "      <th>2</th>\n",
              "      <td>RR_MS</td>\n",
              "      <td>0.072526</td>\n",
              "    </tr>\n",
              "    <tr>\n",
              "      <th>3</th>\n",
              "      <td>RMSSD</td>\n",
              "      <td>0.101222</td>\n",
              "    </tr>\n",
              "    <tr>\n",
              "      <th>4</th>\n",
              "      <td>STD_HR</td>\n",
              "      <td>0.148184</td>\n",
              "    </tr>\n",
              "    <tr>\n",
              "      <th>5</th>\n",
              "      <td>STD_RR</td>\n",
              "      <td>0.099799</td>\n",
              "    </tr>\n",
              "    <tr>\n",
              "      <th>6</th>\n",
              "      <td>VLF_MS2</td>\n",
              "      <td>0.131044</td>\n",
              "    </tr>\n",
              "    <tr>\n",
              "      <th>7</th>\n",
              "      <td>LF_MS2</td>\n",
              "      <td>0.037248</td>\n",
              "    </tr>\n",
              "    <tr>\n",
              "      <th>8</th>\n",
              "      <td>TOTAL_MS2</td>\n",
              "      <td>0.061050</td>\n",
              "    </tr>\n",
              "    <tr>\n",
              "      <th>9</th>\n",
              "      <td>LF_PER_HF</td>\n",
              "      <td>0.046057</td>\n",
              "    </tr>\n",
              "    <tr>\n",
              "      <th>10</th>\n",
              "      <td>VLF_HZ</td>\n",
              "      <td>0.129800</td>\n",
              "    </tr>\n",
              "    <tr>\n",
              "      <th>11</th>\n",
              "      <td>LF_HZ</td>\n",
              "      <td>0.073391</td>\n",
              "    </tr>\n",
              "    <tr>\n",
              "      <th>12</th>\n",
              "      <td>HF_HZ</td>\n",
              "      <td>0.071467</td>\n",
              "    </tr>\n",
              "    <tr>\n",
              "      <th>13</th>\n",
              "      <td>LF_NU</td>\n",
              "      <td>0.091899</td>\n",
              "    </tr>\n",
              "    <tr>\n",
              "      <th>14</th>\n",
              "      <td>HF_NU</td>\n",
              "      <td>0.091991</td>\n",
              "    </tr>\n",
              "  </tbody>\n",
              "</table>\n",
              "</div>\n",
              "      <button class=\"colab-df-convert\" onclick=\"convertToInteractive('df-85c5bcb9-c18a-468a-83f1-ac9a08635889')\"\n",
              "              title=\"Convert this dataframe to an interactive table.\"\n",
              "              style=\"display:none;\">\n",
              "        \n",
              "  <svg xmlns=\"http://www.w3.org/2000/svg\" height=\"24px\"viewBox=\"0 0 24 24\"\n",
              "       width=\"24px\">\n",
              "    <path d=\"M0 0h24v24H0V0z\" fill=\"none\"/>\n",
              "    <path d=\"M18.56 5.44l.94 2.06.94-2.06 2.06-.94-2.06-.94-.94-2.06-.94 2.06-2.06.94zm-11 1L8.5 8.5l.94-2.06 2.06-.94-2.06-.94L8.5 2.5l-.94 2.06-2.06.94zm10 10l.94 2.06.94-2.06 2.06-.94-2.06-.94-.94-2.06-.94 2.06-2.06.94z\"/><path d=\"M17.41 7.96l-1.37-1.37c-.4-.4-.92-.59-1.43-.59-.52 0-1.04.2-1.43.59L10.3 9.45l-7.72 7.72c-.78.78-.78 2.05 0 2.83L4 21.41c.39.39.9.59 1.41.59.51 0 1.02-.2 1.41-.59l7.78-7.78 2.81-2.81c.8-.78.8-2.07 0-2.86zM5.41 20L4 18.59l7.72-7.72 1.47 1.35L5.41 20z\"/>\n",
              "  </svg>\n",
              "      </button>\n",
              "      \n",
              "  <style>\n",
              "    .colab-df-container {\n",
              "      display:flex;\n",
              "      flex-wrap:wrap;\n",
              "      gap: 12px;\n",
              "    }\n",
              "\n",
              "    .colab-df-convert {\n",
              "      background-color: #E8F0FE;\n",
              "      border: none;\n",
              "      border-radius: 50%;\n",
              "      cursor: pointer;\n",
              "      display: none;\n",
              "      fill: #1967D2;\n",
              "      height: 32px;\n",
              "      padding: 0 0 0 0;\n",
              "      width: 32px;\n",
              "    }\n",
              "\n",
              "    .colab-df-convert:hover {\n",
              "      background-color: #E2EBFA;\n",
              "      box-shadow: 0px 1px 2px rgba(60, 64, 67, 0.3), 0px 1px 3px 1px rgba(60, 64, 67, 0.15);\n",
              "      fill: #174EA6;\n",
              "    }\n",
              "\n",
              "    [theme=dark] .colab-df-convert {\n",
              "      background-color: #3B4455;\n",
              "      fill: #D2E3FC;\n",
              "    }\n",
              "\n",
              "    [theme=dark] .colab-df-convert:hover {\n",
              "      background-color: #434B5C;\n",
              "      box-shadow: 0px 1px 3px 1px rgba(0, 0, 0, 0.15);\n",
              "      filter: drop-shadow(0px 1px 2px rgba(0, 0, 0, 0.3));\n",
              "      fill: #FFFFFF;\n",
              "    }\n",
              "  </style>\n",
              "\n",
              "      <script>\n",
              "        const buttonEl =\n",
              "          document.querySelector('#df-85c5bcb9-c18a-468a-83f1-ac9a08635889 button.colab-df-convert');\n",
              "        buttonEl.style.display =\n",
              "          google.colab.kernel.accessAllowed ? 'block' : 'none';\n",
              "\n",
              "        async function convertToInteractive(key) {\n",
              "          const element = document.querySelector('#df-85c5bcb9-c18a-468a-83f1-ac9a08635889');\n",
              "          const dataTable =\n",
              "            await google.colab.kernel.invokeFunction('convertToInteractive',\n",
              "                                                     [key], {});\n",
              "          if (!dataTable) return;\n",
              "\n",
              "          const docLinkHtml = 'Like what you see? Visit the ' +\n",
              "            '<a target=\"_blank\" href=https://colab.research.google.com/notebooks/data_table.ipynb>data table notebook</a>'\n",
              "            + ' to learn more about interactive tables.';\n",
              "          element.innerHTML = '';\n",
              "          dataTable['output_type'] = 'display_data';\n",
              "          await google.colab.output.renderOutput(dataTable, element);\n",
              "          const docLink = document.createElement('div');\n",
              "          docLink.innerHTML = docLinkHtml;\n",
              "          element.appendChild(docLink);\n",
              "        }\n",
              "      </script>\n",
              "    </div>\n",
              "  </div>\n",
              "  "
            ]
          },
          "metadata": {},
          "execution_count": 14
        }
      ]
    },
    {
      "cell_type": "code",
      "source": [
        "dat.sort_values(by=['corelasi'])"
      ],
      "metadata": {
        "colab": {
          "base_uri": "https://localhost:8080/"
        },
        "id": "wLHsZS9nrHIk",
        "outputId": "fb542205-64b2-4ed9-9556-4d15180c1886"
      },
      "execution_count": null,
      "outputs": [
        {
          "output_type": "execute_result",
          "data": {
            "text/plain": [
              "      feature  corelasi\n",
              "7      LF_MS2  0.037248\n",
              "9   LF_PER_HF  0.046057\n",
              "8   TOTAL_MS2  0.061050\n",
              "12      HF_HZ  0.071467\n",
              "2       RR_MS  0.072526\n",
              "11      LF_HZ  0.073391\n",
              "13      LF_NU  0.091899\n",
              "14      HF_NU  0.091991\n",
              "5      STD_RR  0.099799\n",
              "3       RMSSD  0.101222\n",
              "10     VLF_HZ  0.129800\n",
              "6     VLF_MS2  0.131044\n",
              "0   HR_KUBIOS  0.139034\n",
              "1    HR_BEATS  0.144553\n",
              "4      STD_HR  0.148184"
            ],
            "text/html": [
              "\n",
              "  <div id=\"df-4c383928-f8f6-4d86-9862-4782704444ce\">\n",
              "    <div class=\"colab-df-container\">\n",
              "      <div>\n",
              "<style scoped>\n",
              "    .dataframe tbody tr th:only-of-type {\n",
              "        vertical-align: middle;\n",
              "    }\n",
              "\n",
              "    .dataframe tbody tr th {\n",
              "        vertical-align: top;\n",
              "    }\n",
              "\n",
              "    .dataframe thead th {\n",
              "        text-align: right;\n",
              "    }\n",
              "</style>\n",
              "<table border=\"1\" class=\"dataframe\">\n",
              "  <thead>\n",
              "    <tr style=\"text-align: right;\">\n",
              "      <th></th>\n",
              "      <th>feature</th>\n",
              "      <th>corelasi</th>\n",
              "    </tr>\n",
              "  </thead>\n",
              "  <tbody>\n",
              "    <tr>\n",
              "      <th>7</th>\n",
              "      <td>LF_MS2</td>\n",
              "      <td>0.037248</td>\n",
              "    </tr>\n",
              "    <tr>\n",
              "      <th>9</th>\n",
              "      <td>LF_PER_HF</td>\n",
              "      <td>0.046057</td>\n",
              "    </tr>\n",
              "    <tr>\n",
              "      <th>8</th>\n",
              "      <td>TOTAL_MS2</td>\n",
              "      <td>0.061050</td>\n",
              "    </tr>\n",
              "    <tr>\n",
              "      <th>12</th>\n",
              "      <td>HF_HZ</td>\n",
              "      <td>0.071467</td>\n",
              "    </tr>\n",
              "    <tr>\n",
              "      <th>2</th>\n",
              "      <td>RR_MS</td>\n",
              "      <td>0.072526</td>\n",
              "    </tr>\n",
              "    <tr>\n",
              "      <th>11</th>\n",
              "      <td>LF_HZ</td>\n",
              "      <td>0.073391</td>\n",
              "    </tr>\n",
              "    <tr>\n",
              "      <th>13</th>\n",
              "      <td>LF_NU</td>\n",
              "      <td>0.091899</td>\n",
              "    </tr>\n",
              "    <tr>\n",
              "      <th>14</th>\n",
              "      <td>HF_NU</td>\n",
              "      <td>0.091991</td>\n",
              "    </tr>\n",
              "    <tr>\n",
              "      <th>5</th>\n",
              "      <td>STD_RR</td>\n",
              "      <td>0.099799</td>\n",
              "    </tr>\n",
              "    <tr>\n",
              "      <th>3</th>\n",
              "      <td>RMSSD</td>\n",
              "      <td>0.101222</td>\n",
              "    </tr>\n",
              "    <tr>\n",
              "      <th>10</th>\n",
              "      <td>VLF_HZ</td>\n",
              "      <td>0.129800</td>\n",
              "    </tr>\n",
              "    <tr>\n",
              "      <th>6</th>\n",
              "      <td>VLF_MS2</td>\n",
              "      <td>0.131044</td>\n",
              "    </tr>\n",
              "    <tr>\n",
              "      <th>0</th>\n",
              "      <td>HR_KUBIOS</td>\n",
              "      <td>0.139034</td>\n",
              "    </tr>\n",
              "    <tr>\n",
              "      <th>1</th>\n",
              "      <td>HR_BEATS</td>\n",
              "      <td>0.144553</td>\n",
              "    </tr>\n",
              "    <tr>\n",
              "      <th>4</th>\n",
              "      <td>STD_HR</td>\n",
              "      <td>0.148184</td>\n",
              "    </tr>\n",
              "  </tbody>\n",
              "</table>\n",
              "</div>\n",
              "      <button class=\"colab-df-convert\" onclick=\"convertToInteractive('df-4c383928-f8f6-4d86-9862-4782704444ce')\"\n",
              "              title=\"Convert this dataframe to an interactive table.\"\n",
              "              style=\"display:none;\">\n",
              "        \n",
              "  <svg xmlns=\"http://www.w3.org/2000/svg\" height=\"24px\"viewBox=\"0 0 24 24\"\n",
              "       width=\"24px\">\n",
              "    <path d=\"M0 0h24v24H0V0z\" fill=\"none\"/>\n",
              "    <path d=\"M18.56 5.44l.94 2.06.94-2.06 2.06-.94-2.06-.94-.94-2.06-.94 2.06-2.06.94zm-11 1L8.5 8.5l.94-2.06 2.06-.94-2.06-.94L8.5 2.5l-.94 2.06-2.06.94zm10 10l.94 2.06.94-2.06 2.06-.94-2.06-.94-.94-2.06-.94 2.06-2.06.94z\"/><path d=\"M17.41 7.96l-1.37-1.37c-.4-.4-.92-.59-1.43-.59-.52 0-1.04.2-1.43.59L10.3 9.45l-7.72 7.72c-.78.78-.78 2.05 0 2.83L4 21.41c.39.39.9.59 1.41.59.51 0 1.02-.2 1.41-.59l7.78-7.78 2.81-2.81c.8-.78.8-2.07 0-2.86zM5.41 20L4 18.59l7.72-7.72 1.47 1.35L5.41 20z\"/>\n",
              "  </svg>\n",
              "      </button>\n",
              "      \n",
              "  <style>\n",
              "    .colab-df-container {\n",
              "      display:flex;\n",
              "      flex-wrap:wrap;\n",
              "      gap: 12px;\n",
              "    }\n",
              "\n",
              "    .colab-df-convert {\n",
              "      background-color: #E8F0FE;\n",
              "      border: none;\n",
              "      border-radius: 50%;\n",
              "      cursor: pointer;\n",
              "      display: none;\n",
              "      fill: #1967D2;\n",
              "      height: 32px;\n",
              "      padding: 0 0 0 0;\n",
              "      width: 32px;\n",
              "    }\n",
              "\n",
              "    .colab-df-convert:hover {\n",
              "      background-color: #E2EBFA;\n",
              "      box-shadow: 0px 1px 2px rgba(60, 64, 67, 0.3), 0px 1px 3px 1px rgba(60, 64, 67, 0.15);\n",
              "      fill: #174EA6;\n",
              "    }\n",
              "\n",
              "    [theme=dark] .colab-df-convert {\n",
              "      background-color: #3B4455;\n",
              "      fill: #D2E3FC;\n",
              "    }\n",
              "\n",
              "    [theme=dark] .colab-df-convert:hover {\n",
              "      background-color: #434B5C;\n",
              "      box-shadow: 0px 1px 3px 1px rgba(0, 0, 0, 0.15);\n",
              "      filter: drop-shadow(0px 1px 2px rgba(0, 0, 0, 0.3));\n",
              "      fill: #FFFFFF;\n",
              "    }\n",
              "  </style>\n",
              "\n",
              "      <script>\n",
              "        const buttonEl =\n",
              "          document.querySelector('#df-4c383928-f8f6-4d86-9862-4782704444ce button.colab-df-convert');\n",
              "        buttonEl.style.display =\n",
              "          google.colab.kernel.accessAllowed ? 'block' : 'none';\n",
              "\n",
              "        async function convertToInteractive(key) {\n",
              "          const element = document.querySelector('#df-4c383928-f8f6-4d86-9862-4782704444ce');\n",
              "          const dataTable =\n",
              "            await google.colab.kernel.invokeFunction('convertToInteractive',\n",
              "                                                     [key], {});\n",
              "          if (!dataTable) return;\n",
              "\n",
              "          const docLinkHtml = 'Like what you see? Visit the ' +\n",
              "            '<a target=\"_blank\" href=https://colab.research.google.com/notebooks/data_table.ipynb>data table notebook</a>'\n",
              "            + ' to learn more about interactive tables.';\n",
              "          element.innerHTML = '';\n",
              "          dataTable['output_type'] = 'display_data';\n",
              "          await google.colab.output.renderOutput(dataTable, element);\n",
              "          const docLink = document.createElement('div');\n",
              "          docLink.innerHTML = docLinkHtml;\n",
              "          element.appendChild(docLink);\n",
              "        }\n",
              "      </script>\n",
              "    </div>\n",
              "  </div>\n",
              "  "
            ]
          },
          "metadata": {},
          "execution_count": 15
        }
      ]
    },
    {
      "cell_type": "code",
      "source": [
        "rf = dat[dat['corelasi'] > 0.087]\n",
        "rf.sort_values(by=['corelasi'], ascending=False)"
      ],
      "metadata": {
        "colab": {
          "base_uri": "https://localhost:8080/"
        },
        "id": "rcE9jp2qr8hZ",
        "outputId": "5cd0d18f-11b3-4cd9-e4f4-6f74e2a520f1"
      },
      "execution_count": null,
      "outputs": [
        {
          "output_type": "execute_result",
          "data": {
            "text/plain": [
              "      feature  corelasi\n",
              "4      STD_HR  0.148184\n",
              "1    HR_BEATS  0.144553\n",
              "0   HR_KUBIOS  0.139034\n",
              "6     VLF_MS2  0.131044\n",
              "10     VLF_HZ  0.129800\n",
              "3       RMSSD  0.101222\n",
              "5      STD_RR  0.099799\n",
              "14      HF_NU  0.091991\n",
              "13      LF_NU  0.091899"
            ],
            "text/html": [
              "\n",
              "  <div id=\"df-750052a5-f2d0-406c-b2ef-89e864f3e363\">\n",
              "    <div class=\"colab-df-container\">\n",
              "      <div>\n",
              "<style scoped>\n",
              "    .dataframe tbody tr th:only-of-type {\n",
              "        vertical-align: middle;\n",
              "    }\n",
              "\n",
              "    .dataframe tbody tr th {\n",
              "        vertical-align: top;\n",
              "    }\n",
              "\n",
              "    .dataframe thead th {\n",
              "        text-align: right;\n",
              "    }\n",
              "</style>\n",
              "<table border=\"1\" class=\"dataframe\">\n",
              "  <thead>\n",
              "    <tr style=\"text-align: right;\">\n",
              "      <th></th>\n",
              "      <th>feature</th>\n",
              "      <th>corelasi</th>\n",
              "    </tr>\n",
              "  </thead>\n",
              "  <tbody>\n",
              "    <tr>\n",
              "      <th>4</th>\n",
              "      <td>STD_HR</td>\n",
              "      <td>0.148184</td>\n",
              "    </tr>\n",
              "    <tr>\n",
              "      <th>1</th>\n",
              "      <td>HR_BEATS</td>\n",
              "      <td>0.144553</td>\n",
              "    </tr>\n",
              "    <tr>\n",
              "      <th>0</th>\n",
              "      <td>HR_KUBIOS</td>\n",
              "      <td>0.139034</td>\n",
              "    </tr>\n",
              "    <tr>\n",
              "      <th>6</th>\n",
              "      <td>VLF_MS2</td>\n",
              "      <td>0.131044</td>\n",
              "    </tr>\n",
              "    <tr>\n",
              "      <th>10</th>\n",
              "      <td>VLF_HZ</td>\n",
              "      <td>0.129800</td>\n",
              "    </tr>\n",
              "    <tr>\n",
              "      <th>3</th>\n",
              "      <td>RMSSD</td>\n",
              "      <td>0.101222</td>\n",
              "    </tr>\n",
              "    <tr>\n",
              "      <th>5</th>\n",
              "      <td>STD_RR</td>\n",
              "      <td>0.099799</td>\n",
              "    </tr>\n",
              "    <tr>\n",
              "      <th>14</th>\n",
              "      <td>HF_NU</td>\n",
              "      <td>0.091991</td>\n",
              "    </tr>\n",
              "    <tr>\n",
              "      <th>13</th>\n",
              "      <td>LF_NU</td>\n",
              "      <td>0.091899</td>\n",
              "    </tr>\n",
              "  </tbody>\n",
              "</table>\n",
              "</div>\n",
              "      <button class=\"colab-df-convert\" onclick=\"convertToInteractive('df-750052a5-f2d0-406c-b2ef-89e864f3e363')\"\n",
              "              title=\"Convert this dataframe to an interactive table.\"\n",
              "              style=\"display:none;\">\n",
              "        \n",
              "  <svg xmlns=\"http://www.w3.org/2000/svg\" height=\"24px\"viewBox=\"0 0 24 24\"\n",
              "       width=\"24px\">\n",
              "    <path d=\"M0 0h24v24H0V0z\" fill=\"none\"/>\n",
              "    <path d=\"M18.56 5.44l.94 2.06.94-2.06 2.06-.94-2.06-.94-.94-2.06-.94 2.06-2.06.94zm-11 1L8.5 8.5l.94-2.06 2.06-.94-2.06-.94L8.5 2.5l-.94 2.06-2.06.94zm10 10l.94 2.06.94-2.06 2.06-.94-2.06-.94-.94-2.06-.94 2.06-2.06.94z\"/><path d=\"M17.41 7.96l-1.37-1.37c-.4-.4-.92-.59-1.43-.59-.52 0-1.04.2-1.43.59L10.3 9.45l-7.72 7.72c-.78.78-.78 2.05 0 2.83L4 21.41c.39.39.9.59 1.41.59.51 0 1.02-.2 1.41-.59l7.78-7.78 2.81-2.81c.8-.78.8-2.07 0-2.86zM5.41 20L4 18.59l7.72-7.72 1.47 1.35L5.41 20z\"/>\n",
              "  </svg>\n",
              "      </button>\n",
              "      \n",
              "  <style>\n",
              "    .colab-df-container {\n",
              "      display:flex;\n",
              "      flex-wrap:wrap;\n",
              "      gap: 12px;\n",
              "    }\n",
              "\n",
              "    .colab-df-convert {\n",
              "      background-color: #E8F0FE;\n",
              "      border: none;\n",
              "      border-radius: 50%;\n",
              "      cursor: pointer;\n",
              "      display: none;\n",
              "      fill: #1967D2;\n",
              "      height: 32px;\n",
              "      padding: 0 0 0 0;\n",
              "      width: 32px;\n",
              "    }\n",
              "\n",
              "    .colab-df-convert:hover {\n",
              "      background-color: #E2EBFA;\n",
              "      box-shadow: 0px 1px 2px rgba(60, 64, 67, 0.3), 0px 1px 3px 1px rgba(60, 64, 67, 0.15);\n",
              "      fill: #174EA6;\n",
              "    }\n",
              "\n",
              "    [theme=dark] .colab-df-convert {\n",
              "      background-color: #3B4455;\n",
              "      fill: #D2E3FC;\n",
              "    }\n",
              "\n",
              "    [theme=dark] .colab-df-convert:hover {\n",
              "      background-color: #434B5C;\n",
              "      box-shadow: 0px 1px 3px 1px rgba(0, 0, 0, 0.15);\n",
              "      filter: drop-shadow(0px 1px 2px rgba(0, 0, 0, 0.3));\n",
              "      fill: #FFFFFF;\n",
              "    }\n",
              "  </style>\n",
              "\n",
              "      <script>\n",
              "        const buttonEl =\n",
              "          document.querySelector('#df-750052a5-f2d0-406c-b2ef-89e864f3e363 button.colab-df-convert');\n",
              "        buttonEl.style.display =\n",
              "          google.colab.kernel.accessAllowed ? 'block' : 'none';\n",
              "\n",
              "        async function convertToInteractive(key) {\n",
              "          const element = document.querySelector('#df-750052a5-f2d0-406c-b2ef-89e864f3e363');\n",
              "          const dataTable =\n",
              "            await google.colab.kernel.invokeFunction('convertToInteractive',\n",
              "                                                     [key], {});\n",
              "          if (!dataTable) return;\n",
              "\n",
              "          const docLinkHtml = 'Like what you see? Visit the ' +\n",
              "            '<a target=\"_blank\" href=https://colab.research.google.com/notebooks/data_table.ipynb>data table notebook</a>'\n",
              "            + ' to learn more about interactive tables.';\n",
              "          element.innerHTML = '';\n",
              "          dataTable['output_type'] = 'display_data';\n",
              "          await google.colab.output.renderOutput(dataTable, element);\n",
              "          const docLink = document.createElement('div');\n",
              "          docLink.innerHTML = docLinkHtml;\n",
              "          element.appendChild(docLink);\n",
              "        }\n",
              "      </script>\n",
              "    </div>\n",
              "  </div>\n",
              "  "
            ]
          },
          "metadata": {},
          "execution_count": 16
        }
      ]
    },
    {
      "cell_type": "markdown",
      "source": [
        "####  correlation between input features"
      ],
      "metadata": {
        "id": "eZLJ2bYds1NS"
      }
    },
    {
      "cell_type": "code",
      "source": [
        "dfx = df[['STD_HR','HR_BEATS','HR_KUBIOS','VLF_MS2','VLF_HZ','RMSSD',\t'STD_RR','HF_NU','LF_NU']]\n",
        "dfx.head()"
      ],
      "metadata": {
        "colab": {
          "base_uri": "https://localhost:8080/"
        },
        "id": "gLntoivTs6Uz",
        "outputId": "723f63eb-7db8-4c02-9f7e-07b830d229d8"
      },
      "execution_count": null,
      "outputs": [
        {
          "output_type": "execute_result",
          "data": {
            "text/plain": [
              "     STD_HR  HR_BEATS  HR_KUBIOS   VLF_MS2  VLF_HZ     RMSSD    STD_RR  \\\n",
              "0  0.010583  0.206826   0.144780  0.025162    0.75  0.019620  0.023927   \n",
              "1  0.019991  0.213289   0.153873  0.011628    0.75  0.039449  0.042154   \n",
              "2  0.011127  0.215897   0.158621  0.010103    0.75  0.017035  0.025287   \n",
              "3  0.003301  0.210379   0.150331  0.000000    0.00  0.006895  0.007821   \n",
              "4  0.002996  0.277545   0.255255  0.000000    0.00  0.005056  0.004181   \n",
              "\n",
              "      HF_NU     LF_NU  \n",
              "0  0.465894  0.534106  \n",
              "1  0.809172  0.190828  \n",
              "2  0.120401  0.879599  \n",
              "3  0.252820  0.747180  \n",
              "4  0.879810  0.120190  "
            ],
            "text/html": [
              "\n",
              "  <div id=\"df-fb3a9845-15ce-4286-9022-8fc214a12d93\">\n",
              "    <div class=\"colab-df-container\">\n",
              "      <div>\n",
              "<style scoped>\n",
              "    .dataframe tbody tr th:only-of-type {\n",
              "        vertical-align: middle;\n",
              "    }\n",
              "\n",
              "    .dataframe tbody tr th {\n",
              "        vertical-align: top;\n",
              "    }\n",
              "\n",
              "    .dataframe thead th {\n",
              "        text-align: right;\n",
              "    }\n",
              "</style>\n",
              "<table border=\"1\" class=\"dataframe\">\n",
              "  <thead>\n",
              "    <tr style=\"text-align: right;\">\n",
              "      <th></th>\n",
              "      <th>STD_HR</th>\n",
              "      <th>HR_BEATS</th>\n",
              "      <th>HR_KUBIOS</th>\n",
              "      <th>VLF_MS2</th>\n",
              "      <th>VLF_HZ</th>\n",
              "      <th>RMSSD</th>\n",
              "      <th>STD_RR</th>\n",
              "      <th>HF_NU</th>\n",
              "      <th>LF_NU</th>\n",
              "    </tr>\n",
              "  </thead>\n",
              "  <tbody>\n",
              "    <tr>\n",
              "      <th>0</th>\n",
              "      <td>0.010583</td>\n",
              "      <td>0.206826</td>\n",
              "      <td>0.144780</td>\n",
              "      <td>0.025162</td>\n",
              "      <td>0.75</td>\n",
              "      <td>0.019620</td>\n",
              "      <td>0.023927</td>\n",
              "      <td>0.465894</td>\n",
              "      <td>0.534106</td>\n",
              "    </tr>\n",
              "    <tr>\n",
              "      <th>1</th>\n",
              "      <td>0.019991</td>\n",
              "      <td>0.213289</td>\n",
              "      <td>0.153873</td>\n",
              "      <td>0.011628</td>\n",
              "      <td>0.75</td>\n",
              "      <td>0.039449</td>\n",
              "      <td>0.042154</td>\n",
              "      <td>0.809172</td>\n",
              "      <td>0.190828</td>\n",
              "    </tr>\n",
              "    <tr>\n",
              "      <th>2</th>\n",
              "      <td>0.011127</td>\n",
              "      <td>0.215897</td>\n",
              "      <td>0.158621</td>\n",
              "      <td>0.010103</td>\n",
              "      <td>0.75</td>\n",
              "      <td>0.017035</td>\n",
              "      <td>0.025287</td>\n",
              "      <td>0.120401</td>\n",
              "      <td>0.879599</td>\n",
              "    </tr>\n",
              "    <tr>\n",
              "      <th>3</th>\n",
              "      <td>0.003301</td>\n",
              "      <td>0.210379</td>\n",
              "      <td>0.150331</td>\n",
              "      <td>0.000000</td>\n",
              "      <td>0.00</td>\n",
              "      <td>0.006895</td>\n",
              "      <td>0.007821</td>\n",
              "      <td>0.252820</td>\n",
              "      <td>0.747180</td>\n",
              "    </tr>\n",
              "    <tr>\n",
              "      <th>4</th>\n",
              "      <td>0.002996</td>\n",
              "      <td>0.277545</td>\n",
              "      <td>0.255255</td>\n",
              "      <td>0.000000</td>\n",
              "      <td>0.00</td>\n",
              "      <td>0.005056</td>\n",
              "      <td>0.004181</td>\n",
              "      <td>0.879810</td>\n",
              "      <td>0.120190</td>\n",
              "    </tr>\n",
              "  </tbody>\n",
              "</table>\n",
              "</div>\n",
              "      <button class=\"colab-df-convert\" onclick=\"convertToInteractive('df-fb3a9845-15ce-4286-9022-8fc214a12d93')\"\n",
              "              title=\"Convert this dataframe to an interactive table.\"\n",
              "              style=\"display:none;\">\n",
              "        \n",
              "  <svg xmlns=\"http://www.w3.org/2000/svg\" height=\"24px\"viewBox=\"0 0 24 24\"\n",
              "       width=\"24px\">\n",
              "    <path d=\"M0 0h24v24H0V0z\" fill=\"none\"/>\n",
              "    <path d=\"M18.56 5.44l.94 2.06.94-2.06 2.06-.94-2.06-.94-.94-2.06-.94 2.06-2.06.94zm-11 1L8.5 8.5l.94-2.06 2.06-.94-2.06-.94L8.5 2.5l-.94 2.06-2.06.94zm10 10l.94 2.06.94-2.06 2.06-.94-2.06-.94-.94-2.06-.94 2.06-2.06.94z\"/><path d=\"M17.41 7.96l-1.37-1.37c-.4-.4-.92-.59-1.43-.59-.52 0-1.04.2-1.43.59L10.3 9.45l-7.72 7.72c-.78.78-.78 2.05 0 2.83L4 21.41c.39.39.9.59 1.41.59.51 0 1.02-.2 1.41-.59l7.78-7.78 2.81-2.81c.8-.78.8-2.07 0-2.86zM5.41 20L4 18.59l7.72-7.72 1.47 1.35L5.41 20z\"/>\n",
              "  </svg>\n",
              "      </button>\n",
              "      \n",
              "  <style>\n",
              "    .colab-df-container {\n",
              "      display:flex;\n",
              "      flex-wrap:wrap;\n",
              "      gap: 12px;\n",
              "    }\n",
              "\n",
              "    .colab-df-convert {\n",
              "      background-color: #E8F0FE;\n",
              "      border: none;\n",
              "      border-radius: 50%;\n",
              "      cursor: pointer;\n",
              "      display: none;\n",
              "      fill: #1967D2;\n",
              "      height: 32px;\n",
              "      padding: 0 0 0 0;\n",
              "      width: 32px;\n",
              "    }\n",
              "\n",
              "    .colab-df-convert:hover {\n",
              "      background-color: #E2EBFA;\n",
              "      box-shadow: 0px 1px 2px rgba(60, 64, 67, 0.3), 0px 1px 3px 1px rgba(60, 64, 67, 0.15);\n",
              "      fill: #174EA6;\n",
              "    }\n",
              "\n",
              "    [theme=dark] .colab-df-convert {\n",
              "      background-color: #3B4455;\n",
              "      fill: #D2E3FC;\n",
              "    }\n",
              "\n",
              "    [theme=dark] .colab-df-convert:hover {\n",
              "      background-color: #434B5C;\n",
              "      box-shadow: 0px 1px 3px 1px rgba(0, 0, 0, 0.15);\n",
              "      filter: drop-shadow(0px 1px 2px rgba(0, 0, 0, 0.3));\n",
              "      fill: #FFFFFF;\n",
              "    }\n",
              "  </style>\n",
              "\n",
              "      <script>\n",
              "        const buttonEl =\n",
              "          document.querySelector('#df-fb3a9845-15ce-4286-9022-8fc214a12d93 button.colab-df-convert');\n",
              "        buttonEl.style.display =\n",
              "          google.colab.kernel.accessAllowed ? 'block' : 'none';\n",
              "\n",
              "        async function convertToInteractive(key) {\n",
              "          const element = document.querySelector('#df-fb3a9845-15ce-4286-9022-8fc214a12d93');\n",
              "          const dataTable =\n",
              "            await google.colab.kernel.invokeFunction('convertToInteractive',\n",
              "                                                     [key], {});\n",
              "          if (!dataTable) return;\n",
              "\n",
              "          const docLinkHtml = 'Like what you see? Visit the ' +\n",
              "            '<a target=\"_blank\" href=https://colab.research.google.com/notebooks/data_table.ipynb>data table notebook</a>'\n",
              "            + ' to learn more about interactive tables.';\n",
              "          element.innerHTML = '';\n",
              "          dataTable['output_type'] = 'display_data';\n",
              "          await google.colab.output.renderOutput(dataTable, element);\n",
              "          const docLink = document.createElement('div');\n",
              "          docLink.innerHTML = docLinkHtml;\n",
              "          element.appendChild(docLink);\n",
              "        }\n",
              "      </script>\n",
              "    </div>\n",
              "  </div>\n",
              "  "
            ]
          },
          "metadata": {},
          "execution_count": 17
        }
      ]
    },
    {
      "cell_type": "code",
      "source": [
        "dfx.astype('float64')"
      ],
      "metadata": {
        "colab": {
          "base_uri": "https://localhost:8080/"
        },
        "id": "b_f3a2tGuNe4",
        "outputId": "a6e3e1dd-ac6f-47cd-cad3-89d9ce52ac9d"
      },
      "execution_count": null,
      "outputs": [
        {
          "output_type": "execute_result",
          "data": {
            "text/plain": [
              "       STD_HR  HR_BEATS  HR_KUBIOS   VLF_MS2  VLF_HZ     RMSSD    STD_RR  \\\n",
              "0    0.010583  0.206826   0.144780  0.025162    0.75  0.019620  0.023927   \n",
              "1    0.019991  0.213289   0.153873  0.011628    0.75  0.039449  0.042154   \n",
              "2    0.011127  0.215897   0.158621  0.010103    0.75  0.017035  0.025287   \n",
              "3    0.003301  0.210379   0.150331  0.000000    0.00  0.006895  0.007821   \n",
              "4    0.002996  0.277545   0.255255  0.000000    0.00  0.005056  0.004181   \n",
              "..        ...       ...        ...       ...     ...       ...       ...   \n",
              "431  0.003485  0.216502   0.159896  0.000381    1.00  0.009439  0.007703   \n",
              "432  0.003118  0.220660   0.166332  0.000000    0.00  0.006343  0.006630   \n",
              "433  0.003240  0.221114   0.167100  0.023828    1.00  0.008602  0.006993   \n",
              "434  0.003485  0.217296   0.161077  0.021921    1.00  0.038441  0.007779   \n",
              "435  0.003485  0.216502   0.159896  0.033359    0.00  0.009439  0.007703   \n",
              "\n",
              "        HF_NU     LF_NU  \n",
              "0    0.465894  0.534106  \n",
              "1    0.809172  0.190828  \n",
              "2    0.120401  0.879599  \n",
              "3    0.252820  0.747180  \n",
              "4    0.879810  0.120190  \n",
              "..        ...       ...  \n",
              "431  0.647760  0.352240  \n",
              "432  0.850817  0.149183  \n",
              "433  0.606853  0.393147  \n",
              "434  0.405904  0.594096  \n",
              "435  0.591882  0.408118  \n",
              "\n",
              "[436 rows x 9 columns]"
            ],
            "text/html": [
              "\n",
              "  <div id=\"df-531602cf-c6ea-446d-9a1b-a45c78b41605\">\n",
              "    <div class=\"colab-df-container\">\n",
              "      <div>\n",
              "<style scoped>\n",
              "    .dataframe tbody tr th:only-of-type {\n",
              "        vertical-align: middle;\n",
              "    }\n",
              "\n",
              "    .dataframe tbody tr th {\n",
              "        vertical-align: top;\n",
              "    }\n",
              "\n",
              "    .dataframe thead th {\n",
              "        text-align: right;\n",
              "    }\n",
              "</style>\n",
              "<table border=\"1\" class=\"dataframe\">\n",
              "  <thead>\n",
              "    <tr style=\"text-align: right;\">\n",
              "      <th></th>\n",
              "      <th>STD_HR</th>\n",
              "      <th>HR_BEATS</th>\n",
              "      <th>HR_KUBIOS</th>\n",
              "      <th>VLF_MS2</th>\n",
              "      <th>VLF_HZ</th>\n",
              "      <th>RMSSD</th>\n",
              "      <th>STD_RR</th>\n",
              "      <th>HF_NU</th>\n",
              "      <th>LF_NU</th>\n",
              "    </tr>\n",
              "  </thead>\n",
              "  <tbody>\n",
              "    <tr>\n",
              "      <th>0</th>\n",
              "      <td>0.010583</td>\n",
              "      <td>0.206826</td>\n",
              "      <td>0.144780</td>\n",
              "      <td>0.025162</td>\n",
              "      <td>0.75</td>\n",
              "      <td>0.019620</td>\n",
              "      <td>0.023927</td>\n",
              "      <td>0.465894</td>\n",
              "      <td>0.534106</td>\n",
              "    </tr>\n",
              "    <tr>\n",
              "      <th>1</th>\n",
              "      <td>0.019991</td>\n",
              "      <td>0.213289</td>\n",
              "      <td>0.153873</td>\n",
              "      <td>0.011628</td>\n",
              "      <td>0.75</td>\n",
              "      <td>0.039449</td>\n",
              "      <td>0.042154</td>\n",
              "      <td>0.809172</td>\n",
              "      <td>0.190828</td>\n",
              "    </tr>\n",
              "    <tr>\n",
              "      <th>2</th>\n",
              "      <td>0.011127</td>\n",
              "      <td>0.215897</td>\n",
              "      <td>0.158621</td>\n",
              "      <td>0.010103</td>\n",
              "      <td>0.75</td>\n",
              "      <td>0.017035</td>\n",
              "      <td>0.025287</td>\n",
              "      <td>0.120401</td>\n",
              "      <td>0.879599</td>\n",
              "    </tr>\n",
              "    <tr>\n",
              "      <th>3</th>\n",
              "      <td>0.003301</td>\n",
              "      <td>0.210379</td>\n",
              "      <td>0.150331</td>\n",
              "      <td>0.000000</td>\n",
              "      <td>0.00</td>\n",
              "      <td>0.006895</td>\n",
              "      <td>0.007821</td>\n",
              "      <td>0.252820</td>\n",
              "      <td>0.747180</td>\n",
              "    </tr>\n",
              "    <tr>\n",
              "      <th>4</th>\n",
              "      <td>0.002996</td>\n",
              "      <td>0.277545</td>\n",
              "      <td>0.255255</td>\n",
              "      <td>0.000000</td>\n",
              "      <td>0.00</td>\n",
              "      <td>0.005056</td>\n",
              "      <td>0.004181</td>\n",
              "      <td>0.879810</td>\n",
              "      <td>0.120190</td>\n",
              "    </tr>\n",
              "    <tr>\n",
              "      <th>...</th>\n",
              "      <td>...</td>\n",
              "      <td>...</td>\n",
              "      <td>...</td>\n",
              "      <td>...</td>\n",
              "      <td>...</td>\n",
              "      <td>...</td>\n",
              "      <td>...</td>\n",
              "      <td>...</td>\n",
              "      <td>...</td>\n",
              "    </tr>\n",
              "    <tr>\n",
              "      <th>431</th>\n",
              "      <td>0.003485</td>\n",
              "      <td>0.216502</td>\n",
              "      <td>0.159896</td>\n",
              "      <td>0.000381</td>\n",
              "      <td>1.00</td>\n",
              "      <td>0.009439</td>\n",
              "      <td>0.007703</td>\n",
              "      <td>0.647760</td>\n",
              "      <td>0.352240</td>\n",
              "    </tr>\n",
              "    <tr>\n",
              "      <th>432</th>\n",
              "      <td>0.003118</td>\n",
              "      <td>0.220660</td>\n",
              "      <td>0.166332</td>\n",
              "      <td>0.000000</td>\n",
              "      <td>0.00</td>\n",
              "      <td>0.006343</td>\n",
              "      <td>0.006630</td>\n",
              "      <td>0.850817</td>\n",
              "      <td>0.149183</td>\n",
              "    </tr>\n",
              "    <tr>\n",
              "      <th>433</th>\n",
              "      <td>0.003240</td>\n",
              "      <td>0.221114</td>\n",
              "      <td>0.167100</td>\n",
              "      <td>0.023828</td>\n",
              "      <td>1.00</td>\n",
              "      <td>0.008602</td>\n",
              "      <td>0.006993</td>\n",
              "      <td>0.606853</td>\n",
              "      <td>0.393147</td>\n",
              "    </tr>\n",
              "    <tr>\n",
              "      <th>434</th>\n",
              "      <td>0.003485</td>\n",
              "      <td>0.217296</td>\n",
              "      <td>0.161077</td>\n",
              "      <td>0.021921</td>\n",
              "      <td>1.00</td>\n",
              "      <td>0.038441</td>\n",
              "      <td>0.007779</td>\n",
              "      <td>0.405904</td>\n",
              "      <td>0.594096</td>\n",
              "    </tr>\n",
              "    <tr>\n",
              "      <th>435</th>\n",
              "      <td>0.003485</td>\n",
              "      <td>0.216502</td>\n",
              "      <td>0.159896</td>\n",
              "      <td>0.033359</td>\n",
              "      <td>0.00</td>\n",
              "      <td>0.009439</td>\n",
              "      <td>0.007703</td>\n",
              "      <td>0.591882</td>\n",
              "      <td>0.408118</td>\n",
              "    </tr>\n",
              "  </tbody>\n",
              "</table>\n",
              "<p>436 rows × 9 columns</p>\n",
              "</div>\n",
              "      <button class=\"colab-df-convert\" onclick=\"convertToInteractive('df-531602cf-c6ea-446d-9a1b-a45c78b41605')\"\n",
              "              title=\"Convert this dataframe to an interactive table.\"\n",
              "              style=\"display:none;\">\n",
              "        \n",
              "  <svg xmlns=\"http://www.w3.org/2000/svg\" height=\"24px\"viewBox=\"0 0 24 24\"\n",
              "       width=\"24px\">\n",
              "    <path d=\"M0 0h24v24H0V0z\" fill=\"none\"/>\n",
              "    <path d=\"M18.56 5.44l.94 2.06.94-2.06 2.06-.94-2.06-.94-.94-2.06-.94 2.06-2.06.94zm-11 1L8.5 8.5l.94-2.06 2.06-.94-2.06-.94L8.5 2.5l-.94 2.06-2.06.94zm10 10l.94 2.06.94-2.06 2.06-.94-2.06-.94-.94-2.06-.94 2.06-2.06.94z\"/><path d=\"M17.41 7.96l-1.37-1.37c-.4-.4-.92-.59-1.43-.59-.52 0-1.04.2-1.43.59L10.3 9.45l-7.72 7.72c-.78.78-.78 2.05 0 2.83L4 21.41c.39.39.9.59 1.41.59.51 0 1.02-.2 1.41-.59l7.78-7.78 2.81-2.81c.8-.78.8-2.07 0-2.86zM5.41 20L4 18.59l7.72-7.72 1.47 1.35L5.41 20z\"/>\n",
              "  </svg>\n",
              "      </button>\n",
              "      \n",
              "  <style>\n",
              "    .colab-df-container {\n",
              "      display:flex;\n",
              "      flex-wrap:wrap;\n",
              "      gap: 12px;\n",
              "    }\n",
              "\n",
              "    .colab-df-convert {\n",
              "      background-color: #E8F0FE;\n",
              "      border: none;\n",
              "      border-radius: 50%;\n",
              "      cursor: pointer;\n",
              "      display: none;\n",
              "      fill: #1967D2;\n",
              "      height: 32px;\n",
              "      padding: 0 0 0 0;\n",
              "      width: 32px;\n",
              "    }\n",
              "\n",
              "    .colab-df-convert:hover {\n",
              "      background-color: #E2EBFA;\n",
              "      box-shadow: 0px 1px 2px rgba(60, 64, 67, 0.3), 0px 1px 3px 1px rgba(60, 64, 67, 0.15);\n",
              "      fill: #174EA6;\n",
              "    }\n",
              "\n",
              "    [theme=dark] .colab-df-convert {\n",
              "      background-color: #3B4455;\n",
              "      fill: #D2E3FC;\n",
              "    }\n",
              "\n",
              "    [theme=dark] .colab-df-convert:hover {\n",
              "      background-color: #434B5C;\n",
              "      box-shadow: 0px 1px 3px 1px rgba(0, 0, 0, 0.15);\n",
              "      filter: drop-shadow(0px 1px 2px rgba(0, 0, 0, 0.3));\n",
              "      fill: #FFFFFF;\n",
              "    }\n",
              "  </style>\n",
              "\n",
              "      <script>\n",
              "        const buttonEl =\n",
              "          document.querySelector('#df-531602cf-c6ea-446d-9a1b-a45c78b41605 button.colab-df-convert');\n",
              "        buttonEl.style.display =\n",
              "          google.colab.kernel.accessAllowed ? 'block' : 'none';\n",
              "\n",
              "        async function convertToInteractive(key) {\n",
              "          const element = document.querySelector('#df-531602cf-c6ea-446d-9a1b-a45c78b41605');\n",
              "          const dataTable =\n",
              "            await google.colab.kernel.invokeFunction('convertToInteractive',\n",
              "                                                     [key], {});\n",
              "          if (!dataTable) return;\n",
              "\n",
              "          const docLinkHtml = 'Like what you see? Visit the ' +\n",
              "            '<a target=\"_blank\" href=https://colab.research.google.com/notebooks/data_table.ipynb>data table notebook</a>'\n",
              "            + ' to learn more about interactive tables.';\n",
              "          element.innerHTML = '';\n",
              "          dataTable['output_type'] = 'display_data';\n",
              "          await google.colab.output.renderOutput(dataTable, element);\n",
              "          const docLink = document.createElement('div');\n",
              "          docLink.innerHTML = docLinkHtml;\n",
              "          element.appendChild(docLink);\n",
              "        }\n",
              "      </script>\n",
              "    </div>\n",
              "  </div>\n",
              "  "
            ]
          },
          "metadata": {},
          "execution_count": 18
        }
      ]
    },
    {
      "cell_type": "code",
      "source": [
        "dfx.dtypes"
      ],
      "metadata": {
        "colab": {
          "base_uri": "https://localhost:8080/"
        },
        "id": "Nu0wQZopvHoF",
        "outputId": "a1433396-d879-40d3-8344-c07d7ae9df64"
      },
      "execution_count": null,
      "outputs": [
        {
          "output_type": "execute_result",
          "data": {
            "text/plain": [
              "STD_HR       float64\n",
              "HR_BEATS     float64\n",
              "HR_KUBIOS    float64\n",
              "VLF_MS2      float64\n",
              "VLF_HZ       float64\n",
              "RMSSD        float64\n",
              "STD_RR       float64\n",
              "HF_NU        float64\n",
              "LF_NU        float64\n",
              "dtype: object"
            ]
          },
          "metadata": {},
          "execution_count": 19
        }
      ]
    },
    {
      "cell_type": "code",
      "source": [
        "correlation = dfx\n",
        "correlation = correlation.corr()\n",
        "corre = correlation.abs()\n",
        "plt.figure(figsize=(15,8))\n",
        "sns.heatmap(data=corre, annot=True)\n",
        "plt.title('Correlation Heatmap', fontsize=30, pad=20)\n",
        "plt.show()"
      ],
      "metadata": {
        "colab": {
          "base_uri": "https://localhost:8080/"
        },
        "id": "iTdUB-trt_-p",
        "outputId": "7d584f2b-eb90-4bad-a5f0-784f46ab6668"
      },
      "execution_count": null,
      "outputs": [
        {
          "output_type": "display_data",
          "data": {
            "text/plain": [
              "<Figure size 1080x576 with 2 Axes>"
            ],
            "image/png": "[encoded data removed]"
          },
          "metadata": {
            "needs_background": "light"
          }
        }
      ]
    },
    {
      "cell_type": "markdown",
      "source": [
        "#### removing process of redundant feature with α=0.5"
      ],
      "metadata": {
        "id": "F7ZRK9PlxKYQ"
      }
    },
    {
      "cell_type": "code",
      "source": [
        "rfa = correlation[correlation < 0.6]\n",
        "rfa = rfa.abs()\n",
        "plt.figure(figsize=(15,8))\n",
        "sns.heatmap(data=rfa, annot=True)\n",
        "plt.title('Correlation Heatmap', fontsize=30, pad=20)\n",
        "plt.show()"
      ],
      "metadata": {
        "colab": {
          "base_uri": "https://localhost:8080/",
          "height": 527
        },
        "id": "-oETIUVzvs0V",
        "outputId": "8bafe64c-f7a2-4867-bf3b-730c7eeb95b6"
      },
      "execution_count": null,
      "outputs": [
        {
          "output_type": "display_data",
          "data": {
            "text/plain": [
              "<Figure size 1080x576 with 2 Axes>"
            ],
            "image/png": "[encoded data removed]"
          },
          "metadata": {
            "needs_background": "light"
          }
        }
      ]
    },
    {
      "cell_type": "markdown",
      "source": [
        "no remove =  'HR_KUBIOS','HR_BEATS','RMSSD','STD_HR','STD_RR','VLF_MS2','VLF_HZ'"
      ],
      "metadata": {
        "id": "aMzt3SB4ypQp"
      }
    },
    {
      "cell_type": "markdown",
      "source": [
        "### comparing kernel"
      ],
      "metadata": {
        "id": "y5lM3g1pujKR"
      }
    },
    {
      "cell_type": "code",
      "source": [
        "def fitting(X, y, C, gamma):\n",
        "    # Create training and testing samples\n",
        "    X_train, X_test, y_train, y_test = train_test_split(X, y, test_size=0.2, random_state=0)\n",
        "\n",
        "    # Fit the model\n",
        "    # Note, available kernels: {‘linear’, ‘poly’, ‘rbf’, ‘sigmoid’, ‘precomputed’}, default=’rbf’\n",
        "    model = SVC(kernel='rbf', probability=True, C=C, gamma=gamma) #dicoba sigmoid\n",
        "    clf = model.fit(X_train, y_train)\n",
        "\n",
        "    # Predict class labels on training data\n",
        "    pred_labels_tr = model.predict(X_train)\n",
        "    # Predict class labels on a test data\n",
        "    pred_labels_te = model.predict(X_test)\n",
        "\n",
        "    # Use score method to get accuracy of the model\n",
        "    print('----- Evaluation on Test Data -----')\n",
        "    score_te = model.score(X_test, y_test)\n",
        "    print('Accuracy Score: ', score_te)\n",
        "    # Look at classification report to evaluate the model\n",
        "    print(classification_report(y_test, pred_labels_te))\n",
        "    print('--------------------------------------------------------')\n",
        "\n",
        "    print('----- Evaluation on Training Data -----')\n",
        "    score_tr = model.score(X_train, y_train)\n",
        "    print('Accuracy Score: ', score_tr)\n",
        "    # Look at classification report to evaluate the model\n",
        "    print(classification_report(y_train, pred_labels_tr))\n",
        "    print('--------------------------------------------------------')\n",
        "\n",
        "    '''print(pred_labels_tr)\n",
        "    print(pred_labels_te)\n",
        "    col1 = \"pred-ytrain\"\n",
        "    col2 = \"pred-ytest\"\n",
        "    df = pd.DataFrame({col1:pred_labels_tr})\n",
        "    df.to_csv('pred-train-rbf', index=False)\n",
        "    df1 = pd.DataFrame({col2:pred_labels_te})\n",
        "    df1.to_csv('pred-test-rbf', index=False)'''\n",
        "\n",
        "    # Return relevant data for chart plotting\n",
        "    return X_train, X_test, y_train, y_test, clf\n",
        "\n",
        "    "
      ],
      "metadata": {
        "id": "eTnuh2Lbuh67"
      },
      "execution_count": null,
      "outputs": []
    },
    {
      "cell_type": "code",
      "source": [
        "c = 100\n",
        "g = 40000"
      ],
      "metadata": {
        "id": "N1K1_cbBvQb4"
      },
      "execution_count": null,
      "outputs": []
    },
    {
      "cell_type": "code",
      "source": [
        "# Select data for model\n",
        "#X = df[[ 'HR_KUBIOS','HR_BEATS','RMSSD','STD_HR','STD_RR','VLF_MS2','VLF_HZ','LF_NU','HF_NU']]\n",
        "X = df[[ 'HR_KUBIOS','HR_BEATS','STD_HR', 'RMSSD','STD_RR','VLF_MS2','VLF_HZ']]\n",
        "\n",
        "#X=df.drop('class', axis=1, inplace=True)\n",
        "y= dfy.ravel()\n",
        "\n",
        "# Fit the model and display results\n",
        "X_train, X_test, y_train, y_test, clf = fitting(X, y, c, g)"
      ],
      "metadata": {
        "colab": {
          "base_uri": "https://localhost:8080/"
        },
        "id": "Z5vhoso9vJex",
        "outputId": "02a74f08-54be-4a76-e344-5455088c8c7e"
      },
      "execution_count": null,
      "outputs": [
        {
          "output_type": "stream",
          "name": "stdout",
          "text": [
            "----- Evaluation on Test Data -----\n",
            "Accuracy Score:  0.7954545454545454\n",
            "              precision    recall  f1-score   support\n",
            "\n",
            "         0.0       0.87      0.57      0.69        35\n",
            "         1.0       0.77      0.94      0.85        53\n",
            "\n",
            "    accuracy                           0.80        88\n",
            "   macro avg       0.82      0.76      0.77        88\n",
            "weighted avg       0.81      0.80      0.78        88\n",
            "\n",
            "--------------------------------------------------------\n",
            "----- Evaluation on Training Data -----\n",
            "Accuracy Score:  0.9885057471264368\n",
            "              precision    recall  f1-score   support\n",
            "\n",
            "         0.0       1.00      0.97      0.99       137\n",
            "         1.0       0.98      1.00      0.99       211\n",
            "\n",
            "    accuracy                           0.99       348\n",
            "   macro avg       0.99      0.99      0.99       348\n",
            "weighted avg       0.99      0.99      0.99       348\n",
            "\n",
            "--------------------------------------------------------\n"
          ]
        }
      ]
    },
    {
      "cell_type": "markdown",
      "source": [
        "#### variasi nilai-c"
      ],
      "metadata": {
        "id": "BTGNJUT36x5w"
      }
    },
    {
      "cell_type": "code",
      "source": [
        "# Select data for model\n",
        "#X = df[[ 'HR_KUBIOS','HR_BEATS','RMSSD','STD_HR','STD_RR','VLF_MS2','VLF_HZ','LF_NU','HF_NU']]\n",
        "X = df[[ 'HR_KUBIOS','HR_BEATS','STD_HR', 'RMSSD','STD_RR','VLF_MS2','VLF_HZ']]\n",
        "\n",
        "#X=df.drop('class', axis=1, inplace=True)\n",
        "y= dfy.ravel()\n",
        "\n",
        "# Fit the model and display results\n",
        "X_train, X_test, y_train, y_test, clf = fitting(X, y, 10, 50000)"
      ],
      "metadata": {
        "colab": {
          "base_uri": "https://localhost:8080/"
        },
        "id": "NtZMMcAx3fw2",
        "outputId": "1b56cdfb-036e-4953-c438-59a2fa84464e"
      },
      "execution_count": null,
      "outputs": [
        {
          "output_type": "stream",
          "name": "stdout",
          "text": [
            "----- Evaluation on Test Data -----\n",
            "Accuracy Score:  0.8068181818181818\n",
            "              precision    recall  f1-score   support\n",
            "\n",
            "         0.0       0.91      0.57      0.70        35\n",
            "         1.0       0.77      0.96      0.86        53\n",
            "\n",
            "    accuracy                           0.81        88\n",
            "   macro avg       0.84      0.77      0.78        88\n",
            "weighted avg       0.83      0.81      0.80        88\n",
            "\n",
            "--------------------------------------------------------\n",
            "----- Evaluation on Training Data -----\n",
            "Accuracy Score:  0.985632183908046\n",
            "              precision    recall  f1-score   support\n",
            "\n",
            "         0.0       1.00      0.96      0.98       137\n",
            "         1.0       0.98      1.00      0.99       211\n",
            "\n",
            "    accuracy                           0.99       348\n",
            "   macro avg       0.99      0.98      0.98       348\n",
            "weighted avg       0.99      0.99      0.99       348\n",
            "\n",
            "--------------------------------------------------------\n"
          ]
        }
      ]
    },
    {
      "cell_type": "code",
      "source": [
        "# Select data for model\n",
        "#X = df[[ 'HR_KUBIOS','HR_BEATS','RMSSD','STD_HR','STD_RR','VLF_MS2','VLF_HZ','LF_NU','HF_NU']]\n",
        "X = df[[ 'HR_KUBIOS','HR_BEATS','STD_HR', 'RMSSD','STD_RR','VLF_MS2','VLF_HZ']]\n",
        "\n",
        "#X=df.drop('class', axis=1, inplace=True)\n",
        "y= dfy.ravel()\n",
        "\n",
        "# Fit the model and display results\n",
        "X_train, X_test, y_train, y_test, clf = fitting(X, y, 100, 50000)"
      ],
      "metadata": {
        "colab": {
          "base_uri": "https://localhost:8080/"
        },
        "id": "GucQ1mDm3jKG",
        "outputId": "77b151df-49d0-437e-f879-0bfa5920c2b1"
      },
      "execution_count": null,
      "outputs": [
        {
          "output_type": "stream",
          "name": "stdout",
          "text": [
            "----- Evaluation on Test Data -----\n",
            "Accuracy Score:  0.8068181818181818\n",
            "              precision    recall  f1-score   support\n",
            "\n",
            "         0.0       0.91      0.57      0.70        35\n",
            "         1.0       0.77      0.96      0.86        53\n",
            "\n",
            "    accuracy                           0.81        88\n",
            "   macro avg       0.84      0.77      0.78        88\n",
            "weighted avg       0.83      0.81      0.80        88\n",
            "\n",
            "--------------------------------------------------------\n",
            "----- Evaluation on Training Data -----\n",
            "Accuracy Score:  0.9885057471264368\n",
            "              precision    recall  f1-score   support\n",
            "\n",
            "         0.0       1.00      0.97      0.99       137\n",
            "         1.0       0.98      1.00      0.99       211\n",
            "\n",
            "    accuracy                           0.99       348\n",
            "   macro avg       0.99      0.99      0.99       348\n",
            "weighted avg       0.99      0.99      0.99       348\n",
            "\n",
            "--------------------------------------------------------\n"
          ]
        }
      ]
    },
    {
      "cell_type": "code",
      "source": [
        "# Select data for model\n",
        "#X = df[[ 'HR_KUBIOS','HR_BEATS','RMSSD','STD_HR','STD_RR','VLF_MS2','VLF_HZ','LF_NU','HF_NU']]\n",
        "X = df[[ 'HR_KUBIOS','HR_BEATS','STD_HR', 'RMSSD','STD_RR','VLF_MS2','VLF_HZ']]\n",
        "\n",
        "#X=df.drop('class', axis=1, inplace=True)\n",
        "y= dfy.ravel()\n",
        "\n",
        "# Fit the model and display results\n",
        "X_train, X_test, y_train, y_test, clf = fitting(X, y, 1000, 50000)"
      ],
      "metadata": {
        "colab": {
          "base_uri": "https://localhost:8080/"
        },
        "id": "MIi362jO3kpb",
        "outputId": "a53cf2a0-c7b7-47dd-e226-82f67ed78254"
      },
      "execution_count": null,
      "outputs": [
        {
          "output_type": "stream",
          "name": "stdout",
          "text": [
            "----- Evaluation on Test Data -----\n",
            "Accuracy Score:  0.8068181818181818\n",
            "              precision    recall  f1-score   support\n",
            "\n",
            "         0.0       0.91      0.57      0.70        35\n",
            "         1.0       0.77      0.96      0.86        53\n",
            "\n",
            "    accuracy                           0.81        88\n",
            "   macro avg       0.84      0.77      0.78        88\n",
            "weighted avg       0.83      0.81      0.80        88\n",
            "\n",
            "--------------------------------------------------------\n",
            "----- Evaluation on Training Data -----\n",
            "Accuracy Score:  0.9885057471264368\n",
            "              precision    recall  f1-score   support\n",
            "\n",
            "         0.0       1.00      0.97      0.99       137\n",
            "         1.0       0.98      1.00      0.99       211\n",
            "\n",
            "    accuracy                           0.99       348\n",
            "   macro avg       0.99      0.99      0.99       348\n",
            "weighted avg       0.99      0.99      0.99       348\n",
            "\n",
            "--------------------------------------------------------\n"
          ]
        }
      ]
    },
    {
      "cell_type": "code",
      "source": [
        "# Select data for model\n",
        "#X = df[[ 'HR_KUBIOS','HR_BEATS','RMSSD','STD_HR','STD_RR','VLF_MS2','VLF_HZ','LF_NU','HF_NU']]\n",
        "X = df[[ 'HR_KUBIOS','HR_BEATS','STD_HR', 'RMSSD','STD_RR','VLF_MS2','VLF_HZ']]\n",
        "\n",
        "#X=df.drop('class', axis=1, inplace=True)\n",
        "y= dfy.ravel()\n",
        "\n",
        "# Fit the model and display results\n",
        "X_train, X_test, y_train, y_test, clf = fitting(X, y, 10000, 50000)"
      ],
      "metadata": {
        "colab": {
          "base_uri": "https://localhost:8080/"
        },
        "id": "KILJ_bWm3mVg",
        "outputId": "b34f2aaf-6b00-4a22-c797-fb3ebb15c556"
      },
      "execution_count": null,
      "outputs": [
        {
          "output_type": "stream",
          "name": "stdout",
          "text": [
            "----- Evaluation on Test Data -----\n",
            "Accuracy Score:  0.8068181818181818\n",
            "              precision    recall  f1-score   support\n",
            "\n",
            "         0.0       0.91      0.57      0.70        35\n",
            "         1.0       0.77      0.96      0.86        53\n",
            "\n",
            "    accuracy                           0.81        88\n",
            "   macro avg       0.84      0.77      0.78        88\n",
            "weighted avg       0.83      0.81      0.80        88\n",
            "\n",
            "--------------------------------------------------------\n",
            "----- Evaluation on Training Data -----\n",
            "Accuracy Score:  0.9885057471264368\n",
            "              precision    recall  f1-score   support\n",
            "\n",
            "         0.0       1.00      0.97      0.99       137\n",
            "         1.0       0.98      1.00      0.99       211\n",
            "\n",
            "    accuracy                           0.99       348\n",
            "   macro avg       0.99      0.99      0.99       348\n",
            "weighted avg       0.99      0.99      0.99       348\n",
            "\n",
            "--------------------------------------------------------\n"
          ]
        }
      ]
    },
    {
      "cell_type": "markdown",
      "source": [
        "#### variasi gama"
      ],
      "metadata": {
        "id": "4gvXQ5Q74AH9"
      }
    },
    {
      "cell_type": "code",
      "source": [
        "# Select data for model\n",
        "#X = df[[ 'HR_KUBIOS','HR_BEATS','RMSSD','STD_HR','STD_RR','VLF_MS2','VLF_HZ','LF_NU','HF_NU']]\n",
        "X = df[[ 'HR_KUBIOS','HR_BEATS','STD_HR', 'RMSSD','STD_RR','VLF_MS2','VLF_HZ']]\n",
        "\n",
        "#X=df.drop('class', axis=1, inplace=True)\n",
        "y= dfy.ravel()\n",
        "\n",
        "# Fit the model and display results\n",
        "X_train, X_test, y_train, y_test, clf = fitting(X, y, 10, 10)"
      ],
      "metadata": {
        "colab": {
          "base_uri": "https://localhost:8080/"
        },
        "id": "q5KLKYD63_gI",
        "outputId": "36c61a89-7847-48f7-ce33-5c8846109fc5"
      },
      "execution_count": null,
      "outputs": [
        {
          "output_type": "stream",
          "name": "stdout",
          "text": [
            "----- Evaluation on Test Data -----\n",
            "Accuracy Score:  0.5681818181818182\n",
            "              precision    recall  f1-score   support\n",
            "\n",
            "         0.0       0.47      0.60      0.52        35\n",
            "         1.0       0.67      0.55      0.60        53\n",
            "\n",
            "    accuracy                           0.57        88\n",
            "   macro avg       0.57      0.57      0.56        88\n",
            "weighted avg       0.59      0.57      0.57        88\n",
            "\n",
            "--------------------------------------------------------\n",
            "----- Evaluation on Training Data -----\n",
            "Accuracy Score:  0.7068965517241379\n",
            "              precision    recall  f1-score   support\n",
            "\n",
            "         0.0       0.62      0.66      0.64       137\n",
            "         1.0       0.77      0.74      0.75       211\n",
            "\n",
            "    accuracy                           0.71       348\n",
            "   macro avg       0.69      0.70      0.70       348\n",
            "weighted avg       0.71      0.71      0.71       348\n",
            "\n",
            "--------------------------------------------------------\n"
          ]
        }
      ]
    },
    {
      "cell_type": "code",
      "source": [
        "# Select data for model\n",
        "#X = df[[ 'HR_KUBIOS','HR_BEATS','RMSSD','STD_HR','STD_RR','VLF_MS2','VLF_HZ','LF_NU','HF_NU']]\n",
        "X = df[[ 'HR_KUBIOS','HR_BEATS','STD_HR', 'RMSSD','STD_RR','VLF_MS2','VLF_HZ']]\n",
        "\n",
        "#X=df.drop('class', axis=1, inplace=True)\n",
        "y= dfy.ravel()\n",
        "\n",
        "# Fit the model and display results\n",
        "X_train, X_test, y_train, y_test, clf = fitting(X, y, 10, 50)"
      ],
      "metadata": {
        "colab": {
          "base_uri": "https://localhost:8080/"
        },
        "id": "Z_FG9llv5G4Y",
        "outputId": "f0b570be-776b-4b41-9fdd-c66d1f92bbd2"
      },
      "execution_count": null,
      "outputs": [
        {
          "output_type": "stream",
          "name": "stdout",
          "text": [
            "----- Evaluation on Test Data -----\n",
            "Accuracy Score:  0.6136363636363636\n",
            "              precision    recall  f1-score   support\n",
            "\n",
            "         0.0       0.51      0.71      0.60        35\n",
            "         1.0       0.74      0.55      0.63        53\n",
            "\n",
            "    accuracy                           0.61        88\n",
            "   macro avg       0.63      0.63      0.61        88\n",
            "weighted avg       0.65      0.61      0.62        88\n",
            "\n",
            "--------------------------------------------------------\n",
            "----- Evaluation on Training Data -----\n",
            "Accuracy Score:  0.7586206896551724\n",
            "              precision    recall  f1-score   support\n",
            "\n",
            "         0.0       0.66      0.78      0.72       137\n",
            "         1.0       0.84      0.74      0.79       211\n",
            "\n",
            "    accuracy                           0.76       348\n",
            "   macro avg       0.75      0.76      0.75       348\n",
            "weighted avg       0.77      0.76      0.76       348\n",
            "\n",
            "--------------------------------------------------------\n"
          ]
        }
      ]
    },
    {
      "cell_type": "code",
      "source": [
        "# Select data for model\n",
        "#X = df[[ 'HR_KUBIOS','HR_BEATS','RMSSD','STD_HR','STD_RR','VLF_MS2','VLF_HZ','LF_NU','HF_NU']]\n",
        "X = df[[ 'HR_KUBIOS','HR_BEATS','STD_HR', 'RMSSD','STD_RR','VLF_MS2','VLF_HZ']]\n",
        "\n",
        "#X=df.drop('class', axis=1, inplace=True)\n",
        "y= dfy.ravel()\n",
        "\n",
        "# Fit the model and display results\n",
        "X_train, X_test, y_train, y_test, clf = fitting(X, y, 10, 100)"
      ],
      "metadata": {
        "colab": {
          "base_uri": "https://localhost:8080/"
        },
        "id": "-jOR8Nff4Gwo",
        "outputId": "02b44094-8fe3-4fcf-845c-abd2c609c201"
      },
      "execution_count": null,
      "outputs": [
        {
          "output_type": "stream",
          "name": "stdout",
          "text": [
            "----- Evaluation on Test Data -----\n",
            "Accuracy Score:  0.6363636363636364\n",
            "              precision    recall  f1-score   support\n",
            "\n",
            "         0.0       0.53      0.69      0.60        35\n",
            "         1.0       0.74      0.60      0.67        53\n",
            "\n",
            "    accuracy                           0.64        88\n",
            "   macro avg       0.64      0.64      0.63        88\n",
            "weighted avg       0.66      0.64      0.64        88\n",
            "\n",
            "--------------------------------------------------------\n",
            "----- Evaluation on Training Data -----\n",
            "Accuracy Score:  0.7758620689655172\n",
            "              precision    recall  f1-score   support\n",
            "\n",
            "         0.0       0.69      0.78      0.73       137\n",
            "         1.0       0.84      0.77      0.81       211\n",
            "\n",
            "    accuracy                           0.78       348\n",
            "   macro avg       0.77      0.78      0.77       348\n",
            "weighted avg       0.78      0.78      0.78       348\n",
            "\n",
            "--------------------------------------------------------\n"
          ]
        }
      ]
    },
    {
      "cell_type": "code",
      "source": [
        "# Select data for model\n",
        "#X = df[[ 'HR_KUBIOS','HR_BEATS','RMSSD','STD_HR','STD_RR','VLF_MS2','VLF_HZ','LF_NU','HF_NU']]\n",
        "X = df[[ 'HR_KUBIOS','HR_BEATS','STD_HR', 'RMSSD','STD_RR','VLF_MS2','VLF_HZ']]\n",
        "\n",
        "#X=df.drop('class', axis=1, inplace=True)\n",
        "y= dfy.ravel()\n",
        "\n",
        "# Fit the model and display results\n",
        "X_train, X_test, y_train, y_test, clf = fitting(X, y, 100, 1000)"
      ],
      "metadata": {
        "colab": {
          "base_uri": "https://localhost:8080/"
        },
        "id": "B0O-exdz4JbD",
        "outputId": "2fd89bf1-e4c9-48fa-ba2f-15891026e977"
      },
      "execution_count": null,
      "outputs": [
        {
          "output_type": "stream",
          "name": "stdout",
          "text": [
            "----- Evaluation on Test Data -----\n",
            "Accuracy Score:  0.7045454545454546\n",
            "              precision    recall  f1-score   support\n",
            "\n",
            "         0.0       0.66      0.54      0.59        35\n",
            "         1.0       0.73      0.81      0.77        53\n",
            "\n",
            "    accuracy                           0.70        88\n",
            "   macro avg       0.69      0.68      0.68        88\n",
            "weighted avg       0.70      0.70      0.70        88\n",
            "\n",
            "--------------------------------------------------------\n",
            "----- Evaluation on Training Data -----\n",
            "Accuracy Score:  0.9482758620689655\n",
            "              precision    recall  f1-score   support\n",
            "\n",
            "         0.0       0.95      0.92      0.93       137\n",
            "         1.0       0.95      0.97      0.96       211\n",
            "\n",
            "    accuracy                           0.95       348\n",
            "   macro avg       0.95      0.94      0.95       348\n",
            "weighted avg       0.95      0.95      0.95       348\n",
            "\n",
            "--------------------------------------------------------\n"
          ]
        }
      ]
    },
    {
      "cell_type": "code",
      "source": [
        "# Select data for model\n",
        "#X = df[[ 'HR_KUBIOS','HR_BEATS','RMSSD','STD_HR','STD_RR','VLF_MS2','VLF_HZ','LF_NU','HF_NU']]\n",
        "X = df[[ 'HR_KUBIOS','HR_BEATS','STD_HR', 'RMSSD','STD_RR','VLF_MS2','VLF_HZ']]\n",
        "\n",
        "#X=df.drop('class', axis=1, inplace=True)\n",
        "y= dfy.ravel()\n",
        "\n",
        "# Fit the model and display results\n",
        "X_train, X_test, y_train, y_test, clf = fitting(X, y, 100, 1000)"
      ],
      "metadata": {
        "colab": {
          "base_uri": "https://localhost:8080/"
        },
        "id": "58esez2d5CvW",
        "outputId": "a67a1a01-95d2-4422-e48e-be2f16b72ad4"
      },
      "execution_count": null,
      "outputs": [
        {
          "output_type": "stream",
          "name": "stdout",
          "text": [
            "----- Evaluation on Test Data -----\n",
            "Accuracy Score:  0.7045454545454546\n",
            "              precision    recall  f1-score   support\n",
            "\n",
            "         0.0       0.66      0.54      0.59        35\n",
            "         1.0       0.73      0.81      0.77        53\n",
            "\n",
            "    accuracy                           0.70        88\n",
            "   macro avg       0.69      0.68      0.68        88\n",
            "weighted avg       0.70      0.70      0.70        88\n",
            "\n",
            "--------------------------------------------------------\n",
            "----- Evaluation on Training Data -----\n",
            "Accuracy Score:  0.9482758620689655\n",
            "              precision    recall  f1-score   support\n",
            "\n",
            "         0.0       0.95      0.92      0.93       137\n",
            "         1.0       0.95      0.97      0.96       211\n",
            "\n",
            "    accuracy                           0.95       348\n",
            "   macro avg       0.95      0.94      0.95       348\n",
            "weighted avg       0.95      0.95      0.95       348\n",
            "\n",
            "--------------------------------------------------------\n"
          ]
        }
      ]
    },
    {
      "cell_type": "code",
      "source": [
        "# Select data for model\n",
        "#X = df[[ 'HR_KUBIOS','HR_BEATS','RMSSD','STD_HR','STD_RR','VLF_MS2','VLF_HZ','LF_NU','HF_NU']]\n",
        "X = df[[ 'HR_KUBIOS','HR_BEATS','STD_HR', 'RMSSD','STD_RR','VLF_MS2','VLF_HZ']]\n",
        "\n",
        "#X=df.drop('class', axis=1, inplace=True)\n",
        "y= dfy.ravel()\n",
        "\n",
        "# Fit the model and display results\n",
        "X_train, X_test, y_train, y_test, clf = fitting(X, y, 100, 5000)"
      ],
      "metadata": {
        "colab": {
          "base_uri": "https://localhost:8080/"
        },
        "id": "VKq5TFI853_Q",
        "outputId": "f7918b43-887d-496b-e967-54e3e6fdb121"
      },
      "execution_count": null,
      "outputs": [
        {
          "output_type": "stream",
          "name": "stdout",
          "text": [
            "----- Evaluation on Test Data -----\n",
            "Accuracy Score:  0.6931818181818182\n",
            "              precision    recall  f1-score   support\n",
            "\n",
            "         0.0       0.64      0.51      0.57        35\n",
            "         1.0       0.72      0.81      0.76        53\n",
            "\n",
            "    accuracy                           0.69        88\n",
            "   macro avg       0.68      0.66      0.67        88\n",
            "weighted avg       0.69      0.69      0.69        88\n",
            "\n",
            "--------------------------------------------------------\n",
            "----- Evaluation on Training Data -----\n",
            "Accuracy Score:  0.9885057471264368\n",
            "              precision    recall  f1-score   support\n",
            "\n",
            "         0.0       1.00      0.97      0.99       137\n",
            "         1.0       0.98      1.00      0.99       211\n",
            "\n",
            "    accuracy                           0.99       348\n",
            "   macro avg       0.99      0.99      0.99       348\n",
            "weighted avg       0.99      0.99      0.99       348\n",
            "\n",
            "--------------------------------------------------------\n"
          ]
        }
      ]
    },
    {
      "cell_type": "code",
      "source": [
        "# Select data for model\n",
        "#X = df[[ 'HR_KUBIOS','HR_BEATS','RMSSD','STD_HR','STD_RR','VLF_MS2','VLF_HZ','LF_NU','HF_NU']]\n",
        "X = df[[ 'HR_KUBIOS','HR_BEATS','STD_HR', 'RMSSD','STD_RR','VLF_MS2','VLF_HZ']]\n",
        "\n",
        "#X=df.drop('class', axis=1, inplace=True)\n",
        "y= dfy.ravel()\n",
        "\n",
        "# Fit the model and display results\n",
        "X_train, X_test, y_train, y_test, clf = fitting(X, y, 100, 10000)"
      ],
      "metadata": {
        "colab": {
          "base_uri": "https://localhost:8080/"
        },
        "id": "eg0WBhhd4My3",
        "outputId": "bb7bb19c-64bc-4c4e-d8a6-d431defcea21"
      },
      "execution_count": null,
      "outputs": [
        {
          "output_type": "stream",
          "name": "stdout",
          "text": [
            "----- Evaluation on Test Data -----\n",
            "Accuracy Score:  0.7159090909090909\n",
            "              precision    recall  f1-score   support\n",
            "\n",
            "         0.0       0.68      0.54      0.60        35\n",
            "         1.0       0.73      0.83      0.78        53\n",
            "\n",
            "    accuracy                           0.72        88\n",
            "   macro avg       0.71      0.69      0.69        88\n",
            "weighted avg       0.71      0.72      0.71        88\n",
            "\n",
            "--------------------------------------------------------\n",
            "----- Evaluation on Training Data -----\n",
            "Accuracy Score:  0.9885057471264368\n",
            "              precision    recall  f1-score   support\n",
            "\n",
            "         0.0       1.00      0.97      0.99       137\n",
            "         1.0       0.98      1.00      0.99       211\n",
            "\n",
            "    accuracy                           0.99       348\n",
            "   macro avg       0.99      0.99      0.99       348\n",
            "weighted avg       0.99      0.99      0.99       348\n",
            "\n",
            "--------------------------------------------------------\n"
          ]
        }
      ]
    },
    {
      "cell_type": "code",
      "source": [
        "# Select data for model\n",
        "#X = df[[ 'HR_KUBIOS','HR_BEATS','RMSSD','STD_HR','STD_RR','VLF_MS2','VLF_HZ','LF_NU','HF_NU']]\n",
        "X = df[[ 'HR_KUBIOS','HR_BEATS','STD_HR', 'RMSSD','STD_RR','VLF_MS2','VLF_HZ']]\n",
        "\n",
        "#X=df.drop('class', axis=1, inplace=True)\n",
        "y= dfy.ravel()\n",
        "\n",
        "# Fit the model and display results\n",
        "X_train, X_test, y_train, y_test, clf = fitting(X, y, 100, 50000)"
      ],
      "metadata": {
        "colab": {
          "base_uri": "https://localhost:8080/"
        },
        "id": "KrRQ8zGr4j90",
        "outputId": "9415299c-9211-446e-9774-af431d9f34e1"
      },
      "execution_count": null,
      "outputs": [
        {
          "output_type": "stream",
          "name": "stdout",
          "text": [
            "----- Evaluation on Test Data -----\n",
            "Accuracy Score:  0.8068181818181818\n",
            "              precision    recall  f1-score   support\n",
            "\n",
            "         0.0       0.91      0.57      0.70        35\n",
            "         1.0       0.77      0.96      0.86        53\n",
            "\n",
            "    accuracy                           0.81        88\n",
            "   macro avg       0.84      0.77      0.78        88\n",
            "weighted avg       0.83      0.81      0.80        88\n",
            "\n",
            "--------------------------------------------------------\n",
            "----- Evaluation on Training Data -----\n",
            "Accuracy Score:  0.9885057471264368\n",
            "              precision    recall  f1-score   support\n",
            "\n",
            "         0.0       1.00      0.97      0.99       137\n",
            "         1.0       0.98      1.00      0.99       211\n",
            "\n",
            "    accuracy                           0.99       348\n",
            "   macro avg       0.99      0.99      0.99       348\n",
            "weighted avg       0.99      0.99      0.99       348\n",
            "\n",
            "--------------------------------------------------------\n"
          ]
        }
      ]
    },
    {
      "cell_type": "code",
      "source": [
        "# Select data for model\n",
        "#X = df[[ 'HR_KUBIOS','HR_BEATS','RMSSD','STD_HR','STD_RR','VLF_MS2','VLF_HZ','LF_NU','HF_NU']]\n",
        "X = df[[ 'HR_KUBIOS','HR_BEATS','STD_HR', 'RMSSD','STD_RR','VLF_MS2','VLF_HZ']]\n",
        "\n",
        "#X=df.drop('class', axis=1, inplace=True)\n",
        "y= dfy.ravel()\n",
        "\n",
        "# Fit the model and display results\n",
        "X_train, X_test, y_train, y_test, clf = fitting(X, y, 100, 100000)"
      ],
      "metadata": {
        "colab": {
          "base_uri": "https://localhost:8080/"
        },
        "id": "BgTNXqhw4R4C",
        "outputId": "c9b25797-6d1d-4c7d-a2ec-551919329b31"
      },
      "execution_count": null,
      "outputs": [
        {
          "output_type": "stream",
          "name": "stdout",
          "text": [
            "----- Evaluation on Test Data -----\n",
            "Accuracy Score:  0.7727272727272727\n",
            "              precision    recall  f1-score   support\n",
            "\n",
            "         0.0       0.94      0.46      0.62        35\n",
            "         1.0       0.73      0.98      0.84        53\n",
            "\n",
            "    accuracy                           0.77        88\n",
            "   macro avg       0.84      0.72      0.73        88\n",
            "weighted avg       0.82      0.77      0.75        88\n",
            "\n",
            "--------------------------------------------------------\n",
            "----- Evaluation on Training Data -----\n",
            "Accuracy Score:  0.9885057471264368\n",
            "              precision    recall  f1-score   support\n",
            "\n",
            "         0.0       1.00      0.97      0.99       137\n",
            "         1.0       0.98      1.00      0.99       211\n",
            "\n",
            "    accuracy                           0.99       348\n",
            "   macro avg       0.99      0.99      0.99       348\n",
            "weighted avg       0.99      0.99      0.99       348\n",
            "\n",
            "--------------------------------------------------------\n"
          ]
        }
      ]
    },
    {
      "cell_type": "code",
      "source": [
        "# Select data for model\n",
        "#X = df[[ 'HR_KUBIOS','HR_BEATS','RMSSD','STD_HR','STD_RR','VLF_MS2','VLF_HZ','LF_NU','HF_NU']]\n",
        "X = df[[ 'HR_KUBIOS','HR_BEATS','STD_HR', 'RMSSD','STD_RR','VLF_MS2','VLF_HZ']]\n",
        "\n",
        "#X=df.drop('class', axis=1, inplace=True)\n",
        "y= dfy.ravel()\n",
        "\n",
        "# Fit the model and display results\n",
        "X_train, X_test, y_train, y_test, clf = fitting(X, y, 100, 500000)"
      ],
      "metadata": {
        "colab": {
          "base_uri": "https://localhost:8080/"
        },
        "id": "86GLhxmy4wyt",
        "outputId": "20d50756-038f-480f-a4ec-36b4a81b2a17"
      },
      "execution_count": null,
      "outputs": [
        {
          "output_type": "stream",
          "name": "stdout",
          "text": [
            "----- Evaluation on Test Data -----\n",
            "Accuracy Score:  0.6931818181818182\n",
            "              precision    recall  f1-score   support\n",
            "\n",
            "         0.0       0.90      0.26      0.40        35\n",
            "         1.0       0.67      0.98      0.79        53\n",
            "\n",
            "    accuracy                           0.69        88\n",
            "   macro avg       0.78      0.62      0.60        88\n",
            "weighted avg       0.76      0.69      0.64        88\n",
            "\n",
            "--------------------------------------------------------\n",
            "----- Evaluation on Training Data -----\n",
            "Accuracy Score:  0.9885057471264368\n",
            "              precision    recall  f1-score   support\n",
            "\n",
            "         0.0       1.00      0.97      0.99       137\n",
            "         1.0       0.98      1.00      0.99       211\n",
            "\n",
            "    accuracy                           0.99       348\n",
            "   macro avg       0.99      0.99      0.99       348\n",
            "weighted avg       0.99      0.99      0.99       348\n",
            "\n",
            "--------------------------------------------------------\n"
          ]
        }
      ]
    },
    {
      "cell_type": "code",
      "source": [
        "# Select data for model\n",
        "#X = df[[ 'HR_KUBIOS','HR_BEATS','RMSSD','STD_HR','STD_RR','VLF_MS2','VLF_HZ','LF_NU','HF_NU']]\n",
        "X = df[[ 'HR_KUBIOS','HR_BEATS','STD_HR', 'RMSSD','STD_RR','VLF_MS2','VLF_HZ']]\n",
        "\n",
        "#X=df.drop('class', axis=1, inplace=True)\n",
        "y= dfy.ravel()\n",
        "\n",
        "# Fit the model and display results\n",
        "X_train, X_test, y_train, y_test, clf = fitting(X, y, 100, 1000000)"
      ],
      "metadata": {
        "colab": {
          "base_uri": "https://localhost:8080/"
        },
        "id": "B-tBbANs4VKS",
        "outputId": "879ade8a-c83f-4c63-d10c-7f124a6f4b82"
      },
      "execution_count": null,
      "outputs": [
        {
          "output_type": "stream",
          "name": "stdout",
          "text": [
            "----- Evaluation on Test Data -----\n",
            "Accuracy Score:  0.6818181818181818\n",
            "              precision    recall  f1-score   support\n",
            "\n",
            "         0.0       0.89      0.23      0.36        35\n",
            "         1.0       0.66      0.98      0.79        53\n",
            "\n",
            "    accuracy                           0.68        88\n",
            "   macro avg       0.77      0.60      0.58        88\n",
            "weighted avg       0.75      0.68      0.62        88\n",
            "\n",
            "--------------------------------------------------------\n",
            "----- Evaluation on Training Data -----\n",
            "Accuracy Score:  0.9885057471264368\n",
            "              precision    recall  f1-score   support\n",
            "\n",
            "         0.0       1.00      0.97      0.99       137\n",
            "         1.0       0.98      1.00      0.99       211\n",
            "\n",
            "    accuracy                           0.99       348\n",
            "   macro avg       0.99      0.99      0.99       348\n",
            "weighted avg       0.99      0.99      0.99       348\n",
            "\n",
            "--------------------------------------------------------\n"
          ]
        }
      ]
    },
    {
      "cell_type": "code",
      "source": [
        "# Select data for model\n",
        "#X = df[[ 'HR_KUBIOS','HR_BEATS','RMSSD','STD_HR','STD_RR','VLF_MS2','VLF_HZ','LF_NU','HF_NU']]\n",
        "X = df[[ 'HR_KUBIOS','HR_BEATS','STD_HR', 'RMSSD','STD_RR','VLF_MS2','VLF_HZ']]\n",
        "\n",
        "#X=df.drop('class', axis=1, inplace=True)\n",
        "y= dfy.ravel()\n",
        "\n",
        "# Fit the model and display results\n",
        "X_train, X_test, y_train, y_test, clf = fitting(X, y, 100, 5000000)"
      ],
      "metadata": {
        "colab": {
          "base_uri": "https://localhost:8080/"
        },
        "id": "HO_gy96840-R",
        "outputId": "3bd0f156-b91f-49e5-f088-336340efa983"
      },
      "execution_count": null,
      "outputs": [
        {
          "output_type": "stream",
          "name": "stdout",
          "text": [
            "----- Evaluation on Test Data -----\n",
            "Accuracy Score:  0.6590909090909091\n",
            "              precision    recall  f1-score   support\n",
            "\n",
            "         0.0       0.86      0.17      0.29        35\n",
            "         1.0       0.64      0.98      0.78        53\n",
            "\n",
            "    accuracy                           0.66        88\n",
            "   macro avg       0.75      0.58      0.53        88\n",
            "weighted avg       0.73      0.66      0.58        88\n",
            "\n",
            "--------------------------------------------------------\n",
            "----- Evaluation on Training Data -----\n",
            "Accuracy Score:  0.9885057471264368\n",
            "              precision    recall  f1-score   support\n",
            "\n",
            "         0.0       1.00      0.97      0.99       137\n",
            "         1.0       0.98      1.00      0.99       211\n",
            "\n",
            "    accuracy                           0.99       348\n",
            "   macro avg       0.99      0.99      0.99       348\n",
            "weighted avg       0.99      0.99      0.99       348\n",
            "\n",
            "--------------------------------------------------------\n"
          ]
        }
      ]
    },
    {
      "cell_type": "markdown",
      "source": [
        "#### gama-detail"
      ],
      "metadata": {
        "id": "BHY9wtHP7huB"
      }
    },
    {
      "cell_type": "code",
      "source": [
        "# Select data for model\n",
        "#X = df[[ 'HR_KUBIOS','HR_BEATS','RMSSD','STD_HR','STD_RR','VLF_MS2','VLF_HZ','LF_NU','HF_NU']]\n",
        "X = df[[ 'HR_KUBIOS','HR_BEATS','STD_HR', 'RMSSD','STD_RR','VLF_MS2','VLF_HZ']]\n",
        "\n",
        "#X=df.drop('class', axis=1, inplace=True)\n",
        "y= dfy.ravel()\n",
        "\n",
        "# Fit the model and display results\n",
        "X_train, X_test, y_train, y_test, clf = fitting(X, y, 100, 10000)"
      ],
      "metadata": {
        "colab": {
          "base_uri": "https://localhost:8080/"
        },
        "id": "uRuOoQEl7jpH",
        "outputId": "ed48692b-200d-4d43-da6d-e8a434efe66d"
      },
      "execution_count": null,
      "outputs": [
        {
          "output_type": "stream",
          "name": "stdout",
          "text": [
            "----- Evaluation on Test Data -----\n",
            "Accuracy Score:  0.7159090909090909\n",
            "              precision    recall  f1-score   support\n",
            "\n",
            "         0.0       0.68      0.54      0.60        35\n",
            "         1.0       0.73      0.83      0.78        53\n",
            "\n",
            "    accuracy                           0.72        88\n",
            "   macro avg       0.71      0.69      0.69        88\n",
            "weighted avg       0.71      0.72      0.71        88\n",
            "\n",
            "--------------------------------------------------------\n",
            "----- Evaluation on Training Data -----\n",
            "Accuracy Score:  0.9885057471264368\n",
            "              precision    recall  f1-score   support\n",
            "\n",
            "         0.0       1.00      0.97      0.99       137\n",
            "         1.0       0.98      1.00      0.99       211\n",
            "\n",
            "    accuracy                           0.99       348\n",
            "   macro avg       0.99      0.99      0.99       348\n",
            "weighted avg       0.99      0.99      0.99       348\n",
            "\n",
            "--------------------------------------------------------\n"
          ]
        }
      ]
    },
    {
      "cell_type": "code",
      "source": [
        "# Select data for model\n",
        "#X = df[[ 'HR_KUBIOS','HR_BEATS','RMSSD','STD_HR','STD_RR','VLF_MS2','VLF_HZ','LF_NU','HF_NU']]\n",
        "X = df[[ 'HR_KUBIOS','HR_BEATS','STD_HR', 'RMSSD','STD_RR','VLF_MS2','VLF_HZ']]\n",
        "\n",
        "#X=df.drop('class', axis=1, inplace=True)\n",
        "y= dfy.ravel()\n",
        "\n",
        "# Fit the model and display results\n",
        "X_train, X_test, y_train, y_test, clf = fitting(X, y, 100, 20000)"
      ],
      "metadata": {
        "colab": {
          "base_uri": "https://localhost:8080/"
        },
        "id": "GlPC0D0L7mJu",
        "outputId": "71727e6c-6150-4ad6-bc99-9f228650ad23"
      },
      "execution_count": null,
      "outputs": [
        {
          "output_type": "stream",
          "name": "stdout",
          "text": [
            "----- Evaluation on Test Data -----\n",
            "Accuracy Score:  0.7613636363636364\n",
            "              precision    recall  f1-score   support\n",
            "\n",
            "         0.0       0.77      0.57      0.66        35\n",
            "         1.0       0.76      0.89      0.82        53\n",
            "\n",
            "    accuracy                           0.76        88\n",
            "   macro avg       0.76      0.73      0.74        88\n",
            "weighted avg       0.76      0.76      0.75        88\n",
            "\n",
            "--------------------------------------------------------\n",
            "----- Evaluation on Training Data -----\n",
            "Accuracy Score:  0.9885057471264368\n",
            "              precision    recall  f1-score   support\n",
            "\n",
            "         0.0       1.00      0.97      0.99       137\n",
            "         1.0       0.98      1.00      0.99       211\n",
            "\n",
            "    accuracy                           0.99       348\n",
            "   macro avg       0.99      0.99      0.99       348\n",
            "weighted avg       0.99      0.99      0.99       348\n",
            "\n",
            "--------------------------------------------------------\n"
          ]
        }
      ]
    },
    {
      "cell_type": "code",
      "source": [
        "# Select data for model\n",
        "#X = df[[ 'HR_KUBIOS','HR_BEATS','RMSSD','STD_HR','STD_RR','VLF_MS2','VLF_HZ','LF_NU','HF_NU']]\n",
        "X = df[[ 'HR_KUBIOS','HR_BEATS','STD_HR', 'RMSSD','STD_RR','VLF_MS2','VLF_HZ']]\n",
        "\n",
        "#X=df.drop('class', axis=1, inplace=True)\n",
        "y= dfy.ravel()\n",
        "\n",
        "# Fit the model and display results\n",
        "X_train, X_test, y_train, y_test, clf = fitting(X, y, 100, 30000)"
      ],
      "metadata": {
        "colab": {
          "base_uri": "https://localhost:8080/"
        },
        "id": "CoKiBLdU7nz_",
        "outputId": "eb19de83-dd40-4450-9ae7-f0b1decacb2c"
      },
      "execution_count": null,
      "outputs": [
        {
          "output_type": "stream",
          "name": "stdout",
          "text": [
            "----- Evaluation on Test Data -----\n",
            "Accuracy Score:  0.7613636363636364\n",
            "              precision    recall  f1-score   support\n",
            "\n",
            "         0.0       0.77      0.57      0.66        35\n",
            "         1.0       0.76      0.89      0.82        53\n",
            "\n",
            "    accuracy                           0.76        88\n",
            "   macro avg       0.76      0.73      0.74        88\n",
            "weighted avg       0.76      0.76      0.75        88\n",
            "\n",
            "--------------------------------------------------------\n",
            "----- Evaluation on Training Data -----\n",
            "Accuracy Score:  0.9885057471264368\n",
            "              precision    recall  f1-score   support\n",
            "\n",
            "         0.0       1.00      0.97      0.99       137\n",
            "         1.0       0.98      1.00      0.99       211\n",
            "\n",
            "    accuracy                           0.99       348\n",
            "   macro avg       0.99      0.99      0.99       348\n",
            "weighted avg       0.99      0.99      0.99       348\n",
            "\n",
            "--------------------------------------------------------\n"
          ]
        }
      ]
    },
    {
      "cell_type": "code",
      "source": [
        "# Select data for model\n",
        "#X = df[[ 'HR_KUBIOS','HR_BEATS','RMSSD','STD_HR','STD_RR','VLF_MS2','VLF_HZ','LF_NU','HF_NU']]\n",
        "X = df[[ 'HR_KUBIOS','HR_BEATS','STD_HR', 'RMSSD','STD_RR','VLF_MS2','VLF_HZ']]\n",
        "\n",
        "#X=df.drop('class', axis=1, inplace=True)\n",
        "y= dfy.ravel()\n",
        "\n",
        "# Fit the model and display results\n",
        "X_train, X_test, y_train, y_test, clf = fitting(X, y, 100, 40000)"
      ],
      "metadata": {
        "colab": {
          "base_uri": "https://localhost:8080/"
        },
        "id": "lkVXJ_bF7prK",
        "outputId": "e12ad485-7577-4f56-e046-b2f7bc71311a"
      },
      "execution_count": null,
      "outputs": [
        {
          "output_type": "stream",
          "name": "stdout",
          "text": [
            "----- Evaluation on Test Data -----\n",
            "Accuracy Score:  0.7954545454545454\n",
            "              precision    recall  f1-score   support\n",
            "\n",
            "         0.0       0.87      0.57      0.69        35\n",
            "         1.0       0.77      0.94      0.85        53\n",
            "\n",
            "    accuracy                           0.80        88\n",
            "   macro avg       0.82      0.76      0.77        88\n",
            "weighted avg       0.81      0.80      0.78        88\n",
            "\n",
            "--------------------------------------------------------\n",
            "----- Evaluation on Training Data -----\n",
            "Accuracy Score:  0.9885057471264368\n",
            "              precision    recall  f1-score   support\n",
            "\n",
            "         0.0       1.00      0.97      0.99       137\n",
            "         1.0       0.98      1.00      0.99       211\n",
            "\n",
            "    accuracy                           0.99       348\n",
            "   macro avg       0.99      0.99      0.99       348\n",
            "weighted avg       0.99      0.99      0.99       348\n",
            "\n",
            "--------------------------------------------------------\n"
          ]
        }
      ]
    },
    {
      "cell_type": "code",
      "source": [
        "# Select data for model\n",
        "#X = df[[ 'HR_KUBIOS','HR_BEATS','RMSSD','STD_HR','STD_RR','VLF_MS2','VLF_HZ','LF_NU','HF_NU']]\n",
        "X = df[[ 'HR_KUBIOS','HR_BEATS','STD_HR', 'RMSSD','STD_RR','VLF_MS2','VLF_HZ']]\n",
        "\n",
        "#X=df.drop('class', axis=1, inplace=True)\n",
        "y= dfy.ravel()\n",
        "\n",
        "# Fit the model and display results\n",
        "X_train, X_test, y_train, y_test, clf = fitting(X, y, 100, 50000)"
      ],
      "metadata": {
        "colab": {
          "base_uri": "https://localhost:8080/"
        },
        "id": "8S-59EdF7sDK",
        "outputId": "8a9ed493-dff0-44d0-e983-675b0e289913"
      },
      "execution_count": null,
      "outputs": [
        {
          "output_type": "stream",
          "name": "stdout",
          "text": [
            "----- Evaluation on Test Data -----\n",
            "Accuracy Score:  0.8068181818181818\n",
            "              precision    recall  f1-score   support\n",
            "\n",
            "         0.0       0.91      0.57      0.70        35\n",
            "         1.0       0.77      0.96      0.86        53\n",
            "\n",
            "    accuracy                           0.81        88\n",
            "   macro avg       0.84      0.77      0.78        88\n",
            "weighted avg       0.83      0.81      0.80        88\n",
            "\n",
            "--------------------------------------------------------\n",
            "----- Evaluation on Training Data -----\n",
            "Accuracy Score:  0.9885057471264368\n",
            "              precision    recall  f1-score   support\n",
            "\n",
            "         0.0       1.00      0.97      0.99       137\n",
            "         1.0       0.98      1.00      0.99       211\n",
            "\n",
            "    accuracy                           0.99       348\n",
            "   macro avg       0.99      0.99      0.99       348\n",
            "weighted avg       0.99      0.99      0.99       348\n",
            "\n",
            "--------------------------------------------------------\n"
          ]
        }
      ]
    },
    {
      "cell_type": "code",
      "source": [
        "# Select data for model\n",
        "#X = df[[ 'HR_KUBIOS','HR_BEATS','RMSSD','STD_HR','STD_RR','VLF_MS2','VLF_HZ','LF_NU','HF_NU']]\n",
        "X = df[[ 'HR_KUBIOS','HR_BEATS','STD_HR', 'RMSSD','STD_RR','VLF_MS2','VLF_HZ']]\n",
        "\n",
        "#X=df.drop('class', axis=1, inplace=True)\n",
        "y= dfy.ravel()\n",
        "\n",
        "# Fit the model and display results\n",
        "X_train, X_test, y_train, y_test, clf = fitting(X, y, 100, 60000)"
      ],
      "metadata": {
        "colab": {
          "base_uri": "https://localhost:8080/"
        },
        "id": "HQSVUMjG7tlg",
        "outputId": "963d1438-f6f7-4ab9-fac2-2a0bda8e173a"
      },
      "execution_count": null,
      "outputs": [
        {
          "output_type": "stream",
          "name": "stdout",
          "text": [
            "----- Evaluation on Test Data -----\n",
            "Accuracy Score:  0.8068181818181818\n",
            "              precision    recall  f1-score   support\n",
            "\n",
            "         0.0       0.95      0.54      0.69        35\n",
            "         1.0       0.76      0.98      0.86        53\n",
            "\n",
            "    accuracy                           0.81        88\n",
            "   macro avg       0.86      0.76      0.78        88\n",
            "weighted avg       0.84      0.81      0.79        88\n",
            "\n",
            "--------------------------------------------------------\n",
            "----- Evaluation on Training Data -----\n",
            "Accuracy Score:  0.9885057471264368\n",
            "              precision    recall  f1-score   support\n",
            "\n",
            "         0.0       1.00      0.97      0.99       137\n",
            "         1.0       0.98      1.00      0.99       211\n",
            "\n",
            "    accuracy                           0.99       348\n",
            "   macro avg       0.99      0.99      0.99       348\n",
            "weighted avg       0.99      0.99      0.99       348\n",
            "\n",
            "--------------------------------------------------------\n"
          ]
        }
      ]
    },
    {
      "cell_type": "code",
      "source": [
        "# Select data for model\n",
        "#X = df[[ 'HR_KUBIOS','HR_BEATS','RMSSD','STD_HR','STD_RR','VLF_MS2','VLF_HZ','LF_NU','HF_NU']]\n",
        "X = df[[ 'HR_KUBIOS','HR_BEATS','STD_HR', 'RMSSD','STD_RR','VLF_MS2','VLF_HZ']]\n",
        "\n",
        "#X=df.drop('class', axis=1, inplace=True)\n",
        "y= dfy.ravel()\n",
        "\n",
        "# Fit the model and display results\n",
        "X_train, X_test, y_train, y_test, clf = fitting(X, y, 100, 70000)"
      ],
      "metadata": {
        "id": "EhENehje8h3N",
        "outputId": "656d18ae-e0b0-49d7-c127-d0885554c709",
        "colab": {
          "base_uri": "https://localhost:8080/"
        }
      },
      "execution_count": null,
      "outputs": [
        {
          "output_type": "stream",
          "name": "stdout",
          "text": [
            "----- Evaluation on Test Data -----\n",
            "Accuracy Score:  0.7954545454545454\n",
            "              precision    recall  f1-score   support\n",
            "\n",
            "         0.0       0.95      0.51      0.67        35\n",
            "         1.0       0.75      0.98      0.85        53\n",
            "\n",
            "    accuracy                           0.80        88\n",
            "   macro avg       0.85      0.75      0.76        88\n",
            "weighted avg       0.83      0.80      0.78        88\n",
            "\n",
            "--------------------------------------------------------\n",
            "----- Evaluation on Training Data -----\n",
            "Accuracy Score:  0.9885057471264368\n",
            "              precision    recall  f1-score   support\n",
            "\n",
            "         0.0       1.00      0.97      0.99       137\n",
            "         1.0       0.98      1.00      0.99       211\n",
            "\n",
            "    accuracy                           0.99       348\n",
            "   macro avg       0.99      0.99      0.99       348\n",
            "weighted avg       0.99      0.99      0.99       348\n",
            "\n",
            "--------------------------------------------------------\n"
          ]
        }
      ]
    },
    {
      "cell_type": "code",
      "source": [
        "# Select data for model\n",
        "#X = df[[ 'HR_KUBIOS','HR_BEATS','RMSSD','STD_HR','STD_RR','VLF_MS2','VLF_HZ','LF_NU','HF_NU']]\n",
        "X = df[[ 'HR_KUBIOS','HR_BEATS','STD_HR', 'RMSSD','STD_RR','VLF_MS2','VLF_HZ']]\n",
        "\n",
        "#X=df.drop('class', axis=1, inplace=True)\n",
        "y= dfy.ravel()\n",
        "\n",
        "# Fit the model and display results\n",
        "X_train, X_test, y_train, y_test, clf = fitting(X, y, 100, 80000)"
      ],
      "metadata": {
        "colab": {
          "base_uri": "https://localhost:8080/"
        },
        "id": "A6ohmLo_7vNx",
        "outputId": "b7ee8023-24c4-4e7a-ca81-9f8ff8767d7c"
      },
      "execution_count": null,
      "outputs": [
        {
          "output_type": "stream",
          "name": "stdout",
          "text": [
            "----- Evaluation on Test Data -----\n",
            "Accuracy Score:  0.7727272727272727\n",
            "              precision    recall  f1-score   support\n",
            "\n",
            "         0.0       0.94      0.46      0.62        35\n",
            "         1.0       0.73      0.98      0.84        53\n",
            "\n",
            "    accuracy                           0.77        88\n",
            "   macro avg       0.84      0.72      0.73        88\n",
            "weighted avg       0.82      0.77      0.75        88\n",
            "\n",
            "--------------------------------------------------------\n",
            "----- Evaluation on Training Data -----\n",
            "Accuracy Score:  0.9885057471264368\n",
            "              precision    recall  f1-score   support\n",
            "\n",
            "         0.0       1.00      0.97      0.99       137\n",
            "         1.0       0.98      1.00      0.99       211\n",
            "\n",
            "    accuracy                           0.99       348\n",
            "   macro avg       0.99      0.99      0.99       348\n",
            "weighted avg       0.99      0.99      0.99       348\n",
            "\n",
            "--------------------------------------------------------\n"
          ]
        }
      ]
    },
    {
      "cell_type": "code",
      "source": [
        "# Select data for model\n",
        "#X = df[[ 'HR_KUBIOS','HR_BEATS','RMSSD','STD_HR','STD_RR','VLF_MS2','VLF_HZ','LF_NU','HF_NU']]\n",
        "X = df[[ 'HR_KUBIOS','HR_BEATS','STD_HR', 'RMSSD','STD_RR','VLF_MS2','VLF_HZ']]\n",
        "\n",
        "#X=df.drop('class', axis=1, inplace=True)\n",
        "y= dfy.ravel()\n",
        "\n",
        "# Fit the model and display results\n",
        "X_train, X_test, y_train, y_test, clf = fitting(X, y, 100, 90000)"
      ],
      "metadata": {
        "colab": {
          "base_uri": "https://localhost:8080/"
        },
        "id": "0pW2egef7xCT",
        "outputId": "cd45c73e-6626-45ee-cad2-dc8997065b85"
      },
      "execution_count": null,
      "outputs": [
        {
          "output_type": "stream",
          "name": "stdout",
          "text": [
            "----- Evaluation on Test Data -----\n",
            "Accuracy Score:  0.7727272727272727\n",
            "              precision    recall  f1-score   support\n",
            "\n",
            "         0.0       0.94      0.46      0.62        35\n",
            "         1.0       0.73      0.98      0.84        53\n",
            "\n",
            "    accuracy                           0.77        88\n",
            "   macro avg       0.84      0.72      0.73        88\n",
            "weighted avg       0.82      0.77      0.75        88\n",
            "\n",
            "--------------------------------------------------------\n",
            "----- Evaluation on Training Data -----\n",
            "Accuracy Score:  0.9885057471264368\n",
            "              precision    recall  f1-score   support\n",
            "\n",
            "         0.0       1.00      0.97      0.99       137\n",
            "         1.0       0.98      1.00      0.99       211\n",
            "\n",
            "    accuracy                           0.99       348\n",
            "   macro avg       0.99      0.99      0.99       348\n",
            "weighted avg       0.99      0.99      0.99       348\n",
            "\n",
            "--------------------------------------------------------\n"
          ]
        }
      ]
    },
    {
      "cell_type": "code",
      "source": [
        "# Select data for model\n",
        "#X = df[[ 'HR_KUBIOS','HR_BEATS','RMSSD','STD_HR','STD_RR','VLF_MS2','VLF_HZ','LF_NU','HF_NU']]\n",
        "X = df[[ 'HR_KUBIOS','HR_BEATS','STD_HR', 'RMSSD','STD_RR','VLF_MS2','VLF_HZ']]\n",
        "\n",
        "#X=df.drop('class', axis=1, inplace=True)\n",
        "y= dfy.ravel()\n",
        "\n",
        "# Fit the model and display results\n",
        "X_train, X_test, y_train, y_test, clf = fitting(X, y, 100, 100000)"
      ],
      "metadata": {
        "colab": {
          "base_uri": "https://localhost:8080/"
        },
        "id": "Z3qcZFkf7yu-",
        "outputId": "668aed1a-fd5f-4df8-b4dd-a18240fecf96"
      },
      "execution_count": null,
      "outputs": [
        {
          "output_type": "stream",
          "name": "stdout",
          "text": [
            "----- Evaluation on Test Data -----\n",
            "Accuracy Score:  0.7727272727272727\n",
            "              precision    recall  f1-score   support\n",
            "\n",
            "         0.0       0.94      0.46      0.62        35\n",
            "         1.0       0.73      0.98      0.84        53\n",
            "\n",
            "    accuracy                           0.77        88\n",
            "   macro avg       0.84      0.72      0.73        88\n",
            "weighted avg       0.82      0.77      0.75        88\n",
            "\n",
            "--------------------------------------------------------\n",
            "----- Evaluation on Training Data -----\n",
            "Accuracy Score:  0.9885057471264368\n",
            "              precision    recall  f1-score   support\n",
            "\n",
            "         0.0       1.00      0.97      0.99       137\n",
            "         1.0       0.98      1.00      0.99       211\n",
            "\n",
            "    accuracy                           0.99       348\n",
            "   macro avg       0.99      0.99      0.99       348\n",
            "weighted avg       0.99      0.99      0.99       348\n",
            "\n",
            "--------------------------------------------------------\n"
          ]
        }
      ]
    },
    {
      "cell_type": "markdown",
      "source": [
        "### SVM BEFORE AND AFTER REMOVING FEATURE"
      ],
      "metadata": {
        "id": "aHRJE9Eiy0zd"
      }
    },
    {
      "cell_type": "markdown",
      "source": [
        "#### build model"
      ],
      "metadata": {
        "id": "Z5ZA54yNzI6x"
      }
    },
    {
      "cell_type": "code",
      "source": [
        "def fitting(X, y, C, gamma):\n",
        "    # Create training and testing samples\n",
        "    X_train, X_test, y_train, y_test = train_test_split(X, y, test_size=0.2, random_state=0)\n",
        "\n",
        "    # Fit the model\n",
        "    # Note, available kernels: {‘linear’, ‘poly’, ‘rbf’, ‘sigmoid’, ‘precomputed’}, default=’rbf’\n",
        "    model = SVC(kernel='poly', probability=True, C=C, gamma=gamma) #dicoba sigmoid\n",
        "    clf = model.fit(X_train, y_train)\n",
        "\n",
        "    # Predict class labels on training data\n",
        "    pred_labels_tr = model.predict(X_train)\n",
        "    # Predict class labels on a test data\n",
        "    pred_labels_te = model.predict(X_test)\n",
        "\n",
        "    # Use score method to get accuracy of the model\n",
        "    print('----- Evaluation on Test Data -----')\n",
        "    score_te = model.score(X_test, y_test)\n",
        "    print('Accuracy Score: ', score_te)\n",
        "    # Look at classification report to evaluate the model\n",
        "    print(classification_report(y_test, pred_labels_te))\n",
        "    print('--------------------------------------------------------')\n",
        "\n",
        "    print('----- Evaluation on Training Data -----')\n",
        "    score_tr = model.score(X_train, y_train)\n",
        "    print('Accuracy Score: ', score_tr)\n",
        "    # Look at classification report to evaluate the model\n",
        "    print(classification_report(y_train, pred_labels_tr))\n",
        "    print('--------------------------------------------------------')\n",
        "\n",
        "    '''print(pred_labels_tr)\n",
        "    print(pred_labels_te)\n",
        "    col1 = \"pred-ytrain\"\n",
        "    col2 = \"pred-ytest\"\n",
        "    df = pd.DataFrame({col1:pred_labels_tr})\n",
        "    df.to_csv('pred-train-rbf', index=False)\n",
        "    df1 = pd.DataFrame({col2:pred_labels_te})\n",
        "    df1.to_csv('pred-test-rbf', index=False)'''\n",
        "\n",
        "    # Return relevant data for chart plotting\n",
        "    return X_train, X_test, y_train, y_test, clf\n",
        "\n",
        "    "
      ],
      "metadata": {
        "id": "ffQ71SZZzHGY"
      },
      "execution_count": null,
      "outputs": []
    },
    {
      "cell_type": "code",
      "source": [],
      "metadata": {
        "id": "1EBv1K1exnJ0"
      },
      "execution_count": null,
      "outputs": []
    },
    {
      "cell_type": "markdown",
      "source": [
        "#### BEFORE REMOVING"
      ],
      "metadata": {
        "id": "FFLdf42wzE3d"
      }
    },
    {
      "cell_type": "code",
      "source": [
        "# Select data for model\n",
        "X = dfx1\n",
        "\n",
        "#X=df.drop('class', axis=1, inplace=True)\n",
        "y= dfy.ravel()\n",
        "\n",
        "# Fit the model and display results\n",
        "X_train, X_test, y_train, y_test, clf = fitting(X, y, c, g)"
      ],
      "metadata": {
        "id": "JMzTQByuzvxq"
      },
      "execution_count": null,
      "outputs": []
    },
    {
      "cell_type": "markdown",
      "source": [
        "#### AFTER REMOVING"
      ],
      "metadata": {
        "id": "YQsJIJR1zwGf"
      }
    },
    {
      "cell_type": "code",
      "source": [
        "# Select data for model\n",
        "#X = df[[ 'HR_KUBIOS','HR_BEATS','RMSSD','STD_HR','STD_RR','VLF_MS2','VLF_HZ','LF_NU','HF_NU']]\n",
        "X = df[[ 'HR_KUBIOS','HR_BEATS','STD_HR', 'RMSSD','STD_RR','VLF_MS2','VLF_HZ']]\n",
        "\n",
        "#X=df.drop('class', axis=1, inplace=True)\n",
        "y= dfy.ravel()\n",
        "\n",
        "# Fit the model and display results\n",
        "X_train, X_test, y_train, y_test, clf = fitting(X, y, c, g)"
      ],
      "metadata": {
        "id": "XxXHg2jry5PA"
      },
      "execution_count": null,
      "outputs": []
    },
    {
      "cell_type": "code",
      "source": [
        "# Select data for model\n",
        "#X = df[[ 'HR_KUBIOS','HR_BEATS','RMSSD','STD_HR','STD_RR','VLF_MS2','VLF_HZ','LF_NU','HF_NU']]\n",
        "X = df[[ 'HR_KUBIOS','HR_BEATS','RMSSD','STD_HR','STD_RR','VLF_MS2','VLF_HZ']]\n",
        "\n",
        "#X=df.drop('class', axis=1, inplace=True)\n",
        "y= dfy.ravel()\n",
        "\n",
        "# Fit the model and display results\n",
        "X_train, X_test, y_train, y_test, clf = fitting(X, y, 100, 40000)"
      ],
      "metadata": {
        "id": "iEGBQzGusOPi"
      },
      "execution_count": null,
      "outputs": []
    },
    {
      "cell_type": "markdown",
      "source": [
        "### dedicious tree"
      ],
      "metadata": {
        "id": "TCjDKsYt5Tlc"
      }
    },
    {
      "cell_type": "code",
      "source": [
        "X = df[[ 'HR_KUBIOS','HR_BEATS','STD_HR','STD_RR','VLF_MS2','VLF_HZ']]\n",
        "\n",
        "#X=df.drop('class', axis=1, inplace=True)\n",
        "y= dfy.ravel()\n",
        "\n",
        "X_train, X_test, y_train, y_test = train_test_split(X, y, test_size=0.2, random_state=0)"
      ],
      "metadata": {
        "id": "XVGW3XEu61bn"
      },
      "execution_count": null,
      "outputs": []
    },
    {
      "cell_type": "code",
      "source": [
        "# function check metrix evalute\n",
        "from sklearn.metrics import confusion_matrix, classification_report\n",
        "\n",
        "def evaluation(name, model):\n",
        "    y_train_pred = model.predict(X_train)\n",
        "    y_test_pred = model.predict(X_test)\n",
        "    print(f'{name.upper()} TRAINING RESULT:')\n",
        "    print('======================================================')\n",
        "    print('Accuracy:', model.score(X_train, y_train))\n",
        "    print('======================================================')\n",
        "    print('Classification Report --------------------------------')\n",
        "    print(classification_report(y_train, y_train_pred))\n",
        "    print('======================================================')\n",
        "    print('Confussion Matrix ------------------------------------')\n",
        "    print(confusion_matrix(y_train, y_train_pred))\n",
        "\n",
        "    print('\\n======================================================')\n",
        "\n",
        "    print(f'\\n {name.upper()} TESTING RESULT:')\n",
        "    print('======================================================')\n",
        "    print('Accuracy:', model.score(X_test, y_test))\n",
        "    print('======================================================')\n",
        "    print('Classification Report --------------------------------')\n",
        "    print(classification_report(y_test, y_test_pred))\n",
        "    print('======================================================')\n",
        "    print('Confussion Matrix ------------------------------------')\n",
        "    print(confusion_matrix(y_test, y_test_pred))"
      ],
      "metadata": {
        "id": "rMdIqKsb6Z9f"
      },
      "execution_count": null,
      "outputs": []
    },
    {
      "cell_type": "code",
      "source": [
        "# Function Evaluate score (accuracy)\n",
        "def evaluate_model(model_dict):\n",
        "    frame = pd.DataFrame(columns=['Training','Testing'])\n",
        "    \n",
        "    for name, model in model_dict.items():\n",
        "        frame.loc[name, 'Training'] = model.score(X_train, y_train)\n",
        "        frame.loc[name, 'Testing'] = model.score(X_test, y_test)\n",
        "        \n",
        "    return frame"
      ],
      "metadata": {
        "id": "ABYXBl1x6c0E"
      },
      "execution_count": null,
      "outputs": []
    },
    {
      "cell_type": "code",
      "source": [
        "# Function Evaluate score (accuracy)\n",
        "def evaluate_model(model_dict):\n",
        "    frame = pd.DataFrame(columns=['Training','Testing'])\n",
        "    \n",
        "    for name, model in model_dict.items():\n",
        "        frame.loc[name, 'Training'] = model.score(X_train, y_train)\n",
        "        frame.loc[name, 'Testing'] = model.score(X_test, y_test)\n",
        "        \n",
        "    return frame"
      ],
      "metadata": {
        "id": "lH8xrdkN6gHP"
      },
      "execution_count": null,
      "outputs": []
    },
    {
      "cell_type": "code",
      "source": [
        "from sklearn.tree import DecisionTreeClassifier\n",
        "\n",
        "model_dt = DecisionTreeClassifier(splitter='best', random_state=0)\n",
        "model_dt.fit(X_train, y_train)"
      ],
      "metadata": {
        "id": "-NJ13U3s5VrY"
      },
      "execution_count": null,
      "outputs": []
    },
    {
      "cell_type": "code",
      "source": [
        "model_dict = {\n",
        "    'Decision Tree' : model_dt\n",
        "}\n",
        "\n",
        "evaluate_model(model_dict)"
      ],
      "metadata": {
        "id": "4ymVcJnN6qV_"
      },
      "execution_count": null,
      "outputs": []
    }
  ]
}