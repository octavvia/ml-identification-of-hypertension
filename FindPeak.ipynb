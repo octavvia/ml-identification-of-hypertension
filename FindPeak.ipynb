{
  "nbformat": 4,
  "nbformat_minor": 0,
  "metadata": {
    "colab": {
      "provenance": [],
      "collapsed_sections": [
        "Pjxgrh447dtJ"
      ],
      "mount_file_id": "1lyPXFgv7buBTSYXrJBtZZMn_HtHHzwnB",
      "authorship_tag": "ABX9TyNs9CB5MRLBz1KjLyMkHqjb",
      "include_colab_link": true
    },
    "kernelspec": {
      "name": "python3",
      "display_name": "Python 3"
    },
    "language_info": {
      "name": "python"
    }
  },
  "cells": [
    {
      "cell_type": "markdown",
      "metadata": {
        "id": "view-in-github",
        "colab_type": "text"
      },
      "source": [
        "<a href=\"https://colab.research.google.com/github/vviia/ml-identification-of-hypertension/blob/main/FindPeak.ipynb\" target=\"_parent\"><img src=\"https://colab.research.google.com/assets/colab-badge.svg\" alt=\"Open In Colab\"/></a>"
      ]
    },
    {
      "cell_type": "markdown",
      "source": [
        "#### import library"
      ],
      "metadata": {
        "id": "Pjxgrh447dtJ"
      }
    },
    {
      "cell_type": "code",
      "source": [
        "!pip install neurokit2"
      ],
      "metadata": {
        "colab": {
          "base_uri": "https://localhost:8080/"
        },
        "id": "sn9jtaF09oXL",
        "outputId": "f917b5f0-0dce-40fd-f7cb-cacc8bea6ee7"
      },
      "execution_count": null,
      "outputs": [
        {
          "output_type": "stream",
          "name": "stdout",
          "text": [
            "Looking in indexes: https://pypi.org/simple, https://us-python.pkg.dev/colab-wheels/public/simple/\n",
            "Collecting neurokit2\n",
            "  Downloading neurokit2-0.2.2-py2.py3-none-any.whl (1.2 MB)\n",
            "\u001b[K     |████████████████████████████████| 1.2 MB 5.1 MB/s \n",
            "\u001b[?25hRequirement already satisfied: scikit-learn>=1.0.0 in /usr/local/lib/python3.8/dist-packages (from neurokit2) (1.0.2)\n",
            "Requirement already satisfied: matplotlib in /usr/local/lib/python3.8/dist-packages (from neurokit2) (3.2.2)\n",
            "Requirement already satisfied: scipy in /usr/local/lib/python3.8/dist-packages (from neurokit2) (1.7.3)\n",
            "Requirement already satisfied: pandas in /usr/local/lib/python3.8/dist-packages (from neurokit2) (1.3.5)\n",
            "Requirement already satisfied: numpy in /usr/local/lib/python3.8/dist-packages (from neurokit2) (1.21.6)\n",
            "Requirement already satisfied: joblib>=0.11 in /usr/local/lib/python3.8/dist-packages (from scikit-learn>=1.0.0->neurokit2) (1.2.0)\n",
            "Requirement already satisfied: threadpoolctl>=2.0.0 in /usr/local/lib/python3.8/dist-packages (from scikit-learn>=1.0.0->neurokit2) (3.1.0)\n",
            "Requirement already satisfied: cycler>=0.10 in /usr/local/lib/python3.8/dist-packages (from matplotlib->neurokit2) (0.11.0)\n",
            "Requirement already satisfied: kiwisolver>=1.0.1 in /usr/local/lib/python3.8/dist-packages (from matplotlib->neurokit2) (1.4.4)\n",
            "Requirement already satisfied: python-dateutil>=2.1 in /usr/local/lib/python3.8/dist-packages (from matplotlib->neurokit2) (2.8.2)\n",
            "Requirement already satisfied: pyparsing!=2.0.4,!=2.1.2,!=2.1.6,>=2.0.1 in /usr/local/lib/python3.8/dist-packages (from matplotlib->neurokit2) (3.0.9)\n",
            "Requirement already satisfied: six>=1.5 in /usr/local/lib/python3.8/dist-packages (from python-dateutil>=2.1->matplotlib->neurokit2) (1.15.0)\n",
            "Requirement already satisfied: pytz>=2017.3 in /usr/local/lib/python3.8/dist-packages (from pandas->neurokit2) (2022.6)\n",
            "Installing collected packages: neurokit2\n",
            "Successfully installed neurokit2-0.2.2\n"
          ]
        }
      ]
    },
    {
      "cell_type": "code",
      "source": [
        "!pip install hrv-analysis"
      ],
      "metadata": {
        "colab": {
          "base_uri": "https://localhost:8080/"
        },
        "id": "PxFXBxGX9rd2",
        "outputId": "2b4111ce-f623-48c7-c947-0bfec81a97cf"
      },
      "execution_count": null,
      "outputs": [
        {
          "output_type": "stream",
          "name": "stdout",
          "text": [
            "Looking in indexes: https://pypi.org/simple, https://us-python.pkg.dev/colab-wheels/public/simple/\n",
            "Collecting hrv-analysis\n",
            "  Downloading hrv_analysis-1.0.4-py3-none-any.whl (28 kB)\n",
            "Requirement already satisfied: scipy>=1.1.0 in /usr/local/lib/python3.8/dist-packages (from hrv-analysis) (1.7.3)\n",
            "Requirement already satisfied: pandas>=0.23.4 in /usr/local/lib/python3.8/dist-packages (from hrv-analysis) (1.3.5)\n",
            "Collecting nolds>=0.4.1\n",
            "  Downloading nolds-0.5.2-py2.py3-none-any.whl (39 kB)\n",
            "Requirement already satisfied: numpy>=1.15.1 in /usr/local/lib/python3.8/dist-packages (from hrv-analysis) (1.21.6)\n",
            "Requirement already satisfied: astropy>=3.0.4 in /usr/local/lib/python3.8/dist-packages (from hrv-analysis) (4.3.1)\n",
            "Requirement already satisfied: matplotlib>=2.2.2 in /usr/local/lib/python3.8/dist-packages (from hrv-analysis) (3.2.2)\n",
            "Requirement already satisfied: pyerfa>=1.7.3 in /usr/local/lib/python3.8/dist-packages (from astropy>=3.0.4->hrv-analysis) (2.0.0.1)\n",
            "Requirement already satisfied: pyparsing!=2.0.4,!=2.1.2,!=2.1.6,>=2.0.1 in /usr/local/lib/python3.8/dist-packages (from matplotlib>=2.2.2->hrv-analysis) (3.0.9)\n",
            "Requirement already satisfied: python-dateutil>=2.1 in /usr/local/lib/python3.8/dist-packages (from matplotlib>=2.2.2->hrv-analysis) (2.8.2)\n",
            "Requirement already satisfied: kiwisolver>=1.0.1 in /usr/local/lib/python3.8/dist-packages (from matplotlib>=2.2.2->hrv-analysis) (1.4.4)\n",
            "Requirement already satisfied: cycler>=0.10 in /usr/local/lib/python3.8/dist-packages (from matplotlib>=2.2.2->hrv-analysis) (0.11.0)\n",
            "Requirement already satisfied: future in /usr/local/lib/python3.8/dist-packages (from nolds>=0.4.1->hrv-analysis) (0.16.0)\n",
            "Requirement already satisfied: setuptools in /usr/local/lib/python3.8/dist-packages (from nolds>=0.4.1->hrv-analysis) (57.4.0)\n",
            "Requirement already satisfied: pytz>=2017.3 in /usr/local/lib/python3.8/dist-packages (from pandas>=0.23.4->hrv-analysis) (2022.6)\n",
            "Requirement already satisfied: six>=1.5 in /usr/local/lib/python3.8/dist-packages (from python-dateutil>=2.1->matplotlib>=2.2.2->hrv-analysis) (1.15.0)\n",
            "Installing collected packages: nolds, hrv-analysis\n",
            "Successfully installed hrv-analysis-1.0.4 nolds-0.5.2\n"
          ]
        }
      ]
    },
    {
      "cell_type": "code",
      "source": [
        "!pip install pyhrv"
      ],
      "metadata": {
        "colab": {
          "base_uri": "https://localhost:8080/"
        },
        "id": "woVINzdr9uAn",
        "outputId": "f9929d1e-c197-486e-8088-83022c9bbd36"
      },
      "execution_count": null,
      "outputs": [
        {
          "output_type": "stream",
          "name": "stdout",
          "text": [
            "Looking in indexes: https://pypi.org/simple, https://us-python.pkg.dev/colab-wheels/public/simple/\n",
            "Collecting pyhrv\n",
            "  Downloading pyhrv-0.4.1-py3-none-any.whl (3.2 MB)\n",
            "\u001b[K     |████████████████████████████████| 3.2 MB 5.2 MB/s \n",
            "\u001b[?25hRequirement already satisfied: matplotlib in /usr/local/lib/python3.8/dist-packages (from pyhrv) (3.2.2)\n",
            "Collecting spectrum\n",
            "  Downloading spectrum-0.8.1.tar.gz (230 kB)\n",
            "\u001b[K     |████████████████████████████████| 230 kB 33.6 MB/s \n",
            "\u001b[?25hRequirement already satisfied: numpy in /usr/local/lib/python3.8/dist-packages (from pyhrv) (1.21.6)\n",
            "Collecting biosppy\n",
            "  Downloading biosppy-1.0.0-py2.py3-none-any.whl (106 kB)\n",
            "\u001b[K     |████████████████████████████████| 106 kB 67.4 MB/s \n",
            "\u001b[?25hRequirement already satisfied: nolds in /usr/local/lib/python3.8/dist-packages (from pyhrv) (0.5.2)\n",
            "Requirement already satisfied: scipy in /usr/local/lib/python3.8/dist-packages (from pyhrv) (1.7.3)\n",
            "Collecting shortuuid\n",
            "  Downloading shortuuid-1.0.11-py3-none-any.whl (10 kB)\n",
            "Requirement already satisfied: opencv-python in /usr/local/lib/python3.8/dist-packages (from biosppy->pyhrv) (4.6.0.66)\n",
            "Requirement already satisfied: joblib in /usr/local/lib/python3.8/dist-packages (from biosppy->pyhrv) (1.2.0)\n",
            "Collecting bidict\n",
            "  Downloading bidict-0.22.0-py3-none-any.whl (36 kB)\n",
            "Requirement already satisfied: six in /usr/local/lib/python3.8/dist-packages (from biosppy->pyhrv) (1.15.0)\n",
            "Requirement already satisfied: h5py in /usr/local/lib/python3.8/dist-packages (from biosppy->pyhrv) (3.1.0)\n",
            "Requirement already satisfied: scikit-learn in /usr/local/lib/python3.8/dist-packages (from biosppy->pyhrv) (1.0.2)\n",
            "Requirement already satisfied: pyparsing!=2.0.4,!=2.1.2,!=2.1.6,>=2.0.1 in /usr/local/lib/python3.8/dist-packages (from matplotlib->pyhrv) (3.0.9)\n",
            "Requirement already satisfied: python-dateutil>=2.1 in /usr/local/lib/python3.8/dist-packages (from matplotlib->pyhrv) (2.8.2)\n",
            "Requirement already satisfied: kiwisolver>=1.0.1 in /usr/local/lib/python3.8/dist-packages (from matplotlib->pyhrv) (1.4.4)\n",
            "Requirement already satisfied: cycler>=0.10 in /usr/local/lib/python3.8/dist-packages (from matplotlib->pyhrv) (0.11.0)\n",
            "Requirement already satisfied: future in /usr/local/lib/python3.8/dist-packages (from nolds->pyhrv) (0.16.0)\n",
            "Requirement already satisfied: setuptools in /usr/local/lib/python3.8/dist-packages (from nolds->pyhrv) (57.4.0)\n",
            "Requirement already satisfied: threadpoolctl>=2.0.0 in /usr/local/lib/python3.8/dist-packages (from scikit-learn->biosppy->pyhrv) (3.1.0)\n",
            "Collecting easydev\n",
            "  Downloading easydev-0.12.0.tar.gz (47 kB)\n",
            "\u001b[K     |████████████████████████████████| 47 kB 3.9 MB/s \n",
            "\u001b[?25hCollecting colorama\n",
            "  Downloading colorama-0.4.6-py2.py3-none-any.whl (25 kB)\n",
            "Requirement already satisfied: pexpect in /usr/local/lib/python3.8/dist-packages (from easydev->spectrum->pyhrv) (4.8.0)\n",
            "Collecting colorlog\n",
            "  Downloading colorlog-6.7.0-py2.py3-none-any.whl (11 kB)\n",
            "Requirement already satisfied: ptyprocess>=0.5 in /usr/local/lib/python3.8/dist-packages (from pexpect->easydev->spectrum->pyhrv) (0.7.0)\n",
            "Building wheels for collected packages: spectrum, easydev\n",
            "  Building wheel for spectrum (setup.py) ... \u001b[?25l\u001b[?25hdone\n",
            "  Created wheel for spectrum: filename=spectrum-0.8.1-cp38-cp38-linux_x86_64.whl size=235151 sha256=d83093cd3ad9e9a8a4e27d5f6a2021055b96d6ace005e9885df666121b70d837\n",
            "  Stored in directory: /root/.cache/pip/wheels/8f/2c/22/4a514eb971c5f4693506f55ff7ff43fd501495322cb0b92464\n",
            "  Building wheel for easydev (setup.py) ... \u001b[?25l\u001b[?25hdone\n",
            "  Created wheel for easydev: filename=easydev-0.12.0-py3-none-any.whl size=64232 sha256=6530395f0abb46e61944513ad9c45efd29bc39d883585111ec8ba34eb63b90a7\n",
            "  Stored in directory: /root/.cache/pip/wheels/e2/47/9f/de01f291cfde341b33383bcf1292b17d64c700d4a12b318a7d\n",
            "Successfully built spectrum easydev\n",
            "Installing collected packages: colorlog, colorama, shortuuid, easydev, bidict, spectrum, biosppy, pyhrv\n",
            "Successfully installed bidict-0.22.0 biosppy-1.0.0 colorama-0.4.6 colorlog-6.7.0 easydev-0.12.0 pyhrv-0.4.1 shortuuid-1.0.11 spectrum-0.8.1\n"
          ]
        }
      ]
    },
    {
      "cell_type": "markdown",
      "source": [
        "#### load dataframe"
      ],
      "metadata": {
        "id": "abG7IHB09yUt"
      }
    },
    {
      "cell_type": "code",
      "source": [
        "from google.colab import drive\n",
        "drive.mount('/content/drive')"
      ],
      "metadata": {
        "colab": {
          "base_uri": "https://localhost:8080/"
        },
        "id": "tY_09Ta8_3XD",
        "outputId": "b62cfa89-7b49-46d0-ba9e-e6b06fd4bd24"
      },
      "execution_count": null,
      "outputs": [
        {
          "output_type": "stream",
          "name": "stdout",
          "text": [
            "Drive already mounted at /content/drive; to attempt to forcibly remount, call drive.mount(\"/content/drive\", force_remount=True).\n"
          ]
        }
      ]
    },
    {
      "cell_type": "code",
      "source": [
        "import numpy as np\n",
        "import pandas as pd\n",
        "import matplotlib.pyplot as plt\n",
        "from matplotlib.patches import Ellipse\n",
        "\n",
        "ppg_simulated=pd.read_csv('/content/drive/MyDrive/final-project-tesis/TESIS-INDIFFERENT/data-sampel-peak-s1870.csv', header=None)\n",
        "plt.figure(figsize=(20,5))\n",
        "plt.plot(ppg_simulated)\n",
        "plt.show()"
      ],
      "metadata": {
        "colab": {
          "base_uri": "https://localhost:8080/",
          "height": 306
        },
        "id": "20kHdN9f90eU",
        "outputId": "bcb0182a-256c-4d4f-fd8c-05ecee285c18"
      },
      "execution_count": null,
      "outputs": [
        {
          "output_type": "display_data",
          "data": {
            "text/plain": [
              "<Figure size 1440x360 with 1 Axes>"
            ],
            "image/png": "[encoded data removed]"
          },
          "metadata": {
            "needs_background": "light"
          }
        }
      ]
    },
    {
      "cell_type": "code",
      "source": [
        "df = ppg_simulated\n",
        "df.head()"
      ],
      "metadata": {
        "colab": {
          "base_uri": "https://localhost:8080/",
          "height": 206
        },
        "id": "C0LjLvjl94MM",
        "outputId": "0f560f02-c2fa-4d75-9d61-d3311238939f"
      },
      "execution_count": null,
      "outputs": [
        {
          "output_type": "execute_result",
          "data": {
            "text/plain": [
              "          0         1          2\n",
              "0  0.449507  0.391007  85.071763\n",
              "1  0.460591  0.389052  87.223003\n",
              "2  0.444581  0.387097  88.787542\n",
              "3  0.460591  0.385142  89.960945\n",
              "4  0.449507  0.382209  90.743214"
            ],
            "text/html": [
              "\n",
              "  <div id=\"df-03fbe024-7c2a-4a93-9bd5-37aa2574ebd0\">\n",
              "    <div class=\"colab-df-container\">\n",
              "      <div>\n",
              "<style scoped>\n",
              "    .dataframe tbody tr th:only-of-type {\n",
              "        vertical-align: middle;\n",
              "    }\n",
              "\n",
              "    .dataframe tbody tr th {\n",
              "        vertical-align: top;\n",
              "    }\n",
              "\n",
              "    .dataframe thead th {\n",
              "        text-align: right;\n",
              "    }\n",
              "</style>\n",
              "<table border=\"1\" class=\"dataframe\">\n",
              "  <thead>\n",
              "    <tr style=\"text-align: right;\">\n",
              "      <th></th>\n",
              "      <th>0</th>\n",
              "      <th>1</th>\n",
              "      <th>2</th>\n",
              "    </tr>\n",
              "  </thead>\n",
              "  <tbody>\n",
              "    <tr>\n",
              "      <th>0</th>\n",
              "      <td>0.449507</td>\n",
              "      <td>0.391007</td>\n",
              "      <td>85.071763</td>\n",
              "    </tr>\n",
              "    <tr>\n",
              "      <th>1</th>\n",
              "      <td>0.460591</td>\n",
              "      <td>0.389052</td>\n",
              "      <td>87.223003</td>\n",
              "    </tr>\n",
              "    <tr>\n",
              "      <th>2</th>\n",
              "      <td>0.444581</td>\n",
              "      <td>0.387097</td>\n",
              "      <td>88.787542</td>\n",
              "    </tr>\n",
              "    <tr>\n",
              "      <th>3</th>\n",
              "      <td>0.460591</td>\n",
              "      <td>0.385142</td>\n",
              "      <td>89.960945</td>\n",
              "    </tr>\n",
              "    <tr>\n",
              "      <th>4</th>\n",
              "      <td>0.449507</td>\n",
              "      <td>0.382209</td>\n",
              "      <td>90.743214</td>\n",
              "    </tr>\n",
              "  </tbody>\n",
              "</table>\n",
              "</div>\n",
              "      <button class=\"colab-df-convert\" onclick=\"convertToInteractive('df-03fbe024-7c2a-4a93-9bd5-37aa2574ebd0')\"\n",
              "              title=\"Convert this dataframe to an interactive table.\"\n",
              "              style=\"display:none;\">\n",
              "        \n",
              "  <svg xmlns=\"http://www.w3.org/2000/svg\" height=\"24px\"viewBox=\"0 0 24 24\"\n",
              "       width=\"24px\">\n",
              "    <path d=\"M0 0h24v24H0V0z\" fill=\"none\"/>\n",
              "    <path d=\"M18.56 5.44l.94 2.06.94-2.06 2.06-.94-2.06-.94-.94-2.06-.94 2.06-2.06.94zm-11 1L8.5 8.5l.94-2.06 2.06-.94-2.06-.94L8.5 2.5l-.94 2.06-2.06.94zm10 10l.94 2.06.94-2.06 2.06-.94-2.06-.94-.94-2.06-.94 2.06-2.06.94z\"/><path d=\"M17.41 7.96l-1.37-1.37c-.4-.4-.92-.59-1.43-.59-.52 0-1.04.2-1.43.59L10.3 9.45l-7.72 7.72c-.78.78-.78 2.05 0 2.83L4 21.41c.39.39.9.59 1.41.59.51 0 1.02-.2 1.41-.59l7.78-7.78 2.81-2.81c.8-.78.8-2.07 0-2.86zM5.41 20L4 18.59l7.72-7.72 1.47 1.35L5.41 20z\"/>\n",
              "  </svg>\n",
              "      </button>\n",
              "      \n",
              "  <style>\n",
              "    .colab-df-container {\n",
              "      display:flex;\n",
              "      flex-wrap:wrap;\n",
              "      gap: 12px;\n",
              "    }\n",
              "\n",
              "    .colab-df-convert {\n",
              "      background-color: #E8F0FE;\n",
              "      border: none;\n",
              "      border-radius: 50%;\n",
              "      cursor: pointer;\n",
              "      display: none;\n",
              "      fill: #1967D2;\n",
              "      height: 32px;\n",
              "      padding: 0 0 0 0;\n",
              "      width: 32px;\n",
              "    }\n",
              "\n",
              "    .colab-df-convert:hover {\n",
              "      background-color: #E2EBFA;\n",
              "      box-shadow: 0px 1px 2px rgba(60, 64, 67, 0.3), 0px 1px 3px 1px rgba(60, 64, 67, 0.15);\n",
              "      fill: #174EA6;\n",
              "    }\n",
              "\n",
              "    [theme=dark] .colab-df-convert {\n",
              "      background-color: #3B4455;\n",
              "      fill: #D2E3FC;\n",
              "    }\n",
              "\n",
              "    [theme=dark] .colab-df-convert:hover {\n",
              "      background-color: #434B5C;\n",
              "      box-shadow: 0px 1px 3px 1px rgba(0, 0, 0, 0.15);\n",
              "      filter: drop-shadow(0px 1px 2px rgba(0, 0, 0, 0.3));\n",
              "      fill: #FFFFFF;\n",
              "    }\n",
              "  </style>\n",
              "\n",
              "      <script>\n",
              "        const buttonEl =\n",
              "          document.querySelector('#df-03fbe024-7c2a-4a93-9bd5-37aa2574ebd0 button.colab-df-convert');\n",
              "        buttonEl.style.display =\n",
              "          google.colab.kernel.accessAllowed ? 'block' : 'none';\n",
              "\n",
              "        async function convertToInteractive(key) {\n",
              "          const element = document.querySelector('#df-03fbe024-7c2a-4a93-9bd5-37aa2574ebd0');\n",
              "          const dataTable =\n",
              "            await google.colab.kernel.invokeFunction('convertToInteractive',\n",
              "                                                     [key], {});\n",
              "          if (!dataTable) return;\n",
              "\n",
              "          const docLinkHtml = 'Like what you see? Visit the ' +\n",
              "            '<a target=\"_blank\" href=https://colab.research.google.com/notebooks/data_table.ipynb>data table notebook</a>'\n",
              "            + ' to learn more about interactive tables.';\n",
              "          element.innerHTML = '';\n",
              "          dataTable['output_type'] = 'display_data';\n",
              "          await google.colab.output.renderOutput(dataTable, element);\n",
              "          const docLink = document.createElement('div');\n",
              "          docLink.innerHTML = docLinkHtml;\n",
              "          element.appendChild(docLink);\n",
              "        }\n",
              "      </script>\n",
              "    </div>\n",
              "  </div>\n",
              "  "
            ]
          },
          "metadata": {},
          "execution_count": 5
        }
      ]
    },
    {
      "cell_type": "markdown",
      "source": [
        "#### print df"
      ],
      "metadata": {
        "id": "g3Gpaasi97LH"
      }
    },
    {
      "cell_type": "code",
      "source": [
        "df1 = df[0] #EKG\n",
        "ppg = df[1] #PPG\n",
        "df3 = df[2] #BP\n",
        "\n",
        "plt.figure(figsize=(10, 5))\n",
        "plt.plot(df3)"
      ],
      "metadata": {
        "colab": {
          "base_uri": "https://localhost:8080/",
          "height": 338
        },
        "id": "1l4tGHn399hW",
        "outputId": "dc28aabf-2950-423d-86bd-eb74244b0693"
      },
      "execution_count": null,
      "outputs": [
        {
          "output_type": "execute_result",
          "data": {
            "text/plain": [
              "[<matplotlib.lines.Line2D at 0x7fe3b06f3760>]"
            ]
          },
          "metadata": {},
          "execution_count": 7
        },
        {
          "output_type": "display_data",
          "data": {
            "text/plain": [
              "<Figure size 720x360 with 1 Axes>"
            ],
            "image/png": "[encoded data removed]"
          },
          "metadata": {
            "needs_background": "light"
          }
        }
      ]
    },
    {
      "cell_type": "markdown",
      "source": [
        "#### find peak"
      ],
      "metadata": {
        "id": "pcREr_gQ7iOR"
      }
    },
    {
      "cell_type": "code",
      "source": [
        "import matplotlib.pyplot as plt\n",
        "import seaborn as sns\n",
        "from scipy.signal import find_peaks\n",
        "from scipy import signal\n",
        "from scipy.integrate import trapz\n",
        "from scipy.interpolate import interp1d\n",
        "import seaborn as sns"
      ],
      "metadata": {
        "id": "IZ4x5MgV7vtc"
      },
      "execution_count": null,
      "outputs": []
    },
    {
      "cell_type": "code",
      "source": [
        "# FIND PEAK BP\n",
        "long = len(ppg)\n",
        "long\n",
        "long1 = long-1\n",
        "long1\n",
        "\n",
        "# x and y definition\n",
        "x= np.linspace(0,long1,long) \n",
        "y= ppg\n",
        "#find peak\n",
        "peaks = find_peaks(y, height=0.5, threshold=0, distance=10)\n",
        "height = peaks[1]['peak_heights']\n",
        "peak_post= x[peaks[0]]\n",
        "#print(\"posisi titik puncak :\", peak_post)\n",
        "#print(height)\n",
        "#rata-rata puncak\n",
        "average = sum(height)/len(height)\n",
        "print(\"rata-rata siastol:\", average)\n",
        "#menemukan nilai minimum\n",
        "y2=y*-1\n",
        "minima=find_peaks(y2)\n",
        "min_pos=x[minima[0]]\n",
        "min_height=y2[minima[0]]\n",
        "averages = sum(min_height)*-1/len(min_height)\n",
        "print(\"rata-rata diastol : \", averages)\n",
        "\n",
        "# distance\n",
        "peak_coordinate=peak_post\n",
        "data1=peak_coordinate[1:]\n",
        "#data titik ke1-39\n",
        "data2=peak_coordinate[:-1]\n",
        "#jarak antar puncak (pengurangan array)\n",
        "distance= data1-data2\n",
        "#mencari rata-rata jarak\n",
        "total = np.sum(distance)\n",
        "totaldistance = total\n",
        "average= totaldistance/len(distance)\n"
      ],
      "metadata": {
        "colab": {
          "base_uri": "https://localhost:8080/"
        },
        "id": "bukiQNmG82c7",
        "outputId": "e1e48e55-59f5-4cf6-98c1-bb21424603ab"
      },
      "execution_count": null,
      "outputs": [
        {
          "output_type": "stream",
          "name": "stdout",
          "text": [
            "rata-rata siastol: 0.65200391\n",
            "rata-rata diastol :  0.31899641600000006\n"
          ]
        }
      ]
    },
    {
      "cell_type": "markdown",
      "source": [
        "#### ploting find peaks"
      ],
      "metadata": {
        "id": "8-GaooQA-NQE"
      }
    },
    {
      "cell_type": "code",
      "source": [
        "#plotting\n",
        "fig = plt.figure(figsize=(10,5))\n",
        "ax= fig.subplots()\n",
        "ax.plot(x,y)\n",
        "ax.scatter(peak_post, height, color='r', s=15, marker='D', label='puncak')\n",
        "ax.scatter(min_pos, min_height*-1, color='gold', s=15, marker='X', label='minimal')\n",
        "ax.legend()\n",
        "# ax.grid()\n",
        "plt.show() "
      ],
      "metadata": {
        "colab": {
          "base_uri": "https://localhost:8080/",
          "height": 320
        },
        "id": "nk6u_OVh-P-B",
        "outputId": "94f52810-aedd-41c3-8773-8ae7ac8b3cc2"
      },
      "execution_count": null,
      "outputs": [
        {
          "output_type": "display_data",
          "data": {
            "text/plain": [
              "<Figure size 720x360 with 1 Axes>"
            ],
            "image/png": "[encoded data removed]"
          },
          "metadata": {
            "needs_background": "light"
          }
        }
      ]
    },
    {
      "cell_type": "code",
      "source": [
        "# FIND PEAK BP\n",
        "long = len(ppg)\n",
        "long\n",
        "long1 = long-1\n",
        "long1\n",
        "\n",
        "# x and y definition\n",
        "x= np.linspace(0,long1,long) \n",
        "y= ppg\n",
        "#find peak\n",
        "peaks = find_peaks(y, height=0.5, threshold=0, distance=10)\n",
        "height = peaks[1]['peak_heights']\n",
        "peak_post= x[peaks[0]]\n",
        "#print(\"posisi titik puncak :\", peak_post)\n",
        "#print(height)\n",
        "#rata-rata puncak\n",
        "average = sum(height)/len(height)\n",
        "print(\"rata-rata siastol:\", average)\n",
        "#menemukan nilai minimum\n",
        "y2=y*-1\n",
        "minima=find_peaks(y2)\n",
        "min_pos=x[minima[0]]\n",
        "min_height=y2[minima[0]]\n",
        "averages = sum(min_height)*-1/len(min_height)\n",
        "print(\"rata-rata diastol : \", averages)\n",
        "\n",
        "# distance\n",
        "peak_coordinate=peak_post\n",
        "data1=peak_coordinate[1:]\n",
        "#data titik ke1-39\n",
        "data2=peak_coordinate[:-1]\n",
        "#jarak antar puncak (pengurangan array)\n",
        "distance= data1-data2\n",
        "#mencari rata-rata jarak\n",
        "total = np.sum(distance)\n",
        "totaldistance = total\n",
        "average= totaldistance/len(distance)\n",
        "\n",
        "#plotting\n",
        "fig = plt.figure(figsize=(20,5))\n",
        "ax= fig.subplots()\n",
        "ax.plot(x,y)\n",
        "ax.scatter(peak_post, height, color='r', s=15, marker='D', label='puncak BP')\n",
        "ax.scatter(min_pos, min_height*-1, color='gold', s=15, marker='X', label='minimal')\n",
        "ax.legend()\n",
        "ax.grid()\n",
        "plt.show() "
      ],
      "metadata": {
        "id": "L9A8iL_sMTqK"
      },
      "execution_count": null,
      "outputs": []
    }
  ]
}